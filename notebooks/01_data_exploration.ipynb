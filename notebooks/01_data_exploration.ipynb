{
 "cells": [
  {
   "cell_type": "markdown",
   "id": "41c5d4b8-93a7-4c50-96c7-8be4d52b726d",
   "metadata": {},
   "source": [
    "# 🌍 Air Quality Data Exploration\n",
    "\n",
    "**Project:** Real-Time Air Quality Index Predictor\n",
    "\n",
    "**Phase:** 2 - Exploratory Data Analysis\n",
    "\n",
    "**Objective:** Understand the structure, quality, and basic patterns in our collected air quality data.\n",
    "\n",
    "---\n",
    "\n",
    "## 📋 Contents\n",
    "1. Setup & Data Loading\n",
    "2. Data Overview\n",
    "3. Data Quality Assessment\n",
    "4. Basic Statistics\n",
    "5. City-Level Analysis\n",
    "6. Temporal Patterns\n",
    "7. Initial Insights"
   ]
  },
  {
   "cell_type": "markdown",
   "id": "3a8620e4-3f72-4327-968a-caf01f651241",
   "metadata": {},
   "source": [
    "## 1. Setup & Data Loading"
   ]
  },
  {
   "cell_type": "code",
   "execution_count": 1,
   "id": "9ddd97b8-d6da-4e10-a044-6920f12ba552",
   "metadata": {},
   "outputs": [
    {
     "name": "stdout",
     "output_type": "stream",
     "text": [
      "\u001b[32m2025-10-30 10:44:53\u001b[0m | \u001b[1mINFO    \u001b[0m | \u001b[36msrc.utils.logger\u001b[0m:\u001b[36msetup\u001b[0m:\u001b[36m103\u001b[0m | \u001b[1mLogging system initialized\u001b[0m\n",
      "\u001b[32m2025-10-30 10:44:53\u001b[0m | \u001b[1mINFO    \u001b[0m | \u001b[36msrc.utils.logger\u001b[0m:\u001b[36msetup\u001b[0m:\u001b[36m104\u001b[0m | \u001b[1mLog level: INFO\u001b[0m\n",
      "\u001b[32m2025-10-30 10:44:53\u001b[0m | \u001b[1mINFO    \u001b[0m | \u001b[36msrc.utils.logger\u001b[0m:\u001b[36msetup\u001b[0m:\u001b[36m106\u001b[0m | \u001b[1mLog directory: /Users/davideferreri/Documents/GitHub/City-Air-Quality-Index-Predictor-with-Live-Data-Pipeline/data/logs\u001b[0m\n",
      "✅ Libraries imported successfully!\n",
      "📁 Project root: /Users/davideferreri/Documents/GitHub/City-Air-Quality-Index-Predictor-with-Live-Data-Pipeline\n"
     ]
    }
   ],
   "source": [
    "# Standard imports\n",
    "import sys\n",
    "from pathlib import Path\n",
    "\n",
    "# Add project root to path\n",
    "project_root = Path.cwd().parent if 'notebooks' in str(Path.cwd()) else Path.cwd()\n",
    "sys.path.insert(0, str(project_root))\n",
    "\n",
    "# Data manipulation\n",
    "import pandas as pd\n",
    "import numpy as np\n",
    "\n",
    "# Visualization\n",
    "import matplotlib.pyplot as plt\n",
    "import seaborn as sns\n",
    "import plotly.express as px\n",
    "import plotly.graph_objects as go\n",
    "from plotly.subplots import make_subplots\n",
    "\n",
    "# Date/time handling\n",
    "from datetime import datetime, timedelta\n",
    "\n",
    "# Project modules\n",
    "from src.data.cleaners import DataCleaner\n",
    "from src.utils.config import get_config\n",
    "\n",
    "# Configure visualization\n",
    "plt.style.use('seaborn-v0_8-darkgrid')\n",
    "sns.set_palette(\"husl\")\n",
    "%matplotlib inline\n",
    "\n",
    "# Display options\n",
    "pd.set_option('display.max_columns', None)\n",
    "pd.set_option('display.max_rows', 100)\n",
    "pd.set_option('display.float_format', '{:.2f}'.format)\n",
    "\n",
    "print(\"✅ Libraries imported successfully!\")\n",
    "print(f\"📁 Project root: {project_root}\")\n"
   ]
  },
  {
   "cell_type": "code",
   "execution_count": 2,
   "id": "40cf64b6-0047-4541-aa2f-b389e3845f0c",
   "metadata": {},
   "outputs": [
    {
     "name": "stdout",
     "output_type": "stream",
     "text": [
      "Loading data...\n",
      "\u001b[32m2025-10-30 10:44:53\u001b[0m | \u001b[1mINFO    \u001b[0m | \u001b[36msrc.data.cleaners\u001b[0m:\u001b[36m__init__\u001b[0m:\u001b[36m62\u001b[0m | \u001b[1mDataCleaner initialized\u001b[0m\n",
      "\u001b[32m2025-10-30 10:44:53\u001b[0m | \u001b[1mINFO    \u001b[0m | \u001b[36msrc.data.cleaners\u001b[0m:\u001b[36mload_all_raw_data\u001b[0m:\u001b[36m108\u001b[0m | \u001b[1mFound 63 raw data files\u001b[0m\n",
      "\u001b[32m2025-10-30 10:44:53\u001b[0m | \u001b[1mINFO    \u001b[0m | \u001b[36msrc.data.cleaners\u001b[0m:\u001b[36mload_all_raw_data\u001b[0m:\u001b[36m135\u001b[0m | \u001b[1mRemoved 18 duplicate records\u001b[0m\n",
      "\u001b[32m2025-10-30 10:44:53\u001b[0m | \u001b[1mINFO    \u001b[0m | \u001b[36msrc.data.cleaners\u001b[0m:\u001b[36mload_all_raw_data\u001b[0m:\u001b[36m137\u001b[0m | \u001b[1mCombined dataset: 360 records\u001b[0m\n",
      "✅ Loaded 360 raw records\n",
      "\n",
      "Cleaning data...\n",
      "\u001b[32m2025-10-30 10:44:53\u001b[0m | \u001b[1mINFO    \u001b[0m | \u001b[36msrc.data.cleaners\u001b[0m:\u001b[36mclean_data\u001b[0m:\u001b[36m367\u001b[0m | \u001b[1mStarting data cleaning pipeline\u001b[0m\n",
      "\u001b[32m2025-10-30 10:44:53\u001b[0m | \u001b[1mINFO    \u001b[0m | \u001b[36msrc.data.cleaners\u001b[0m:\u001b[36mclean_data\u001b[0m:\u001b[36m368\u001b[0m | \u001b[1mInput: 360 records, 14 columns\u001b[0m\n",
      "\u001b[32m2025-10-30 10:44:53\u001b[0m | \u001b[1mINFO    \u001b[0m | \u001b[36msrc.data.cleaners\u001b[0m:\u001b[36mvalidate_schema\u001b[0m:\u001b[36m167\u001b[0m | \u001b[1mSchema validation passed\u001b[0m\n",
      "\u001b[32m2025-10-30 10:44:53\u001b[0m | \u001b[1mINFO    \u001b[0m | \u001b[36msrc.data.cleaners\u001b[0m:\u001b[36mvalidate_data_ranges\u001b[0m:\u001b[36m185\u001b[0m | \u001b[1mValidating data ranges\u001b[0m\n",
      "\u001b[32m2025-10-30 10:44:53\u001b[0m | \u001b[1mINFO    \u001b[0m | \u001b[36msrc.data.cleaners\u001b[0m:\u001b[36mhandle_missing_values\u001b[0m:\u001b[36m232\u001b[0m | \u001b[1mHandling missing values\u001b[0m\n",
      "\u001b[32m2025-10-30 10:44:53\u001b[0m | \u001b[1mINFO    \u001b[0m | \u001b[36msrc.data.cleaners\u001b[0m:\u001b[36mdetect_outliers\u001b[0m:\u001b[36m281\u001b[0m | \u001b[1mDetecting outliers using iqr method\u001b[0m\n",
      "\u001b[32m2025-10-30 10:44:53\u001b[0m | \u001b[1mINFO    \u001b[0m | \u001b[36msrc.data.cleaners\u001b[0m:\u001b[36mdetect_outliers\u001b[0m:\u001b[36m299\u001b[0m | \u001b[1mpm2_5: 39 outliers detected\u001b[0m\n",
      "\u001b[32m2025-10-30 10:44:53\u001b[0m | \u001b[1mINFO    \u001b[0m | \u001b[36msrc.data.cleaners\u001b[0m:\u001b[36mdetect_outliers\u001b[0m:\u001b[36m299\u001b[0m | \u001b[1mpm10: 25 outliers detected\u001b[0m\n",
      "\u001b[32m2025-10-30 10:44:53\u001b[0m | \u001b[1mINFO    \u001b[0m | \u001b[36msrc.data.cleaners\u001b[0m:\u001b[36mdetect_outliers\u001b[0m:\u001b[36m299\u001b[0m | \u001b[1mno2: 31 outliers detected\u001b[0m\n",
      "\u001b[32m2025-10-30 10:44:53\u001b[0m | \u001b[1mINFO    \u001b[0m | \u001b[36msrc.data.cleaners\u001b[0m:\u001b[36mdetect_outliers\u001b[0m:\u001b[36m299\u001b[0m | \u001b[1mo3: 2 outliers detected\u001b[0m\n",
      "\u001b[32m2025-10-30 10:44:53\u001b[0m | \u001b[1mINFO    \u001b[0m | \u001b[36msrc.data.cleaners\u001b[0m:\u001b[36mdetect_outliers\u001b[0m:\u001b[36m299\u001b[0m | \u001b[1mco: 63 outliers detected\u001b[0m\n",
      "\u001b[32m2025-10-30 10:44:53\u001b[0m | \u001b[1mINFO    \u001b[0m | \u001b[36msrc.data.cleaners\u001b[0m:\u001b[36mdetect_outliers\u001b[0m:\u001b[36m299\u001b[0m | \u001b[1mso2: 4 outliers detected\u001b[0m\n",
      "\u001b[32m2025-10-30 10:44:53\u001b[0m | \u001b[1mINFO    \u001b[0m | \u001b[36msrc.data.cleaners\u001b[0m:\u001b[36madd_derived_features\u001b[0m:\u001b[36m317\u001b[0m | \u001b[1mAdding derived features\u001b[0m\n",
      "\u001b[32m2025-10-30 10:44:53\u001b[0m | \u001b[1mINFO    \u001b[0m | \u001b[36msrc.data.cleaners\u001b[0m:\u001b[36madd_derived_features\u001b[0m:\u001b[36m344\u001b[0m | \u001b[1mAdded 5 derived features\u001b[0m\n",
      "\u001b[32m2025-10-30 10:44:53\u001b[0m | \u001b[1mINFO    \u001b[0m | \u001b[36msrc.data.cleaners\u001b[0m:\u001b[36mclean_data\u001b[0m:\u001b[36m382\u001b[0m | \u001b[1mOutput: 360 records, 21 columns\u001b[0m\n",
      "\u001b[32m2025-10-30 10:44:53\u001b[0m | \u001b[1mINFO    \u001b[0m | \u001b[36msrc.data.cleaners\u001b[0m:\u001b[36mclean_data\u001b[0m:\u001b[36m383\u001b[0m | \u001b[1mData cleaning pipeline completed\u001b[0m\n",
      "✅ Cleaned dataset: 360 records\n",
      "📊 Data shape: (360, 21)\n",
      "🌍 Cities: 6\n"
     ]
    },
    {
     "name": "stderr",
     "output_type": "stream",
     "text": [
      "/Users/davideferreri/Documents/GitHub/City-Air-Quality-Index-Predictor-with-Live-Data-Pipeline/src/data/cleaners.py:250: FutureWarning: DataFrame.fillna with 'method' is deprecated and will raise in a future version. Use obj.ffill() or obj.bfill() instead.\n",
      "  df.loc[city_mask, pollutant_cols] = df.loc[city_mask, pollutant_cols].fillna(method='ffill', limit=3)\n",
      "/Users/davideferreri/Documents/GitHub/City-Air-Quality-Index-Predictor-with-Live-Data-Pipeline/src/data/cleaners.py:250: FutureWarning: DataFrame.fillna with 'method' is deprecated and will raise in a future version. Use obj.ffill() or obj.bfill() instead.\n",
      "  df.loc[city_mask, pollutant_cols] = df.loc[city_mask, pollutant_cols].fillna(method='ffill', limit=3)\n",
      "/Users/davideferreri/Documents/GitHub/City-Air-Quality-Index-Predictor-with-Live-Data-Pipeline/src/data/cleaners.py:250: FutureWarning: DataFrame.fillna with 'method' is deprecated and will raise in a future version. Use obj.ffill() or obj.bfill() instead.\n",
      "  df.loc[city_mask, pollutant_cols] = df.loc[city_mask, pollutant_cols].fillna(method='ffill', limit=3)\n",
      "/Users/davideferreri/Documents/GitHub/City-Air-Quality-Index-Predictor-with-Live-Data-Pipeline/src/data/cleaners.py:250: FutureWarning: DataFrame.fillna with 'method' is deprecated and will raise in a future version. Use obj.ffill() or obj.bfill() instead.\n",
      "  df.loc[city_mask, pollutant_cols] = df.loc[city_mask, pollutant_cols].fillna(method='ffill', limit=3)\n",
      "/Users/davideferreri/Documents/GitHub/City-Air-Quality-Index-Predictor-with-Live-Data-Pipeline/src/data/cleaners.py:250: FutureWarning: DataFrame.fillna with 'method' is deprecated and will raise in a future version. Use obj.ffill() or obj.bfill() instead.\n",
      "  df.loc[city_mask, pollutant_cols] = df.loc[city_mask, pollutant_cols].fillna(method='ffill', limit=3)\n",
      "/Users/davideferreri/Documents/GitHub/City-Air-Quality-Index-Predictor-with-Live-Data-Pipeline/src/data/cleaners.py:250: FutureWarning: DataFrame.fillna with 'method' is deprecated and will raise in a future version. Use obj.ffill() or obj.bfill() instead.\n",
      "  df.loc[city_mask, pollutant_cols] = df.loc[city_mask, pollutant_cols].fillna(method='ffill', limit=3)\n"
     ]
    }
   ],
   "source": [
    "# Load data\n",
    "print(\"Loading data...\")\n",
    "\n",
    "cleaner = DataCleaner()\n",
    "df_raw = cleaner.load_all_raw_data()\n",
    "\n",
    "print(f\"✅ Loaded {len(df_raw)} raw records\")\n",
    "\n",
    "# Clean data\n",
    "print(\"\\nCleaning data...\")\n",
    "df = cleaner.clean_data(df_raw)\n",
    "\n",
    "print(f\"✅ Cleaned dataset: {len(df)} records\")\n",
    "print(f\"📊 Data shape: {df.shape}\")\n",
    "print(f\"🌍 Cities: {df['city_name'].nunique()}\")"
   ]
  },
  {
   "cell_type": "markdown",
   "id": "3d69b7f0-e67a-4c67-b3a3-a0b35a92079a",
   "metadata": {},
   "source": [
    "## 2. Data Overview"
   ]
  },
  {
   "cell_type": "code",
   "execution_count": 3,
   "id": "49667434-acbc-4dd8-ad79-8d3605c1c363",
   "metadata": {},
   "outputs": [
    {
     "name": "stdout",
     "output_type": "stream",
     "text": [
      "================================================================================\n",
      "FIRST 5 RECORDS\n",
      "================================================================================\n"
     ]
    },
    {
     "data": {
      "text/html": [
       "<div>\n",
       "<style scoped>\n",
       "    .dataframe tbody tr th:only-of-type {\n",
       "        vertical-align: middle;\n",
       "    }\n",
       "\n",
       "    .dataframe tbody tr th {\n",
       "        vertical-align: top;\n",
       "    }\n",
       "\n",
       "    .dataframe thead th {\n",
       "        text-align: right;\n",
       "    }\n",
       "</style>\n",
       "<table border=\"1\" class=\"dataframe\">\n",
       "  <thead>\n",
       "    <tr style=\"text-align: right;\">\n",
       "      <th></th>\n",
       "      <th>timestamp</th>\n",
       "      <th>city_key</th>\n",
       "      <th>city_name</th>\n",
       "      <th>country</th>\n",
       "      <th>fetch_timestamp</th>\n",
       "      <th>aqi</th>\n",
       "      <th>co</th>\n",
       "      <th>no</th>\n",
       "      <th>no2</th>\n",
       "      <th>o3</th>\n",
       "      <th>so2</th>\n",
       "      <th>pm2_5</th>\n",
       "      <th>pm10</th>\n",
       "      <th>nh3</th>\n",
       "      <th>hour</th>\n",
       "      <th>day_of_week</th>\n",
       "      <th>month</th>\n",
       "      <th>year</th>\n",
       "      <th>is_weekend</th>\n",
       "      <th>aqi_category</th>\n",
       "      <th>pm_total</th>\n",
       "    </tr>\n",
       "  </thead>\n",
       "  <tbody>\n",
       "    <tr>\n",
       "      <th>45</th>\n",
       "      <td>2025-10-22 10:36:28</td>\n",
       "      <td>sydney</td>\n",
       "      <td>Sydney</td>\n",
       "      <td>Australia</td>\n",
       "      <td>2025-10-22T10:41:20.815949</td>\n",
       "      <td>2</td>\n",
       "      <td>102.57</td>\n",
       "      <td>0.10</td>\n",
       "      <td>1.06</td>\n",
       "      <td>65.38</td>\n",
       "      <td>0.66</td>\n",
       "      <td>9.03</td>\n",
       "      <td>22.71</td>\n",
       "      <td>0.39</td>\n",
       "      <td>10</td>\n",
       "      <td>2</td>\n",
       "      <td>10</td>\n",
       "      <td>2025</td>\n",
       "      <td>0</td>\n",
       "      <td>Fair</td>\n",
       "      <td>31.74</td>\n",
       "    </tr>\n",
       "    <tr>\n",
       "      <th>44</th>\n",
       "      <td>2025-10-22 10:38:46</td>\n",
       "      <td>sao_paulo</td>\n",
       "      <td>São Paulo</td>\n",
       "      <td>Brazil</td>\n",
       "      <td>2025-10-22T10:41:20.209305</td>\n",
       "      <td>1</td>\n",
       "      <td>67.99</td>\n",
       "      <td>0.00</td>\n",
       "      <td>0.49</td>\n",
       "      <td>53.78</td>\n",
       "      <td>0.26</td>\n",
       "      <td>1.00</td>\n",
       "      <td>3.52</td>\n",
       "      <td>0.10</td>\n",
       "      <td>10</td>\n",
       "      <td>2</td>\n",
       "      <td>10</td>\n",
       "      <td>2025</td>\n",
       "      <td>0</td>\n",
       "      <td>Good</td>\n",
       "      <td>4.52</td>\n",
       "    </tr>\n",
       "    <tr>\n",
       "      <th>42</th>\n",
       "      <td>2025-10-22 10:41:18</td>\n",
       "      <td>bangkok</td>\n",
       "      <td>Bangkok</td>\n",
       "      <td>Thailand</td>\n",
       "      <td>2025-10-22T10:41:18.811048</td>\n",
       "      <td>3</td>\n",
       "      <td>383.91</td>\n",
       "      <td>0.24</td>\n",
       "      <td>4.72</td>\n",
       "      <td>97.71</td>\n",
       "      <td>5.06</td>\n",
       "      <td>29.58</td>\n",
       "      <td>37.03</td>\n",
       "      <td>3.00</td>\n",
       "      <td>10</td>\n",
       "      <td>2</td>\n",
       "      <td>10</td>\n",
       "      <td>2025</td>\n",
       "      <td>0</td>\n",
       "      <td>Moderate</td>\n",
       "      <td>66.61</td>\n",
       "    </tr>\n",
       "    <tr>\n",
       "      <th>43</th>\n",
       "      <td>2025-10-22 10:41:19</td>\n",
       "      <td>durban</td>\n",
       "      <td>Durban</td>\n",
       "      <td>South Africa</td>\n",
       "      <td>2025-10-22T10:41:19.610936</td>\n",
       "      <td>2</td>\n",
       "      <td>206.52</td>\n",
       "      <td>0.03</td>\n",
       "      <td>3.65</td>\n",
       "      <td>47.33</td>\n",
       "      <td>3.02</td>\n",
       "      <td>15.64</td>\n",
       "      <td>24.98</td>\n",
       "      <td>1.85</td>\n",
       "      <td>10</td>\n",
       "      <td>2</td>\n",
       "      <td>10</td>\n",
       "      <td>2025</td>\n",
       "      <td>0</td>\n",
       "      <td>Fair</td>\n",
       "      <td>40.62</td>\n",
       "    </tr>\n",
       "    <tr>\n",
       "      <th>46</th>\n",
       "      <td>2025-10-22 10:41:21</td>\n",
       "      <td>london</td>\n",
       "      <td>London</td>\n",
       "      <td>United Kingdom</td>\n",
       "      <td>2025-10-22T10:41:21.586940</td>\n",
       "      <td>2</td>\n",
       "      <td>98.72</td>\n",
       "      <td>0.00</td>\n",
       "      <td>2.54</td>\n",
       "      <td>84.77</td>\n",
       "      <td>1.41</td>\n",
       "      <td>0.67</td>\n",
       "      <td>1.34</td>\n",
       "      <td>0.24</td>\n",
       "      <td>10</td>\n",
       "      <td>2</td>\n",
       "      <td>10</td>\n",
       "      <td>2025</td>\n",
       "      <td>0</td>\n",
       "      <td>Fair</td>\n",
       "      <td>2.01</td>\n",
       "    </tr>\n",
       "  </tbody>\n",
       "</table>\n",
       "</div>"
      ],
      "text/plain": [
       "             timestamp   city_key  city_name         country  \\\n",
       "45 2025-10-22 10:36:28     sydney     Sydney       Australia   \n",
       "44 2025-10-22 10:38:46  sao_paulo  São Paulo          Brazil   \n",
       "42 2025-10-22 10:41:18    bangkok    Bangkok        Thailand   \n",
       "43 2025-10-22 10:41:19     durban     Durban    South Africa   \n",
       "46 2025-10-22 10:41:21     london     London  United Kingdom   \n",
       "\n",
       "               fetch_timestamp  aqi     co   no  no2    o3  so2  pm2_5  pm10  \\\n",
       "45  2025-10-22T10:41:20.815949    2 102.57 0.10 1.06 65.38 0.66   9.03 22.71   \n",
       "44  2025-10-22T10:41:20.209305    1  67.99 0.00 0.49 53.78 0.26   1.00  3.52   \n",
       "42  2025-10-22T10:41:18.811048    3 383.91 0.24 4.72 97.71 5.06  29.58 37.03   \n",
       "43  2025-10-22T10:41:19.610936    2 206.52 0.03 3.65 47.33 3.02  15.64 24.98   \n",
       "46  2025-10-22T10:41:21.586940    2  98.72 0.00 2.54 84.77 1.41   0.67  1.34   \n",
       "\n",
       "    nh3  hour  day_of_week  month  year  is_weekend aqi_category  pm_total  \n",
       "45 0.39    10            2     10  2025           0         Fair     31.74  \n",
       "44 0.10    10            2     10  2025           0         Good      4.52  \n",
       "42 3.00    10            2     10  2025           0     Moderate     66.61  \n",
       "43 1.85    10            2     10  2025           0         Fair     40.62  \n",
       "46 0.24    10            2     10  2025           0         Fair      2.01  "
      ]
     },
     "metadata": {},
     "output_type": "display_data"
    }
   ],
   "source": [
    "# First look at the data\n",
    "print(\"=\" * 80)\n",
    "print(\"FIRST 5 RECORDS\")\n",
    "print(\"=\" * 80)\n",
    "display(df.head())"
   ]
  },
  {
   "cell_type": "code",
   "execution_count": 4,
   "id": "f43c01dd-16fb-492f-8da9-518766a3e972",
   "metadata": {},
   "outputs": [
    {
     "name": "stdout",
     "output_type": "stream",
     "text": [
      "================================================================================\n",
      "DATA STRUCTURE\n",
      "================================================================================\n",
      "\n",
      "Shape: 360 rows × 21 columns\n",
      "\n",
      "Columns and types:\n",
      "timestamp          datetime64[ns]\n",
      "city_key                   object\n",
      "city_name                  object\n",
      "country                    object\n",
      "fetch_timestamp            object\n",
      "aqi                         int64\n",
      "co                        float64\n",
      "no                        float64\n",
      "no2                       float64\n",
      "o3                        float64\n",
      "so2                       float64\n",
      "pm2_5                     float64\n",
      "pm10                      float64\n",
      "nh3                       float64\n",
      "hour                        int32\n",
      "day_of_week                 int32\n",
      "month                       int32\n",
      "year                        int32\n",
      "is_weekend                  int64\n",
      "aqi_category               object\n",
      "pm_total                  float64\n",
      "dtype: object\n",
      "\n",
      "Memory usage: 163.96 KB\n"
     ]
    }
   ],
   "source": [
    "# Data structure\n",
    "print(\"=\" * 80)\n",
    "print(\"DATA STRUCTURE\")\n",
    "print(\"=\" * 80)\n",
    "print(f\"\\nShape: {df.shape[0]} rows × {df.shape[1]} columns\")\n",
    "print(f\"\\nColumns and types:\")\n",
    "print(df.dtypes)\n",
    "\n",
    "print(f\"\\nMemory usage: {df.memory_usage(deep=True).sum() / 1024:.2f} KB\")"
   ]
  },
  {
   "cell_type": "code",
   "execution_count": 5,
   "id": "111d27bc-9db2-4d20-b795-9a5489567e55",
   "metadata": {},
   "outputs": [
    {
     "name": "stdout",
     "output_type": "stream",
     "text": [
      "================================================================================\n",
      "TIME COVERAGE\n",
      "================================================================================\n",
      "\n",
      "First record: 2025-10-22 10:36:28\n",
      "Last record:  2025-10-30 10:01:16\n",
      "Duration:     7 days\n",
      "Total hours:  60\n"
     ]
    }
   ],
   "source": [
    "# Date range\n",
    "df['timestamp'] = pd.to_datetime(df['timestamp'])\n",
    "\n",
    "print(\"=\" * 80)\n",
    "print(\"TIME COVERAGE\")\n",
    "print(\"=\" * 80)\n",
    "print(f\"\\nFirst record: {df['timestamp'].min()}\")\n",
    "print(f\"Last record:  {df['timestamp'].max()}\")\n",
    "print(f\"Duration:     {(df['timestamp'].max() - df['timestamp'].min()).days} days\")\n",
    "print(f\"Total hours:  {len(df) / 6:.0f}\")"
   ]
  },
  {
   "cell_type": "markdown",
   "id": "fa459910-e63a-49e7-a2e5-deef24b473d3",
   "metadata": {},
   "source": [
    "## 3. Data Quality Assessment"
   ]
  },
  {
   "cell_type": "code",
   "execution_count": 6,
   "id": "ca39cbaf-da6d-4660-beb7-1399e76040f2",
   "metadata": {},
   "outputs": [
    {
     "name": "stdout",
     "output_type": "stream",
     "text": [
      "================================================================================\n",
      "MISSING VALUES ANALYSIS\n",
      "================================================================================\n",
      "\n",
      "Missing values per column:\n"
     ]
    },
    {
     "data": {
      "text/html": [
       "<div>\n",
       "<style scoped>\n",
       "    .dataframe tbody tr th:only-of-type {\n",
       "        vertical-align: middle;\n",
       "    }\n",
       "\n",
       "    .dataframe tbody tr th {\n",
       "        vertical-align: top;\n",
       "    }\n",
       "\n",
       "    .dataframe thead th {\n",
       "        text-align: right;\n",
       "    }\n",
       "</style>\n",
       "<table border=\"1\" class=\"dataframe\">\n",
       "  <thead>\n",
       "    <tr style=\"text-align: right;\">\n",
       "      <th></th>\n",
       "      <th>Missing Count</th>\n",
       "      <th>Percentage</th>\n",
       "    </tr>\n",
       "  </thead>\n",
       "  <tbody>\n",
       "  </tbody>\n",
       "</table>\n",
       "</div>"
      ],
      "text/plain": [
       "Empty DataFrame\n",
       "Columns: [Missing Count, Percentage]\n",
       "Index: []"
      ]
     },
     "metadata": {},
     "output_type": "display_data"
    },
    {
     "name": "stdout",
     "output_type": "stream",
     "text": [
      "\n",
      "✅ No missing values! Perfect data quality!\n"
     ]
    }
   ],
   "source": [
    "# Missing values analysis\n",
    "print(\"=\" * 80)\n",
    "print(\"MISSING VALUES ANALYSIS\")\n",
    "print(\"=\" * 80)\n",
    "\n",
    "missing = df.isnull().sum()\n",
    "missing_pct = (missing / len(df) * 100).round(2)\n",
    "\n",
    "missing_df = pd.DataFrame({\n",
    "    'Missing Count': missing,\n",
    "    'Percentage': missing_pct\n",
    "}).sort_values('Missing Count', ascending=False)\n",
    "\n",
    "print(\"\\nMissing values per column:\")\n",
    "display(missing_df[missing_df['Missing Count'] > 0])\n",
    "\n",
    "if missing_df['Missing Count'].sum() == 0:\n",
    "    print(\"\\n✅ No missing values! Perfect data quality!\")\n",
    "else:\n",
    "    print(f\"\\n⚠️  Total missing: {missing_df['Missing Count'].sum()} values\")"
   ]
  },
  {
   "cell_type": "code",
   "execution_count": 7,
   "id": "cab1c000-00c2-4de6-82a3-16edb2be2e1d",
   "metadata": {},
   "outputs": [
    {
     "data": {
      "image/png": "[encoded data removed]",
      "text/plain": [
       "<Figure size 1200x600 with 2 Axes>"
      ]
     },
     "metadata": {},
     "output_type": "display_data"
    },
    {
     "name": "stdout",
     "output_type": "stream",
     "text": [
      "✅ All data present - the heatmap shows complete coverage!\n"
     ]
    }
   ],
   "source": [
    "# Visualize missing data\n",
    "fig, ax = plt.subplots(figsize=(12, 6))\n",
    "\n",
    "# Create heatmap of missing values\n",
    "sns.heatmap(df.isnull(), yticklabels=False, cbar=True, cmap='viridis', ax=ax)\n",
    "ax.set_title('Missing Data Heatmap (Yellow = Missing)', fontsize=14, fontweight='bold')\n",
    "ax.set_xlabel('Columns')\n",
    "\n",
    "plt.tight_layout()\n",
    "plt.show()\n",
    "\n",
    "if df.isnull().sum().sum() == 0:\n",
    "    print(\"✅ All data present - the heatmap shows complete coverage!\")"
   ]
  },
  {
   "cell_type": "markdown",
   "id": "d69ae1a8-3e76-4d1c-b89b-852a9e610dc0",
   "metadata": {},
   "source": [
    "## 4. Basic Statistics"
   ]
  },
  {
   "cell_type": "code",
   "execution_count": 8,
   "id": "a7e788bf-7004-4455-b31c-ef78e1bd96f4",
   "metadata": {},
   "outputs": [
    {
     "name": "stdout",
     "output_type": "stream",
     "text": [
      "================================================================================\n",
      "STATISTICAL SUMMARY - ALL POLLUTANTS\n",
      "================================================================================\n"
     ]
    },
    {
     "data": {
      "text/html": [
       "<div>\n",
       "<style scoped>\n",
       "    .dataframe tbody tr th:only-of-type {\n",
       "        vertical-align: middle;\n",
       "    }\n",
       "\n",
       "    .dataframe tbody tr th {\n",
       "        vertical-align: top;\n",
       "    }\n",
       "\n",
       "    .dataframe thead th {\n",
       "        text-align: right;\n",
       "    }\n",
       "</style>\n",
       "<table border=\"1\" class=\"dataframe\">\n",
       "  <thead>\n",
       "    <tr style=\"text-align: right;\">\n",
       "      <th></th>\n",
       "      <th>aqi</th>\n",
       "      <th>pm2_5</th>\n",
       "      <th>pm10</th>\n",
       "      <th>no2</th>\n",
       "      <th>o3</th>\n",
       "      <th>co</th>\n",
       "      <th>so2</th>\n",
       "    </tr>\n",
       "  </thead>\n",
       "  <tbody>\n",
       "    <tr>\n",
       "      <th>count</th>\n",
       "      <td>360.00</td>\n",
       "      <td>360.00</td>\n",
       "      <td>360.00</td>\n",
       "      <td>360.00</td>\n",
       "      <td>360.00</td>\n",
       "      <td>360.00</td>\n",
       "      <td>360.00</td>\n",
       "    </tr>\n",
       "    <tr>\n",
       "      <th>mean</th>\n",
       "      <td>1.58</td>\n",
       "      <td>7.36</td>\n",
       "      <td>9.96</td>\n",
       "      <td>3.52</td>\n",
       "      <td>54.81</td>\n",
       "      <td>144.81</td>\n",
       "      <td>1.25</td>\n",
       "    </tr>\n",
       "    <tr>\n",
       "      <th>std</th>\n",
       "      <td>0.67</td>\n",
       "      <td>9.92</td>\n",
       "      <td>11.00</td>\n",
       "      <td>4.55</td>\n",
       "      <td>20.65</td>\n",
       "      <td>99.66</td>\n",
       "      <td>1.02</td>\n",
       "    </tr>\n",
       "    <tr>\n",
       "      <th>min</th>\n",
       "      <td>1.00</td>\n",
       "      <td>0.50</td>\n",
       "      <td>0.71</td>\n",
       "      <td>0.14</td>\n",
       "      <td>11.07</td>\n",
       "      <td>59.65</td>\n",
       "      <td>0.09</td>\n",
       "    </tr>\n",
       "    <tr>\n",
       "      <th>25%</th>\n",
       "      <td>1.00</td>\n",
       "      <td>0.98</td>\n",
       "      <td>2.45</td>\n",
       "      <td>0.70</td>\n",
       "      <td>40.97</td>\n",
       "      <td>84.99</td>\n",
       "      <td>0.27</td>\n",
       "    </tr>\n",
       "    <tr>\n",
       "      <th>50%</th>\n",
       "      <td>1.00</td>\n",
       "      <td>2.78</td>\n",
       "      <td>5.54</td>\n",
       "      <td>1.91</td>\n",
       "      <td>49.78</td>\n",
       "      <td>102.84</td>\n",
       "      <td>1.17</td>\n",
       "    </tr>\n",
       "    <tr>\n",
       "      <th>75%</th>\n",
       "      <td>2.00</td>\n",
       "      <td>9.98</td>\n",
       "      <td>13.69</td>\n",
       "      <td>4.38</td>\n",
       "      <td>65.97</td>\n",
       "      <td>139.68</td>\n",
       "      <td>1.92</td>\n",
       "    </tr>\n",
       "    <tr>\n",
       "      <th>max</th>\n",
       "      <td>4.00</td>\n",
       "      <td>52.63</td>\n",
       "      <td>65.12</td>\n",
       "      <td>27.05</td>\n",
       "      <td>112.46</td>\n",
       "      <td>470.53</td>\n",
       "      <td>5.06</td>\n",
       "    </tr>\n",
       "  </tbody>\n",
       "</table>\n",
       "</div>"
      ],
      "text/plain": [
       "         aqi  pm2_5   pm10    no2     o3     co    so2\n",
       "count 360.00 360.00 360.00 360.00 360.00 360.00 360.00\n",
       "mean    1.58   7.36   9.96   3.52  54.81 144.81   1.25\n",
       "std     0.67   9.92  11.00   4.55  20.65  99.66   1.02\n",
       "min     1.00   0.50   0.71   0.14  11.07  59.65   0.09\n",
       "25%     1.00   0.98   2.45   0.70  40.97  84.99   0.27\n",
       "50%     1.00   2.78   5.54   1.91  49.78 102.84   1.17\n",
       "75%     2.00   9.98  13.69   4.38  65.97 139.68   1.92\n",
       "max     4.00  52.63  65.12  27.05 112.46 470.53   5.06"
      ]
     },
     "metadata": {},
     "output_type": "display_data"
    }
   ],
   "source": [
    "# Statistical summary\n",
    "print(\"=\" * 80)\n",
    "print(\"STATISTICAL SUMMARY - ALL POLLUTANTS\")\n",
    "print(\"=\" * 80)\n",
    "\n",
    "pollutants = ['aqi', 'pm2_5', 'pm10', 'no2', 'o3', 'co', 'so2']\n",
    "display(df[pollutants].describe())"
   ]
  },
  {
   "cell_type": "code",
   "execution_count": 9,
   "id": "3a2d423c-8876-41ff-89b2-56413d7275e7",
   "metadata": {},
   "outputs": [
    {
     "data": {
      "image/png": "[encoded data removed]",
      "text/plain": [
       "<Figure size 1500x1000 with 6 Axes>"
      ]
     },
     "metadata": {},
     "output_type": "display_data"
    }
   ],
   "source": [
    "# Distribution plots for key pollutants\n",
    "fig, axes = plt.subplots(2, 3, figsize=(15, 10))\n",
    "fig.suptitle('Pollutant Distributions', fontsize=16, fontweight='bold', y=1.00)\n",
    "\n",
    "pollutants_plot = ['aqi', 'pm2_5', 'pm10', 'no2', 'o3', 'co']\n",
    "colors = ['#FF6B6B', '#4ECDC4', '#45B7D1', '#FFA07A', '#98D8C8', '#F7DC6F']\n",
    "\n",
    "for idx, (pollutant, color) in enumerate(zip(pollutants_plot, colors)):\n",
    "    ax = axes[idx // 3, idx % 3]\n",
    "    \n",
    "    df[pollutant].hist(bins=30, ax=ax, color=color, edgecolor='black', alpha=0.7)\n",
    "    ax.set_title(f'{pollutant.upper()} Distribution', fontweight='bold')\n",
    "    ax.set_xlabel(pollutant.upper())\n",
    "    ax.set_ylabel('Frequency')\n",
    "    ax.grid(True, alpha=0.3)\n",
    "    \n",
    "    # Add mean line\n",
    "    mean_val = df[pollutant].mean()\n",
    "    ax.axvline(mean_val, color='red', linestyle='--', linewidth=2, label=f'Mean: {mean_val:.2f}')\n",
    "    ax.legend()\n",
    "\n",
    "plt.tight_layout()\n",
    "plt.show()"
   ]
  },
  {
   "cell_type": "code",
   "execution_count": 10,
   "id": "20db588e-74d0-442d-9645-c0c5365df1ff",
   "metadata": {},
   "outputs": [
    {
     "name": "stdout",
     "output_type": "stream",
     "text": [
      "================================================================================\n",
      "AIR QUALITY INDEX (AQI) BREAKDOWN\n",
      "================================================================================\n",
      "\n",
      "AQI Distribution:\n",
      "   🟢 AQI 1 (Good        ): 187 records ( 51.9%)\n",
      "   🟢 AQI 2 (Fair        ): 137 records ( 38.1%)\n",
      "   🟡 AQI 3 (Moderate    ):  35 records (  9.7%)\n",
      "   🔴 AQI 4 (Poor        ):   1 records (  0.3%)\n",
      "\n",
      "Most common: Good (AQI 1)\n"
     ]
    }
   ],
   "source": [
    "# AQI distribution\n",
    "print(\"=\" * 80)\n",
    "print(\"AIR QUALITY INDEX (AQI) BREAKDOWN\")\n",
    "print(\"=\" * 80)\n",
    "\n",
    "aqi_labels = {\n",
    "    1: 'Good',\n",
    "    2: 'Fair',\n",
    "    3: 'Moderate',\n",
    "    4: 'Poor',\n",
    "    5: 'Very Poor'\n",
    "}\n",
    "\n",
    "aqi_counts = df['aqi'].value_counts().sort_index()\n",
    "aqi_pcts = (aqi_counts / len(df) * 100).round(1)\n",
    "\n",
    "print(\"\\nAQI Distribution:\")\n",
    "for aqi_val in sorted(df['aqi'].unique()):\n",
    "    count = aqi_counts.get(aqi_val, 0)\n",
    "    pct = aqi_pcts.get(aqi_val, 0)\n",
    "    label = aqi_labels.get(aqi_val, 'Unknown')\n",
    "    emoji = '🟢' if aqi_val <= 2 else '🟡' if aqi_val == 3 else '🔴'\n",
    "    print(f\"   {emoji} AQI {aqi_val} ({label:12s}): {count:3d} records ({pct:5.1f}%)\")\n",
    "\n",
    "print(f\"\\nMost common: {aqi_labels[aqi_counts.idxmax()]} (AQI {aqi_counts.idxmax()})\")"
   ]
  },
  {
   "cell_type": "markdown",
   "id": "bb497342-d4bd-490a-acb7-fc4e56513617",
   "metadata": {},
   "source": [
    "## 5. City level analysis"
   ]
  },
  {
   "cell_type": "code",
   "execution_count": 11,
   "id": "2c9e4862-c00b-4950-85b1-73532b0bcbab",
   "metadata": {},
   "outputs": [
    {
     "name": "stdout",
     "output_type": "stream",
     "text": [
      "================================================================================\n",
      "AVERAGE AIR QUALITY BY CITY\n",
      "================================================================================\n",
      "\n",
      "City rankings (worst to best):\n"
     ]
    },
    {
     "data": {
      "text/html": [
       "<div>\n",
       "<style scoped>\n",
       "    .dataframe tbody tr th:only-of-type {\n",
       "        vertical-align: middle;\n",
       "    }\n",
       "\n",
       "    .dataframe tbody tr th {\n",
       "        vertical-align: top;\n",
       "    }\n",
       "\n",
       "    .dataframe thead th {\n",
       "        text-align: right;\n",
       "    }\n",
       "</style>\n",
       "<table border=\"1\" class=\"dataframe\">\n",
       "  <thead>\n",
       "    <tr style=\"text-align: right;\">\n",
       "      <th></th>\n",
       "      <th>AQI_Mean</th>\n",
       "      <th>AQI_Std</th>\n",
       "      <th>AQI_Min</th>\n",
       "      <th>AQI_Max</th>\n",
       "      <th>PM2.5_Avg</th>\n",
       "      <th>PM10_Avg</th>\n",
       "      <th>NO2_Avg</th>\n",
       "    </tr>\n",
       "    <tr>\n",
       "      <th>city_name</th>\n",
       "      <th></th>\n",
       "      <th></th>\n",
       "      <th></th>\n",
       "      <th></th>\n",
       "      <th></th>\n",
       "      <th></th>\n",
       "      <th></th>\n",
       "    </tr>\n",
       "  </thead>\n",
       "  <tbody>\n",
       "    <tr>\n",
       "      <th>Bangkok</th>\n",
       "      <td>2.62</td>\n",
       "      <td>0.52</td>\n",
       "      <td>2</td>\n",
       "      <td>4</td>\n",
       "      <td>27.41</td>\n",
       "      <td>30.72</td>\n",
       "      <td>5.05</td>\n",
       "    </tr>\n",
       "    <tr>\n",
       "      <th>London</th>\n",
       "      <td>2.00</td>\n",
       "      <td>0.00</td>\n",
       "      <td>2</td>\n",
       "      <td>2</td>\n",
       "      <td>1.08</td>\n",
       "      <td>2.84</td>\n",
       "      <td>2.48</td>\n",
       "    </tr>\n",
       "    <tr>\n",
       "      <th>São Paulo</th>\n",
       "      <td>1.55</td>\n",
       "      <td>0.50</td>\n",
       "      <td>1</td>\n",
       "      <td>2</td>\n",
       "      <td>7.50</td>\n",
       "      <td>10.07</td>\n",
       "      <td>0.70</td>\n",
       "    </tr>\n",
       "    <tr>\n",
       "      <th>Durban</th>\n",
       "      <td>1.20</td>\n",
       "      <td>0.40</td>\n",
       "      <td>1</td>\n",
       "      <td>2</td>\n",
       "      <td>5.34</td>\n",
       "      <td>10.00</td>\n",
       "      <td>1.29</td>\n",
       "    </tr>\n",
       "    <tr>\n",
       "      <th>New York City</th>\n",
       "      <td>1.10</td>\n",
       "      <td>0.30</td>\n",
       "      <td>1</td>\n",
       "      <td>2</td>\n",
       "      <td>1.83</td>\n",
       "      <td>3.84</td>\n",
       "      <td>11.00</td>\n",
       "    </tr>\n",
       "    <tr>\n",
       "      <th>Sydney</th>\n",
       "      <td>1.03</td>\n",
       "      <td>0.18</td>\n",
       "      <td>1</td>\n",
       "      <td>2</td>\n",
       "      <td>0.99</td>\n",
       "      <td>2.30</td>\n",
       "      <td>0.62</td>\n",
       "    </tr>\n",
       "  </tbody>\n",
       "</table>\n",
       "</div>"
      ],
      "text/plain": [
       "               AQI_Mean  AQI_Std  AQI_Min  AQI_Max  PM2.5_Avg  PM10_Avg  \\\n",
       "city_name                                                                 \n",
       "Bangkok            2.62     0.52        2        4      27.41     30.72   \n",
       "London             2.00     0.00        2        2       1.08      2.84   \n",
       "São Paulo          1.55     0.50        1        2       7.50     10.07   \n",
       "Durban             1.20     0.40        1        2       5.34     10.00   \n",
       "New York City      1.10     0.30        1        2       1.83      3.84   \n",
       "Sydney             1.03     0.18        1        2       0.99      2.30   \n",
       "\n",
       "               NO2_Avg  \n",
       "city_name               \n",
       "Bangkok           5.05  \n",
       "London            2.48  \n",
       "São Paulo         0.70  \n",
       "Durban            1.29  \n",
       "New York City    11.00  \n",
       "Sydney            0.62  "
      ]
     },
     "metadata": {},
     "output_type": "display_data"
    },
    {
     "name": "stdout",
     "output_type": "stream",
     "text": [
      "\n",
      "🏆 CLEANEST CITY: Sydney\n",
      "⚠️  MOST POLLUTED: Bangkok\n"
     ]
    }
   ],
   "source": [
    "# City-wise air quality comparison\n",
    "print(\"=\" * 80)\n",
    "print(\"AVERAGE AIR QUALITY BY CITY\")\n",
    "print(\"=\" * 80)\n",
    "\n",
    "city_stats = df.groupby('city_name').agg({\n",
    "    'aqi': ['mean', 'std', 'min', 'max'],\n",
    "    'pm2_5': 'mean',\n",
    "    'pm10': 'mean',\n",
    "    'no2': 'mean'\n",
    "}).round(2)\n",
    "\n",
    "city_stats.columns = ['AQI_Mean', 'AQI_Std', 'AQI_Min', 'AQI_Max', 'PM2.5_Avg', 'PM10_Avg', 'NO2_Avg']\n",
    "city_stats = city_stats.sort_values('AQI_Mean', ascending=False)\n",
    "\n",
    "print(\"\\nCity rankings (worst to best):\")\n",
    "display(city_stats)\n",
    "\n",
    "print(\"\\n🏆 CLEANEST CITY:\", city_stats['AQI_Mean'].idxmin())\n",
    "print(\"⚠️  MOST POLLUTED:\", city_stats['AQI_Mean'].idxmax())"
   ]
  },
  {
   "cell_type": "markdown",
   "id": "8106b9ff-6e71-4531-827e-e618decc1f73",
   "metadata": {},
   "source": [
    "## 6. Temporal patterns"
   ]
  },
  {
   "cell_type": "code",
   "execution_count": 12,
   "id": "d763a91d-d43a-469b-99f3-5deb16f6d2ca",
   "metadata": {},
   "outputs": [
    {
     "data": {
      "application/vnd.plotly.v1+json": {
       "config": {
        "plotlyServerURL": "https://plot.ly"
       },
       "data": [
        {
         "line": {
          "width": 2
         },
         "marker": {
          "size": 4
         },
         "mode": "lines+markers",
         "name": "Sydney",
         "type": "scatter",
         "x": [
          "2025-10-22T10:36:28",
          "2025-10-22T10:47:30",
          "2025-10-27T12:21:20",
          "2025-10-27T12:49:48",
          "2025-10-27T13:00:03",
          "2025-10-27T14:12:05",
          "2025-10-27T16:48:57",
          "2025-10-27T17:46:08",
          "2025-10-28T09:34:49",
          "2025-10-28T10:00:02",
          "2025-10-28T11:39:04",
          "2025-10-28T11:39:42",
          "2025-10-28T12:00:06",
          "2025-10-28T12:24:06",
          "2025-10-28T13:00:06",
          "2025-10-28T14:00:08",
          "2025-10-28T15:00:08",
          "2025-10-28T16:03:20",
          "2025-10-28T17:09:59",
          "2025-10-28T17:51:01",
          "2025-10-28T19:11:01",
          "2025-10-28T20:00:03",
          "2025-10-28T21:02:28",
          "2025-10-28T22:07:38",
          "2025-10-28T23:09:01",
          "2025-10-29T00:13:40",
          "2025-10-29T01:14:54",
          "2025-10-29T02:03:28",
          "2025-10-29T03:00:46",
          "2025-10-29T03:55:43",
          "2025-10-29T05:09:16",
          "2025-10-29T06:01:09",
          "2025-10-29T07:00:05",
          "2025-10-29T08:14:03",
          "2025-10-29T09:00:08",
          "2025-10-29T10:00:08",
          "2025-10-29T10:54:07",
          "2025-10-29T12:00:04",
          "2025-10-29T13:00:03",
          "2025-10-29T14:08:38",
          "2025-10-29T15:00:09",
          "2025-10-29T16:01:38",
          "2025-10-29T16:55:38",
          "2025-10-29T18:01:17",
          "2025-10-29T18:53:02",
          "2025-10-29T20:02:11",
          "2025-10-29T21:07:42",
          "2025-10-29T22:14:43",
          "2025-10-29T23:00:11",
          "2025-10-30T00:01:11",
          "2025-10-30T01:00:03",
          "2025-10-30T02:04:45",
          "2025-10-30T03:08:46",
          "2025-10-30T04:11:56",
          "2025-10-30T05:00:07",
          "2025-10-30T06:12:57",
          "2025-10-30T07:07:49",
          "2025-10-30T08:08:29",
          "2025-10-30T09:00:06",
          "2025-10-30T10:01:15"
         ],
         "y": {
          "bdata": "AgIBAQEBAQEBAQEBAQEBAQEBAQEBAQEBAQEBAQEBAQEBAQEBAQEBAQEBAQEBAQEBAQEBAQEBAQEBAQEB",
          "dtype": "i1"
         }
        },
        {
         "line": {
          "width": 2
         },
         "marker": {
          "size": 4
         },
         "mode": "lines+markers",
         "name": "São Paulo",
         "type": "scatter",
         "x": [
          "2025-10-22T10:38:46",
          "2025-10-22T10:47:29",
          "2025-10-27T12:26:39",
          "2025-10-27T12:43:56",
          "2025-10-27T13:00:02",
          "2025-10-27T14:16:21",
          "2025-10-27T16:48:56",
          "2025-10-27T17:46:07",
          "2025-10-28T09:34:48",
          "2025-10-28T10:00:02",
          "2025-10-28T11:39:02",
          "2025-10-28T11:45:00",
          "2025-10-28T12:00:06",
          "2025-10-28T12:28:35",
          "2025-10-28T13:00:05",
          "2025-10-28T14:00:07",
          "2025-10-28T15:00:07",
          "2025-10-28T16:03:19",
          "2025-10-28T17:09:58",
          "2025-10-28T18:00:06",
          "2025-10-28T19:11:00",
          "2025-10-28T20:00:02",
          "2025-10-28T21:02:27",
          "2025-10-28T22:08:44",
          "2025-10-28T23:09:00",
          "2025-10-29T00:13:39",
          "2025-10-29T01:14:53",
          "2025-10-29T02:03:27",
          "2025-10-29T03:07:48",
          "2025-10-29T04:00:54",
          "2025-10-29T05:12:38",
          "2025-10-29T06:01:08",
          "2025-10-29T07:05:43",
          "2025-10-29T08:14:02",
          "2025-10-29T09:00:07",
          "2025-10-29T10:00:07",
          "2025-10-29T11:00:05",
          "2025-10-29T12:00:03",
          "2025-10-29T13:00:02",
          "2025-10-29T14:12:28",
          "2025-10-29T15:00:08",
          "2025-10-29T16:07:50",
          "2025-10-29T17:00:04",
          "2025-10-29T18:01:16",
          "2025-10-29T19:00:06",
          "2025-10-29T20:02:10",
          "2025-10-29T21:07:41",
          "2025-10-29T22:14:42",
          "2025-10-29T23:00:10",
          "2025-10-30T00:01:10",
          "2025-10-30T01:00:02",
          "2025-10-30T02:04:44",
          "2025-10-30T03:08:46",
          "2025-10-30T04:11:55",
          "2025-10-30T05:00:04",
          "2025-10-30T06:12:56",
          "2025-10-30T07:13:54",
          "2025-10-30T08:14:56",
          "2025-10-30T09:00:05",
          "2025-10-30T10:01:14"
         ],
         "y": {
          "bdata": "AQECAgICAgIBAQEBAQEBAQEBAQEBAgICAgICAgICAgICAQICAgICAgICAgICAgICAgEBAQEBAQEBAQEB",
          "dtype": "i1"
         }
        },
        {
         "line": {
          "width": 2
         },
         "marker": {
          "size": 4
         },
         "mode": "lines+markers",
         "name": "Bangkok",
         "type": "scatter",
         "x": [
          "2025-10-22T10:41:18",
          "2025-10-22T10:47:27",
          "2025-10-27T12:26:20",
          "2025-10-27T12:49:45",
          "2025-10-27T12:56:22",
          "2025-10-27T14:16:19",
          "2025-10-27T16:48:54",
          "2025-10-27T17:37:44",
          "2025-10-28T09:34:46",
          "2025-10-28T09:56:04",
          "2025-10-28T11:39:01",
          "2025-10-28T11:40:45",
          "2025-10-28T11:56:16",
          "2025-10-28T12:26:14",
          "2025-10-28T12:56:18",
          "2025-10-28T13:56:24",
          "2025-10-28T14:56:23",
          "2025-10-28T15:56:26",
          "2025-10-28T17:09:56",
          "2025-10-28T17:56:37",
          "2025-10-28T19:10:58",
          "2025-10-28T19:56:47",
          "2025-10-28T20:56:56",
          "2025-10-28T22:08:42",
          "2025-10-28T23:08:58",
          "2025-10-29T00:13:37",
          "2025-10-29T01:10:21",
          "2025-10-29T01:57:19",
          "2025-10-29T03:07:46",
          "2025-10-29T03:57:27",
          "2025-10-29T05:12:36",
          "2025-10-29T06:01:06",
          "2025-10-29T06:55:58",
          "2025-10-29T08:11:31",
          "2025-10-29T08:56:03",
          "2025-10-29T09:56:05",
          "2025-10-29T10:56:14",
          "2025-10-29T11:56:16",
          "2025-10-29T12:56:21",
          "2025-10-29T14:12:26",
          "2025-10-29T14:56:30",
          "2025-10-29T16:07:48",
          "2025-10-29T16:56:39",
          "2025-10-29T17:56:57",
          "2025-10-29T18:56:49",
          "2025-10-29T19:54:42",
          "2025-10-29T21:07:39",
          "2025-10-29T22:11:30",
          "2025-10-29T22:57:25",
          "2025-10-29T23:58:53",
          "2025-10-30T00:57:30",
          "2025-10-30T01:57:33",
          "2025-10-30T03:08:44",
          "2025-10-30T04:11:53",
          "2025-10-30T04:57:50",
          "2025-10-30T06:04:50",
          "2025-10-30T07:13:52",
          "2025-10-30T08:14:54",
          "2025-10-30T08:56:06",
          "2025-10-30T09:56:12"
         ],
         "y": {
          "bdata": "AwMDAwMDAwQDAwMDAwMDAgICAgICAgMCAgICAgICAgICAgICAgICAgMDAwMDAwMDAwMDAwMDAwMDAwMD",
          "dtype": "i1"
         }
        },
        {
         "line": {
          "width": 2
         },
         "marker": {
          "size": 4
         },
         "mode": "lines+markers",
         "name": "Durban",
         "type": "scatter",
         "x": [
          "2025-10-22T10:41:19",
          "2025-10-22T10:47:28",
          "2025-10-27T12:26:38",
          "2025-10-27T12:49:46",
          "2025-10-27T13:00:01",
          "2025-10-27T14:16:20",
          "2025-10-27T16:48:55",
          "2025-10-27T17:41:26",
          "2025-10-28T09:34:47",
          "2025-10-28T10:00:01",
          "2025-10-28T11:39:02",
          "2025-10-28T11:44:59",
          "2025-10-28T12:00:05",
          "2025-10-28T12:28:34",
          "2025-10-28T13:00:04",
          "2025-10-28T14:00:06",
          "2025-10-28T15:00:06",
          "2025-10-28T16:03:18",
          "2025-10-28T17:09:57",
          "2025-10-28T18:00:05",
          "2025-10-28T19:10:59",
          "2025-10-28T20:00:01",
          "2025-10-28T21:02:26",
          "2025-10-28T22:08:43",
          "2025-10-28T23:08:59",
          "2025-10-29T00:13:38",
          "2025-10-29T01:14:52",
          "2025-10-29T02:03:26",
          "2025-10-29T03:07:47",
          "2025-10-29T04:00:53",
          "2025-10-29T05:12:37",
          "2025-10-29T06:01:07",
          "2025-10-29T07:05:42",
          "2025-10-29T08:14:01",
          "2025-10-29T09:00:05",
          "2025-10-29T10:00:06",
          "2025-10-29T11:00:04",
          "2025-10-29T12:00:02",
          "2025-10-29T12:53:12",
          "2025-10-29T14:12:27",
          "2025-10-29T15:00:07",
          "2025-10-29T16:07:49",
          "2025-10-29T17:00:03",
          "2025-10-29T18:01:15",
          "2025-10-29T19:00:05",
          "2025-10-29T20:02:09",
          "2025-10-29T21:07:40",
          "2025-10-29T22:14:41",
          "2025-10-29T23:00:09",
          "2025-10-30T00:01:09",
          "2025-10-30T01:00:01",
          "2025-10-30T02:04:43",
          "2025-10-30T03:08:45",
          "2025-10-30T04:11:54",
          "2025-10-30T05:00:03",
          "2025-10-30T06:12:55",
          "2025-10-30T07:13:53",
          "2025-10-30T08:14:55",
          "2025-10-30T09:00:04",
          "2025-10-30T10:01:13"
         ],
         "y": {
          "bdata": "AgIBAQEBAQEBAQEBAQEBAQEBAQEBAgIBAQEBAQEBAQEBAQEBAQEBAQEBAgICAgICAgIBAQEBAQEBAQEB",
          "dtype": "i1"
         }
        },
        {
         "line": {
          "width": 2
         },
         "marker": {
          "size": 4
         },
         "mode": "lines+markers",
         "name": "London",
         "type": "scatter",
         "x": [
          "2025-10-22T10:41:21",
          "2025-10-22T10:47:30",
          "2025-10-27T12:22:56",
          "2025-10-27T12:43:45",
          "2025-10-27T13:00:04",
          "2025-10-27T14:16:22",
          "2025-10-27T16:46:03",
          "2025-10-27T17:46:09",
          "2025-10-28T09:34:50",
          "2025-10-28T10:00:03",
          "2025-10-28T11:32:08",
          "2025-10-28T11:45:01",
          "2025-10-28T11:58:05",
          "2025-10-28T12:28:37",
          "2025-10-28T12:54:40",
          "2025-10-28T14:00:09",
          "2025-10-28T14:52:31",
          "2025-10-28T16:02:02",
          "2025-10-28T17:08:02",
          "2025-10-28T18:00:09",
          "2025-10-28T19:04:55",
          "2025-10-28T20:00:04",
          "2025-10-28T21:02:30",
          "2025-10-28T22:08:45",
          "2025-10-28T23:01:13",
          "2025-10-29T00:13:41",
          "2025-10-29T01:14:55",
          "2025-10-29T02:03:29",
          "2025-10-29T03:01:34",
          "2025-10-29T04:00:56",
          "2025-10-29T05:12:40",
          "2025-10-29T06:01:10",
          "2025-10-29T07:01:29",
          "2025-10-29T08:14:04",
          "2025-10-29T09:00:09",
          "2025-10-29T09:56:06",
          "2025-10-29T11:00:07",
          "2025-10-29T12:00:05",
          "2025-10-29T13:00:04",
          "2025-10-29T14:12:29",
          "2025-10-29T15:00:10",
          "2025-10-29T16:07:52",
          "2025-10-29T17:00:06",
          "2025-10-29T17:54:54",
          "2025-10-29T19:00:10",
          "2025-10-29T20:02:12",
          "2025-10-29T21:07:43",
          "2025-10-29T22:14:45",
          "2025-10-29T23:00:12",
          "2025-10-29T23:52:09",
          "2025-10-30T00:54:09",
          "2025-10-30T02:04:46",
          "2025-10-30T03:02:24",
          "2025-10-30T04:11:57",
          "2025-10-30T05:00:08",
          "2025-10-30T06:12:58",
          "2025-10-30T07:13:56",
          "2025-10-30T08:14:57",
          "2025-10-30T08:54:02",
          "2025-10-30T10:01:14"
         ],
         "y": {
          "bdata": "AgICAgICAgICAgICAgICAgICAgICAgICAgICAgICAgICAgICAgICAgICAgICAgICAgICAgICAgICAgIC",
          "dtype": "i1"
         }
        },
        {
         "line": {
          "width": 2
         },
         "marker": {
          "size": 4
         },
         "mode": "lines+markers",
         "name": "New York City",
         "type": "scatter",
         "x": [
          "2025-10-22T10:41:22",
          "2025-10-22T10:47:31",
          "2025-10-27T12:20:34",
          "2025-10-27T12:49:49",
          "2025-10-27T13:00:05",
          "2025-10-27T14:10:31",
          "2025-10-27T16:48:59",
          "2025-10-27T17:46:10",
          "2025-10-28T09:34:51",
          "2025-10-28T10:00:04",
          "2025-10-28T11:37:45",
          "2025-10-28T11:39:05",
          "2025-10-28T11:50:31",
          "2025-10-28T12:28:38",
          "2025-10-28T13:00:08",
          "2025-10-28T13:59:23",
          "2025-10-28T14:52:00",
          "2025-10-28T16:02:56",
          "2025-10-28T17:10:01",
          "2025-10-28T18:00:10",
          "2025-10-28T19:04:25",
          "2025-10-28T20:00:05",
          "2025-10-28T21:02:31",
          "2025-10-28T22:08:03",
          "2025-10-28T23:05:06",
          "2025-10-29T00:07:27",
          "2025-10-29T01:09:30",
          "2025-10-29T02:02:04",
          "2025-10-29T03:07:50",
          "2025-10-29T03:56:04",
          "2025-10-29T05:12:41",
          "2025-10-29T06:00:14",
          "2025-10-29T06:57:44",
          "2025-10-29T08:14:05",
          "2025-10-29T09:08:17",
          "2025-10-29T10:00:10",
          "2025-10-29T10:53:14",
          "2025-10-29T12:00:06",
          "2025-10-29T13:00:05",
          "2025-10-29T14:12:30",
          "2025-10-29T15:00:11",
          "2025-10-29T16:07:53",
          "2025-10-29T17:00:07",
          "2025-10-29T18:01:19",
          "2025-10-29T18:54:50",
          "2025-10-29T20:00:08",
          "2025-10-29T21:02:56",
          "2025-10-29T22:14:46",
          "2025-10-29T23:00:13",
          "2025-10-30T00:01:13",
          "2025-10-30T01:00:05",
          "2025-10-30T02:01:30",
          "2025-10-30T03:08:48",
          "2025-10-30T04:08:02",
          "2025-10-30T05:00:09",
          "2025-10-30T06:12:59",
          "2025-10-30T07:04:02",
          "2025-10-30T08:06:30",
          "2025-10-30T08:53:03",
          "2025-10-30T10:01:16"
         ],
         "y": {
          "bdata": "AgIBAQEBAQECAgEBAQEBAQEBAQEBAQEBAQEBAQEBAQEBAQEBAQEBAQEBAQEBAQEBAQEBAQEBAQEBAQIC",
          "dtype": "i1"
         }
        }
       ],
       "layout": {
        "height": 500,
        "hovermode": "x unified",
        "legend": {
         "x": 0.01,
         "xanchor": "left",
         "y": 0.99,
         "yanchor": "top"
        },
        "template": {
         "data": {
          "bar": [
           {
            "error_x": {
             "color": "#2a3f5f"
            },
            "error_y": {
             "color": "#2a3f5f"
            },
            "marker": {
             "line": {
              "color": "#E5ECF6",
              "width": 0.5
             },
             "pattern": {
              "fillmode": "overlay",
              "size": 10,
              "solidity": 0.2
             }
            },
            "type": "bar"
           }
          ],
          "barpolar": [
           {
            "marker": {
             "line": {
              "color": "#E5ECF6",
              "width": 0.5
             },
             "pattern": {
              "fillmode": "overlay",
              "size": 10,
              "solidity": 0.2
             }
            },
            "type": "barpolar"
           }
          ],
          "carpet": [
           {
            "aaxis": {
             "endlinecolor": "#2a3f5f",
             "gridcolor": "white",
             "linecolor": "white",
             "minorgridcolor": "white",
             "startlinecolor": "#2a3f5f"
            },
            "baxis": {
             "endlinecolor": "#2a3f5f",
             "gridcolor": "white",
             "linecolor": "white",
             "minorgridcolor": "white",
             "startlinecolor": "#2a3f5f"
            },
            "type": "carpet"
           }
          ],
          "choropleth": [
           {
            "colorbar": {
             "outlinewidth": 0,
             "ticks": ""
            },
            "type": "choropleth"
           }
          ],
          "contour": [
           {
            "colorbar": {
             "outlinewidth": 0,
             "ticks": ""
            },
            "colorscale": [
             [
              0,
              "#0d0887"
             ],
             [
              0.1111111111111111,
              "#46039f"
             ],
             [
              0.2222222222222222,
              "#7201a8"
             ],
             [
              0.3333333333333333,
              "#9c179e"
             ],
             [
              0.4444444444444444,
              "#bd3786"
             ],
             [
              0.5555555555555556,
              "#d8576b"
             ],
             [
              0.6666666666666666,
              "#ed7953"
             ],
             [
              0.7777777777777778,
              "#fb9f3a"
             ],
             [
              0.8888888888888888,
              "#fdca26"
             ],
             [
              1,
              "#f0f921"
             ]
            ],
            "type": "contour"
           }
          ],
          "contourcarpet": [
           {
            "colorbar": {
             "outlinewidth": 0,
             "ticks": ""
            },
            "type": "contourcarpet"
           }
          ],
          "heatmap": [
           {
            "colorbar": {
             "outlinewidth": 0,
             "ticks": ""
            },
            "colorscale": [
             [
              0,
              "#0d0887"
             ],
             [
              0.1111111111111111,
              "#46039f"
             ],
             [
              0.2222222222222222,
              "#7201a8"
             ],
             [
              0.3333333333333333,
              "#9c179e"
             ],
             [
              0.4444444444444444,
              "#bd3786"
             ],
             [
              0.5555555555555556,
              "#d8576b"
             ],
             [
              0.6666666666666666,
              "#ed7953"
             ],
             [
              0.7777777777777778,
              "#fb9f3a"
             ],
             [
              0.8888888888888888,
              "#fdca26"
             ],
             [
              1,
              "#f0f921"
             ]
            ],
            "type": "heatmap"
           }
          ],
          "histogram": [
           {
            "marker": {
             "pattern": {
              "fillmode": "overlay",
              "size": 10,
              "solidity": 0.2
             }
            },
            "type": "histogram"
           }
          ],
          "histogram2d": [
           {
            "colorbar": {
             "outlinewidth": 0,
             "ticks": ""
            },
            "colorscale": [
             [
              0,
              "#0d0887"
             ],
             [
              0.1111111111111111,
              "#46039f"
             ],
             [
              0.2222222222222222,
              "#7201a8"
             ],
             [
              0.3333333333333333,
              "#9c179e"
             ],
             [
              0.4444444444444444,
              "#bd3786"
             ],
             [
              0.5555555555555556,
              "#d8576b"
             ],
             [
              0.6666666666666666,
              "#ed7953"
             ],
             [
              0.7777777777777778,
              "#fb9f3a"
             ],
             [
              0.8888888888888888,
              "#fdca26"
             ],
             [
              1,
              "#f0f921"
             ]
            ],
            "type": "histogram2d"
           }
          ],
          "histogram2dcontour": [
           {
            "colorbar": {
             "outlinewidth": 0,
             "ticks": ""
            },
            "colorscale": [
             [
              0,
              "#0d0887"
             ],
             [
              0.1111111111111111,
              "#46039f"
             ],
             [
              0.2222222222222222,
              "#7201a8"
             ],
             [
              0.3333333333333333,
              "#9c179e"
             ],
             [
              0.4444444444444444,
              "#bd3786"
             ],
             [
              0.5555555555555556,
              "#d8576b"
             ],
             [
              0.6666666666666666,
              "#ed7953"
             ],
             [
              0.7777777777777778,
              "#fb9f3a"
             ],
             [
              0.8888888888888888,
              "#fdca26"
             ],
             [
              1,
              "#f0f921"
             ]
            ],
            "type": "histogram2dcontour"
           }
          ],
          "mesh3d": [
           {
            "colorbar": {
             "outlinewidth": 0,
             "ticks": ""
            },
            "type": "mesh3d"
           }
          ],
          "parcoords": [
           {
            "line": {
             "colorbar": {
              "outlinewidth": 0,
              "ticks": ""
             }
            },
            "type": "parcoords"
           }
          ],
          "pie": [
           {
            "automargin": true,
            "type": "pie"
           }
          ],
          "scatter": [
           {
            "fillpattern": {
             "fillmode": "overlay",
             "size": 10,
             "solidity": 0.2
            },
            "type": "scatter"
           }
          ],
          "scatter3d": [
           {
            "line": {
             "colorbar": {
              "outlinewidth": 0,
              "ticks": ""
             }
            },
            "marker": {
             "colorbar": {
              "outlinewidth": 0,
              "ticks": ""
             }
            },
            "type": "scatter3d"
           }
          ],
          "scattercarpet": [
           {
            "marker": {
             "colorbar": {
              "outlinewidth": 0,
              "ticks": ""
             }
            },
            "type": "scattercarpet"
           }
          ],
          "scattergeo": [
           {
            "marker": {
             "colorbar": {
              "outlinewidth": 0,
              "ticks": ""
             }
            },
            "type": "scattergeo"
           }
          ],
          "scattergl": [
           {
            "marker": {
             "colorbar": {
              "outlinewidth": 0,
              "ticks": ""
             }
            },
            "type": "scattergl"
           }
          ],
          "scattermap": [
           {
            "marker": {
             "colorbar": {
              "outlinewidth": 0,
              "ticks": ""
             }
            },
            "type": "scattermap"
           }
          ],
          "scattermapbox": [
           {
            "marker": {
             "colorbar": {
              "outlinewidth": 0,
              "ticks": ""
             }
            },
            "type": "scattermapbox"
           }
          ],
          "scatterpolar": [
           {
            "marker": {
             "colorbar": {
              "outlinewidth": 0,
              "ticks": ""
             }
            },
            "type": "scatterpolar"
           }
          ],
          "scatterpolargl": [
           {
            "marker": {
             "colorbar": {
              "outlinewidth": 0,
              "ticks": ""
             }
            },
            "type": "scatterpolargl"
           }
          ],
          "scatterternary": [
           {
            "marker": {
             "colorbar": {
              "outlinewidth": 0,
              "ticks": ""
             }
            },
            "type": "scatterternary"
           }
          ],
          "surface": [
           {
            "colorbar": {
             "outlinewidth": 0,
             "ticks": ""
            },
            "colorscale": [
             [
              0,
              "#0d0887"
             ],
             [
              0.1111111111111111,
              "#46039f"
             ],
             [
              0.2222222222222222,
              "#7201a8"
             ],
             [
              0.3333333333333333,
              "#9c179e"
             ],
             [
              0.4444444444444444,
              "#bd3786"
             ],
             [
              0.5555555555555556,
              "#d8576b"
             ],
             [
              0.6666666666666666,
              "#ed7953"
             ],
             [
              0.7777777777777778,
              "#fb9f3a"
             ],
             [
              0.8888888888888888,
              "#fdca26"
             ],
             [
              1,
              "#f0f921"
             ]
            ],
            "type": "surface"
           }
          ],
          "table": [
           {
            "cells": {
             "fill": {
              "color": "#EBF0F8"
             },
             "line": {
              "color": "white"
             }
            },
            "header": {
             "fill": {
              "color": "#C8D4E3"
             },
             "line": {
              "color": "white"
             }
            },
            "type": "table"
           }
          ]
         },
         "layout": {
          "annotationdefaults": {
           "arrowcolor": "#2a3f5f",
           "arrowhead": 0,
           "arrowwidth": 1
          },
          "autotypenumbers": "strict",
          "coloraxis": {
           "colorbar": {
            "outlinewidth": 0,
            "ticks": ""
           }
          },
          "colorscale": {
           "diverging": [
            [
             0,
             "#8e0152"
            ],
            [
             0.1,
             "#c51b7d"
            ],
            [
             0.2,
             "#de77ae"
            ],
            [
             0.3,
             "#f1b6da"
            ],
            [
             0.4,
             "#fde0ef"
            ],
            [
             0.5,
             "#f7f7f7"
            ],
            [
             0.6,
             "#e6f5d0"
            ],
            [
             0.7,
             "#b8e186"
            ],
            [
             0.8,
             "#7fbc41"
            ],
            [
             0.9,
             "#4d9221"
            ],
            [
             1,
             "#276419"
            ]
           ],
           "sequential": [
            [
             0,
             "#0d0887"
            ],
            [
             0.1111111111111111,
             "#46039f"
            ],
            [
             0.2222222222222222,
             "#7201a8"
            ],
            [
             0.3333333333333333,
             "#9c179e"
            ],
            [
             0.4444444444444444,
             "#bd3786"
            ],
            [
             0.5555555555555556,
             "#d8576b"
            ],
            [
             0.6666666666666666,
             "#ed7953"
            ],
            [
             0.7777777777777778,
             "#fb9f3a"
            ],
            [
             0.8888888888888888,
             "#fdca26"
            ],
            [
             1,
             "#f0f921"
            ]
           ],
           "sequentialminus": [
            [
             0,
             "#0d0887"
            ],
            [
             0.1111111111111111,
             "#46039f"
            ],
            [
             0.2222222222222222,
             "#7201a8"
            ],
            [
             0.3333333333333333,
             "#9c179e"
            ],
            [
             0.4444444444444444,
             "#bd3786"
            ],
            [
             0.5555555555555556,
             "#d8576b"
            ],
            [
             0.6666666666666666,
             "#ed7953"
            ],
            [
             0.7777777777777778,
             "#fb9f3a"
            ],
            [
             0.8888888888888888,
             "#fdca26"
            ],
            [
             1,
             "#f0f921"
            ]
           ]
          },
          "colorway": [
           "#636efa",
           "#EF553B",
           "#00cc96",
           "#ab63fa",
           "#FFA15A",
           "#19d3f3",
           "#FF6692",
           "#B6E880",
           "#FF97FF",
           "#FECB52"
          ],
          "font": {
           "color": "#2a3f5f"
          },
          "geo": {
           "bgcolor": "white",
           "lakecolor": "white",
           "landcolor": "#E5ECF6",
           "showlakes": true,
           "showland": true,
           "subunitcolor": "white"
          },
          "hoverlabel": {
           "align": "left"
          },
          "hovermode": "closest",
          "mapbox": {
           "style": "light"
          },
          "paper_bgcolor": "white",
          "plot_bgcolor": "#E5ECF6",
          "polar": {
           "angularaxis": {
            "gridcolor": "white",
            "linecolor": "white",
            "ticks": ""
           },
           "bgcolor": "#E5ECF6",
           "radialaxis": {
            "gridcolor": "white",
            "linecolor": "white",
            "ticks": ""
           }
          },
          "scene": {
           "xaxis": {
            "backgroundcolor": "#E5ECF6",
            "gridcolor": "white",
            "gridwidth": 2,
            "linecolor": "white",
            "showbackground": true,
            "ticks": "",
            "zerolinecolor": "white"
           },
           "yaxis": {
            "backgroundcolor": "#E5ECF6",
            "gridcolor": "white",
            "gridwidth": 2,
            "linecolor": "white",
            "showbackground": true,
            "ticks": "",
            "zerolinecolor": "white"
           },
           "zaxis": {
            "backgroundcolor": "#E5ECF6",
            "gridcolor": "white",
            "gridwidth": 2,
            "linecolor": "white",
            "showbackground": true,
            "ticks": "",
            "zerolinecolor": "white"
           }
          },
          "shapedefaults": {
           "line": {
            "color": "#2a3f5f"
           }
          },
          "ternary": {
           "aaxis": {
            "gridcolor": "white",
            "linecolor": "white",
            "ticks": ""
           },
           "baxis": {
            "gridcolor": "white",
            "linecolor": "white",
            "ticks": ""
           },
           "bgcolor": "#E5ECF6",
           "caxis": {
            "gridcolor": "white",
            "linecolor": "white",
            "ticks": ""
           }
          },
          "title": {
           "x": 0.05
          },
          "xaxis": {
           "automargin": true,
           "gridcolor": "white",
           "linecolor": "white",
           "ticks": "",
           "title": {
            "standoff": 15
           },
           "zerolinecolor": "white",
           "zerolinewidth": 2
          },
          "yaxis": {
           "automargin": true,
           "gridcolor": "white",
           "linecolor": "white",
           "ticks": "",
           "title": {
            "standoff": 15
           },
           "zerolinecolor": "white",
           "zerolinewidth": 2
          }
         }
        },
        "title": {
         "text": "Air Quality Index Over Time"
        },
        "xaxis": {
         "title": {
          "text": "Date/Time"
         }
        },
        "yaxis": {
         "title": {
          "text": "AQI"
         }
        }
       }
      }
     },
     "metadata": {},
     "output_type": "display_data"
    }
   ],
   "source": [
    "# Time series plot - AQI over time\n",
    "fig = go.Figure()\n",
    "\n",
    "for city in df['city_name'].unique():\n",
    "    city_data = df[df['city_name'] == city].sort_values('timestamp')\n",
    "    \n",
    "    fig.add_trace(go.Scatter(\n",
    "        x=city_data['timestamp'],\n",
    "        y=city_data['aqi'],\n",
    "        mode='lines+markers',\n",
    "        name=city,\n",
    "        line=dict(width=2),\n",
    "        marker=dict(size=4)\n",
    "    ))\n",
    "\n",
    "fig.update_layout(\n",
    "    title='Air Quality Index Over Time',\n",
    "    xaxis_title='Date/Time',\n",
    "    yaxis_title='AQI',\n",
    "    height=500,\n",
    "    hovermode='x unified',\n",
    "    legend=dict(yanchor=\"top\", y=0.99, xanchor=\"left\", x=0.01)\n",
    ")\n",
    "\n",
    "fig.show()"
   ]
  },
  {
   "cell_type": "markdown",
   "id": "3f055df2-cacb-46d2-8b0b-b943618d0991",
   "metadata": {},
   "source": [
    "## 7. Initial insights"
   ]
  },
  {
   "cell_type": "code",
   "execution_count": 13,
   "id": "6d30c5d9-a9ec-4a1f-afcd-0d3a7de987ec",
   "metadata": {},
   "outputs": [
    {
     "name": "stdout",
     "output_type": "stream",
     "text": [
      "================================================================================\n",
      "KEY INSIGHTS FROM YOUR DATA\n",
      "================================================================================\n",
      "\n",
      "✅ Data Quality: 100.0% complete - excellent quality!\n",
      "📅 Collection Duration: 7 days with 360 records\n",
      "🏆 Cleanest City: Sydney (avg AQI: 1.03)\n",
      "⚠️  Most Polluted: Bangkok (avg AQI: 2.62)\n",
      "✅ Average PM2.5 (7.4) within WHO guidelines (15)\n",
      "📊 90.0% of measurements show 'Good' or 'Fair' air quality\n",
      "\n",
      "================================================================================\n",
      "ANALYSIS COMPLETE! 🎉\n",
      "================================================================================\n"
     ]
    }
   ],
   "source": [
    "# Key findings summary\n",
    "print(\"=\" * 80)\n",
    "print(\"KEY INSIGHTS FROM YOUR DATA\")\n",
    "print(\"=\" * 80)\n",
    "\n",
    "insights = []\n",
    "\n",
    "# Data quality\n",
    "completeness = ((1 - df.isnull().sum() / len(df)) * 100).mean()\n",
    "insights.append(f\"✅ Data Quality: {completeness:.1f}% complete - excellent quality!\")\n",
    "\n",
    "# Collection progress\n",
    "duration = (df['timestamp'].max() - df['timestamp'].min()).days\n",
    "insights.append(f\"📅 Collection Duration: {duration} days with {len(df)} records\")\n",
    "\n",
    "# City insights\n",
    "best_city = city_stats['AQI_Mean'].idxmin()\n",
    "worst_city = city_stats['AQI_Mean'].idxmax()\n",
    "insights.append(f\"🏆 Cleanest City: {best_city} (avg AQI: {city_stats.loc[best_city, 'AQI_Mean']:.2f})\")\n",
    "insights.append(f\"⚠️  Most Polluted: {worst_city} (avg AQI: {city_stats.loc[worst_city, 'AQI_Mean']:.2f})\")\n",
    "\n",
    "# Pollutant insights\n",
    "avg_pm25 = df['pm2_5'].mean()\n",
    "who_guideline = 15  # WHO annual guideline\n",
    "if avg_pm25 > who_guideline:\n",
    "    insights.append(f\"⚠️  Average PM2.5 ({avg_pm25:.1f}) exceeds WHO guidelines ({who_guideline})\")\n",
    "else:\n",
    "    insights.append(f\"✅ Average PM2.5 ({avg_pm25:.1f}) within WHO guidelines ({who_guideline})\")\n",
    "\n",
    "# AQI distribution\n",
    "good_pct = (df['aqi'] <= 2).sum() / len(df) * 100\n",
    "insights.append(f\"📊 {good_pct:.1f}% of measurements show 'Good' or 'Fair' air quality\")\n",
    "\n",
    "print(\"\\n\" + \"\\n\".join(insights))\n",
    "\n",
    "print(\"\\n\" + \"=\" * 80)\n",
    "print(\"ANALYSIS COMPLETE! 🎉\")\n",
    "print(\"=\" * 80)"
   ]
  }
 ],
 "metadata": {
  "kernelspec": {
   "display_name": "Python 3 (ipykernel)",
   "language": "python",
   "name": "python3"
  },
  "language_info": {
   "codemirror_mode": {
    "name": "ipython",
    "version": 3
   },
   "file_extension": ".py",
   "mimetype": "text/x-python",
   "name": "python",
   "nbconvert_exporter": "python",
   "pygments_lexer": "ipython3",
   "version": "3.11.3"
  }
 },
 "nbformat": 4,
 "nbformat_minor": 5
}
