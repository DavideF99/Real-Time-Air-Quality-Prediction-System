{
 "cells": [
  {
   "cell_type": "markdown",
   "id": "67018a9e-8b7d-4c59-af83-8b61e233ce2c",
   "metadata": {},
   "source": [
    "# 🔧 Feature Engineering for Air Quality Prediction\n",
    "\n",
    "**Project:** Real-Time Air Quality Index Predictor\n",
    "\n",
    "**Phase:** 2 - Exploratory Data Analysis\n",
    "\n",
    "**Notebook:** 03 - Feature Engineering\n",
    "\n",
    "**Objective:** Create powerful features that will help our models predict AQI 24 hours in advance.\n",
    "\n",
    "---\n",
    "\n",
    "## 📋 Contents\n",
    "1. Setup & Data Loading\n",
    "2. Time-Based Features\n",
    "3. Lag Features (Historical Values)\n",
    "4. Rolling Statistics (Moving Averages)\n",
    "5. Rate of Change Features\n",
    "6. Interaction Features\n",
    "7. Feature Validation\n",
    "8. Save Feature-Engineered Dataset\n",
    "\n",
    "---\n",
    "\n",
    "## 🎯 What We're Building\n",
    "\n",
    "**Target Variable:** AQI 24 hours in the future (`aqi_next_24h`)\n",
    "\n",
    "**Feature Categories:**\n",
    "- ⏰ Time features (hour, day, season)\n",
    "- 📊 Lag features (values from 1h, 3h, 6h, 12h, 24h ago)\n",
    "- 📈 Rolling statistics (3h, 6h, 12h, 24h averages)\n",
    "- 📉 Rate of change (how fast pollution is changing)\n",
    "- 🔗 Interactions (combined features)"
   ]
  },
  {
   "cell_type": "markdown",
   "id": "0722aa19-2697-4528-b60e-5150ff59405a",
   "metadata": {},
   "source": [
    "## 1. Setup & Data Loading"
   ]
  },
  {
   "cell_type": "code",
   "execution_count": 1,
   "id": "04760686-9ced-4ae2-9796-b0f2046a688b",
   "metadata": {},
   "outputs": [
    {
     "name": "stdout",
     "output_type": "stream",
     "text": [
      "\u001b[32m2025-10-29 11:50:53\u001b[0m | \u001b[1mINFO    \u001b[0m | \u001b[36msrc.utils.logger\u001b[0m:\u001b[36msetup\u001b[0m:\u001b[36m103\u001b[0m | \u001b[1mLogging system initialized\u001b[0m\n",
      "\u001b[32m2025-10-29 11:50:53\u001b[0m | \u001b[1mINFO    \u001b[0m | \u001b[36msrc.utils.logger\u001b[0m:\u001b[36msetup\u001b[0m:\u001b[36m104\u001b[0m | \u001b[1mLog level: INFO\u001b[0m\n",
      "\u001b[32m2025-10-29 11:50:53\u001b[0m | \u001b[1mINFO    \u001b[0m | \u001b[36msrc.utils.logger\u001b[0m:\u001b[36msetup\u001b[0m:\u001b[36m106\u001b[0m | \u001b[1mLog directory: /Users/davideferreri/Documents/GitHub/City-Air-Quality-Index-Predictor-with-Live-Data-Pipeline/data/logs\u001b[0m\n",
      "✅ Libraries loaded!\n",
      "📁 Project root: /Users/davideferreri/Documents/GitHub/City-Air-Quality-Index-Predictor-with-Live-Data-Pipeline\n"
     ]
    }
   ],
   "source": [
    "# Standard imports\n",
    "import sys\n",
    "from pathlib import Path\n",
    "\n",
    "# Add project root\n",
    "project_root = Path.cwd().parent if 'notebooks' in str(Path.cwd()) else Path.cwd()\n",
    "sys.path.insert(0, str(project_root))\n",
    "\n",
    "# Data manipulation\n",
    "import pandas as pd\n",
    "import numpy as np\n",
    "import warnings\n",
    "warnings.filterwarnings('ignore')\n",
    "\n",
    "# Visualization\n",
    "import matplotlib.pyplot as plt\n",
    "import seaborn as sns\n",
    "import plotly.express as px\n",
    "import plotly.graph_objects as go\n",
    "\n",
    "# Project modules\n",
    "from src.data.cleaners import DataCleaner\n",
    "from src.utils.config import get_config\n",
    "\n",
    "# Configure\n",
    "pd.set_option('display.max_columns', None)\n",
    "pd.set_option('display.max_rows', 100)\n",
    "%matplotlib inline\n",
    "\n",
    "print(\"✅ Libraries loaded!\")\n",
    "print(f\"📁 Project root: {project_root}\")"
   ]
  },
  {
   "cell_type": "code",
   "execution_count": 2,
   "id": "1693fc8e-6df0-4351-a331-b380c7a1e510",
   "metadata": {},
   "outputs": [
    {
     "name": "stdout",
     "output_type": "stream",
     "text": [
      "Loading data...\n",
      "\u001b[32m2025-10-29 11:50:53\u001b[0m | \u001b[1mINFO    \u001b[0m | \u001b[36msrc.data.cleaners\u001b[0m:\u001b[36m__init__\u001b[0m:\u001b[36m62\u001b[0m | \u001b[1mDataCleaner initialized\u001b[0m\n",
      "\u001b[32m2025-10-29 11:50:53\u001b[0m | \u001b[1mINFO    \u001b[0m | \u001b[36msrc.data.cleaners\u001b[0m:\u001b[36mload_all_raw_data\u001b[0m:\u001b[36m108\u001b[0m | \u001b[1mFound 40 raw data files\u001b[0m\n",
      "\u001b[32m2025-10-29 11:50:53\u001b[0m | \u001b[1mINFO    \u001b[0m | \u001b[36msrc.data.cleaners\u001b[0m:\u001b[36mload_all_raw_data\u001b[0m:\u001b[36m135\u001b[0m | \u001b[1mRemoved 18 duplicate records\u001b[0m\n",
      "\u001b[32m2025-10-29 11:50:53\u001b[0m | \u001b[1mINFO    \u001b[0m | \u001b[36msrc.data.cleaners\u001b[0m:\u001b[36mload_all_raw_data\u001b[0m:\u001b[36m137\u001b[0m | \u001b[1mCombined dataset: 222 records\u001b[0m\n",
      "\u001b[32m2025-10-29 11:50:53\u001b[0m | \u001b[1mINFO    \u001b[0m | \u001b[36msrc.data.cleaners\u001b[0m:\u001b[36mclean_data\u001b[0m:\u001b[36m367\u001b[0m | \u001b[1mStarting data cleaning pipeline\u001b[0m\n",
      "\u001b[32m2025-10-29 11:50:53\u001b[0m | \u001b[1mINFO    \u001b[0m | \u001b[36msrc.data.cleaners\u001b[0m:\u001b[36mclean_data\u001b[0m:\u001b[36m368\u001b[0m | \u001b[1mInput: 222 records, 14 columns\u001b[0m\n",
      "\u001b[32m2025-10-29 11:50:53\u001b[0m | \u001b[1mINFO    \u001b[0m | \u001b[36msrc.data.cleaners\u001b[0m:\u001b[36mvalidate_schema\u001b[0m:\u001b[36m167\u001b[0m | \u001b[1mSchema validation passed\u001b[0m\n",
      "\u001b[32m2025-10-29 11:50:53\u001b[0m | \u001b[1mINFO    \u001b[0m | \u001b[36msrc.data.cleaners\u001b[0m:\u001b[36mvalidate_data_ranges\u001b[0m:\u001b[36m185\u001b[0m | \u001b[1mValidating data ranges\u001b[0m\n",
      "\u001b[32m2025-10-29 11:50:53\u001b[0m | \u001b[1mINFO    \u001b[0m | \u001b[36msrc.data.cleaners\u001b[0m:\u001b[36mhandle_missing_values\u001b[0m:\u001b[36m232\u001b[0m | \u001b[1mHandling missing values\u001b[0m\n",
      "\u001b[32m2025-10-29 11:50:53\u001b[0m | \u001b[1mINFO    \u001b[0m | \u001b[36msrc.data.cleaners\u001b[0m:\u001b[36mdetect_outliers\u001b[0m:\u001b[36m281\u001b[0m | \u001b[1mDetecting outliers using iqr method\u001b[0m\n",
      "\u001b[32m2025-10-29 11:50:53\u001b[0m | \u001b[1mINFO    \u001b[0m | \u001b[36msrc.data.cleaners\u001b[0m:\u001b[36mdetect_outliers\u001b[0m:\u001b[36m299\u001b[0m | \u001b[1mpm2_5: 39 outliers detected\u001b[0m\n",
      "\u001b[32m2025-10-29 11:50:53\u001b[0m | \u001b[1mINFO    \u001b[0m | \u001b[36msrc.data.cleaners\u001b[0m:\u001b[36mdetect_outliers\u001b[0m:\u001b[36m299\u001b[0m | \u001b[1mpm10: 34 outliers detected\u001b[0m\n",
      "\u001b[32m2025-10-29 11:50:53\u001b[0m | \u001b[1mINFO    \u001b[0m | \u001b[36msrc.data.cleaners\u001b[0m:\u001b[36mdetect_outliers\u001b[0m:\u001b[36m299\u001b[0m | \u001b[1mno2: 21 outliers detected\u001b[0m\n",
      "\u001b[32m2025-10-29 11:50:53\u001b[0m | \u001b[1mINFO    \u001b[0m | \u001b[36msrc.data.cleaners\u001b[0m:\u001b[36mdetect_outliers\u001b[0m:\u001b[36m299\u001b[0m | \u001b[1mo3: 2 outliers detected\u001b[0m\n",
      "\u001b[32m2025-10-29 11:50:53\u001b[0m | \u001b[1mINFO    \u001b[0m | \u001b[36msrc.data.cleaners\u001b[0m:\u001b[36mdetect_outliers\u001b[0m:\u001b[36m299\u001b[0m | \u001b[1mco: 37 outliers detected\u001b[0m\n",
      "\u001b[32m2025-10-29 11:50:53\u001b[0m | \u001b[1mINFO    \u001b[0m | \u001b[36msrc.data.cleaners\u001b[0m:\u001b[36mdetect_outliers\u001b[0m:\u001b[36m299\u001b[0m | \u001b[1mso2: 2 outliers detected\u001b[0m\n",
      "\u001b[32m2025-10-29 11:50:53\u001b[0m | \u001b[1mINFO    \u001b[0m | \u001b[36msrc.data.cleaners\u001b[0m:\u001b[36madd_derived_features\u001b[0m:\u001b[36m317\u001b[0m | \u001b[1mAdding derived features\u001b[0m\n",
      "\u001b[32m2025-10-29 11:50:53\u001b[0m | \u001b[1mINFO    \u001b[0m | \u001b[36msrc.data.cleaners\u001b[0m:\u001b[36madd_derived_features\u001b[0m:\u001b[36m344\u001b[0m | \u001b[1mAdded 5 derived features\u001b[0m\n",
      "\u001b[32m2025-10-29 11:50:53\u001b[0m | \u001b[1mINFO    \u001b[0m | \u001b[36msrc.data.cleaners\u001b[0m:\u001b[36mclean_data\u001b[0m:\u001b[36m382\u001b[0m | \u001b[1mOutput: 222 records, 21 columns\u001b[0m\n",
      "\u001b[32m2025-10-29 11:50:53\u001b[0m | \u001b[1mINFO    \u001b[0m | \u001b[36msrc.data.cleaners\u001b[0m:\u001b[36mclean_data\u001b[0m:\u001b[36m383\u001b[0m | \u001b[1mData cleaning pipeline completed\u001b[0m\n",
      "✅ Loaded 222 records\n",
      "📅 Date range: 2025-10-22 10:36:28 to 2025-10-29 11:00:07\n",
      "🌍 Cities: 6\n",
      "\n",
      "📊 Current columns: 21\n",
      "Current features: ['timestamp', 'city_key', 'city_name', 'country', 'fetch_timestamp', 'aqi', 'co', 'no', 'no2', 'o3']...\n"
     ]
    }
   ],
   "source": [
    "# Load and prepare data\n",
    "print(\"Loading data...\")\n",
    "\n",
    "cleaner = DataCleaner()\n",
    "df = cleaner.clean_data(cleaner.load_all_raw_data())\n",
    "df['timestamp'] = pd.to_datetime(df['timestamp'])\n",
    "\n",
    "# Sort by city and timestamp (CRITICAL for time series features)\n",
    "df = df.sort_values(['city_key', 'timestamp']).reset_index(drop=True)\n",
    "\n",
    "print(f\"✅ Loaded {len(df)} records\")\n",
    "print(f\"📅 Date range: {df['timestamp'].min()} to {df['timestamp'].max()}\")\n",
    "print(f\"🌍 Cities: {df['city_name'].nunique()}\")\n",
    "print(f\"\\n📊 Current columns: {len(df.columns)}\")\n",
    "print(f\"Current features: {list(df.columns)[:10]}...\")"
   ]
  },
  {
   "cell_type": "markdown",
   "id": "8d9eb444-d03e-4713-8dff-1816cfe8c528",
   "metadata": {},
   "source": [
    "## 1. Time-Based Features ⏰\n",
    "\n",
    "Time features capture cyclical patterns (hourly, daily, weekly, seasonal)."
   ]
  },
  {
   "cell_type": "code",
   "execution_count": 3,
   "id": "dccfdfd8-fa52-4b98-89a8-e8d94cb7e6d2",
   "metadata": {},
   "outputs": [
    {
     "name": "stdout",
     "output_type": "stream",
     "text": [
      "================================================================================\n",
      "CREATING TIME-BASED FEATURES\n",
      "================================================================================\n",
      "\n",
      "✅ Created time-based features:\n",
      "   • Cyclical encodings: hour_sin/cos, day_sin/cos, month_sin/cos\n",
      "   • Part of day: ['morning' 'afternoon' 'evening' 'night']\n",
      "   • Rush hour indicator: 50 rush hour records\n",
      "   • Season: ['autumn']\n",
      "\n",
      "📊 New column count: 30\n"
     ]
    }
   ],
   "source": [
    "# Extract time-based features\n",
    "print(\"=\" * 80)\n",
    "print(\"CREATING TIME-BASED FEATURES\")\n",
    "print(\"=\" * 80)\n",
    "\n",
    "# Already have: hour, day_of_week, month, year, is_weekend\n",
    "# Let's add more advanced time features\n",
    "\n",
    "# Cyclical encoding for hour (sine/cosine transformation)\n",
    "# This helps models understand that 23:00 and 00:00 are close\n",
    "df['hour_sin'] = np.sin(2 * np.pi * df['hour'] / 24)\n",
    "df['hour_cos'] = np.cos(2 * np.pi * df['hour'] / 24)\n",
    "\n",
    "# Cyclical encoding for day of week\n",
    "df['day_sin'] = np.sin(2 * np.pi * df['day_of_week'] / 7)\n",
    "df['day_cos'] = np.cos(2 * np.pi * df['day_of_week'] / 7)\n",
    "\n",
    "# Cyclical encoding for month\n",
    "df['month_sin'] = np.sin(2 * np.pi * df['month'] / 12)\n",
    "df['month_cos'] = np.cos(2 * np.pi * df['month'] / 12)\n",
    "\n",
    "# Part of day (morning, afternoon, evening, night)\n",
    "def get_part_of_day(hour):\n",
    "    if 6 <= hour < 12:\n",
    "        return 'morning'\n",
    "    elif 12 <= hour < 18:\n",
    "        return 'afternoon'\n",
    "    elif 18 <= hour < 22:\n",
    "        return 'evening'\n",
    "    else:\n",
    "        return 'night'\n",
    "\n",
    "df['part_of_day'] = df['hour'].apply(get_part_of_day)\n",
    "\n",
    "# Rush hours (7-9 AM, 5-7 PM)\n",
    "df['is_rush_hour'] = df['hour'].isin([7, 8, 9, 17, 18, 19]).astype(int)\n",
    "\n",
    "# Season (Northern Hemisphere - adjust for Southern if needed)\n",
    "def get_season(month):\n",
    "    if month in [12, 1, 2]:\n",
    "        return 'winter'\n",
    "    elif month in [3, 4, 5]:\n",
    "        return 'spring'\n",
    "    elif month in [6, 7, 8]:\n",
    "        return 'summer'\n",
    "    else:\n",
    "        return 'autumn'\n",
    "\n",
    "df['season'] = df['month'].apply(get_season)\n",
    "\n",
    "print(f\"\\n✅ Created time-based features:\")\n",
    "print(f\"   • Cyclical encodings: hour_sin/cos, day_sin/cos, month_sin/cos\")\n",
    "print(f\"   • Part of day: {df['part_of_day'].unique()}\")\n",
    "print(f\"   • Rush hour indicator: {df['is_rush_hour'].sum()} rush hour records\")\n",
    "print(f\"   • Season: {df['season'].unique()}\")\n",
    "\n",
    "print(f\"\\n📊 New column count: {len(df.columns)}\")"
   ]
  },
  {
   "cell_type": "code",
   "execution_count": 4,
   "id": "a4ff66f0-5147-4851-a94a-690eca2aaf7e",
   "metadata": {},
   "outputs": [
    {
     "data": {
      "image/png": "[encoded data removed]",
      "text/plain": [
       "<Figure size 1400x500 with 2 Axes>"
      ]
     },
     "metadata": {},
     "output_type": "display_data"
    },
    {
     "name": "stdout",
     "output_type": "stream",
     "text": [
      "\n",
      "💡 Cyclical encoding helps models understand:\n",
      "   • 11 PM and 12 AM are close in time (not 23 hours apart!)\n",
      "   • Monday and Sunday are adjacent (not 6 days apart!)\n"
     ]
    }
   ],
   "source": [
    "# Visualize cyclical encoding\n",
    "fig, axes = plt.subplots(1, 2, figsize=(14, 5))\n",
    "\n",
    "# Hour encoding\n",
    "axes[0].scatter(df['hour_sin'], df['hour_cos'], c=df['hour'], cmap='twilight', s=50, alpha=0.6)\n",
    "axes[0].set_xlabel('Hour Sine', fontsize=12, fontweight='bold')\n",
    "axes[0].set_ylabel('Hour Cosine', fontsize=12, fontweight='bold')\n",
    "axes[0].set_title('Cyclical Hour Encoding\\n(Colors represent hours)', fontsize=13, fontweight='bold')\n",
    "axes[0].grid(True, alpha=0.3)\n",
    "\n",
    "# AQI by part of day\n",
    "part_order = ['morning', 'afternoon', 'evening', 'night']\n",
    "df.boxplot(column='aqi', by='part_of_day', ax=axes[1], grid=False)\n",
    "axes[1].set_xlabel('Part of Day', fontsize=12, fontweight='bold')\n",
    "axes[1].set_ylabel('AQI', fontsize=12, fontweight='bold')\n",
    "axes[1].set_title('AQI Distribution by Part of Day', fontsize=13, fontweight='bold')\n",
    "plt.suptitle('')\n",
    "\n",
    "plt.tight_layout()\n",
    "plt.show()\n",
    "\n",
    "print(\"\\n💡 Cyclical encoding helps models understand:\")\n",
    "print(\"   • 11 PM and 12 AM are close in time (not 23 hours apart!)\")\n",
    "print(\"   • Monday and Sunday are adjacent (not 6 days apart!)\")"
   ]
  },
  {
   "cell_type": "markdown",
   "id": "3ebf2e41-d341-4894-bbfa-f25304c041e5",
   "metadata": {},
   "source": [
    "## 2. Lag Features - Historical Values 📊\n",
    "\n",
    "Lag features use past values to predict the future. **Critical for time series!**\n"
   ]
  },
  {
   "cell_type": "code",
   "execution_count": 5,
   "id": "79b3a9f5-edfd-48f6-87b5-50d7e534553e",
   "metadata": {},
   "outputs": [
    {
     "name": "stdout",
     "output_type": "stream",
     "text": [
      "================================================================================\n",
      "CREATING LAG FEATURES\n",
      "================================================================================\n",
      "\n",
      "✅ Created 25 lag features:\n",
      "   • Variables: ['aqi', 'pm2_5', 'pm10', 'no2', 'o3']\n",
      "   • Lag periods: [1, 3, 6, 12, 24] hours\n",
      "\n",
      "📊 Example - AQI lag features for first city:\n"
     ]
    },
    {
     "data": {
      "text/html": [
       "<div>\n",
       "<style scoped>\n",
       "    .dataframe tbody tr th:only-of-type {\n",
       "        vertical-align: middle;\n",
       "    }\n",
       "\n",
       "    .dataframe tbody tr th {\n",
       "        vertical-align: top;\n",
       "    }\n",
       "\n",
       "    .dataframe thead th {\n",
       "        text-align: right;\n",
       "    }\n",
       "</style>\n",
       "<table border=\"1\" class=\"dataframe\">\n",
       "  <thead>\n",
       "    <tr style=\"text-align: right;\">\n",
       "      <th></th>\n",
       "      <th>timestamp</th>\n",
       "      <th>aqi</th>\n",
       "      <th>aqi_lag_1h</th>\n",
       "      <th>aqi_lag_3h</th>\n",
       "      <th>aqi_lag_6h</th>\n",
       "      <th>aqi_lag_12h</th>\n",
       "      <th>aqi_lag_24h</th>\n",
       "    </tr>\n",
       "  </thead>\n",
       "  <tbody>\n",
       "    <tr>\n",
       "      <th>0</th>\n",
       "      <td>2025-10-22 10:41:18</td>\n",
       "      <td>3</td>\n",
       "      <td>NaN</td>\n",
       "      <td>NaN</td>\n",
       "      <td>NaN</td>\n",
       "      <td>NaN</td>\n",
       "      <td>NaN</td>\n",
       "    </tr>\n",
       "    <tr>\n",
       "      <th>1</th>\n",
       "      <td>2025-10-22 10:47:27</td>\n",
       "      <td>3</td>\n",
       "      <td>3.0</td>\n",
       "      <td>NaN</td>\n",
       "      <td>NaN</td>\n",
       "      <td>NaN</td>\n",
       "      <td>NaN</td>\n",
       "    </tr>\n",
       "    <tr>\n",
       "      <th>2</th>\n",
       "      <td>2025-10-27 12:26:20</td>\n",
       "      <td>3</td>\n",
       "      <td>3.0</td>\n",
       "      <td>NaN</td>\n",
       "      <td>NaN</td>\n",
       "      <td>NaN</td>\n",
       "      <td>NaN</td>\n",
       "    </tr>\n",
       "    <tr>\n",
       "      <th>3</th>\n",
       "      <td>2025-10-27 12:49:45</td>\n",
       "      <td>3</td>\n",
       "      <td>3.0</td>\n",
       "      <td>3.0</td>\n",
       "      <td>NaN</td>\n",
       "      <td>NaN</td>\n",
       "      <td>NaN</td>\n",
       "    </tr>\n",
       "    <tr>\n",
       "      <th>4</th>\n",
       "      <td>2025-10-27 12:56:22</td>\n",
       "      <td>3</td>\n",
       "      <td>3.0</td>\n",
       "      <td>3.0</td>\n",
       "      <td>NaN</td>\n",
       "      <td>NaN</td>\n",
       "      <td>NaN</td>\n",
       "    </tr>\n",
       "    <tr>\n",
       "      <th>5</th>\n",
       "      <td>2025-10-27 14:16:19</td>\n",
       "      <td>3</td>\n",
       "      <td>3.0</td>\n",
       "      <td>3.0</td>\n",
       "      <td>NaN</td>\n",
       "      <td>NaN</td>\n",
       "      <td>NaN</td>\n",
       "    </tr>\n",
       "    <tr>\n",
       "      <th>6</th>\n",
       "      <td>2025-10-27 16:48:54</td>\n",
       "      <td>3</td>\n",
       "      <td>3.0</td>\n",
       "      <td>3.0</td>\n",
       "      <td>3.0</td>\n",
       "      <td>NaN</td>\n",
       "      <td>NaN</td>\n",
       "    </tr>\n",
       "    <tr>\n",
       "      <th>7</th>\n",
       "      <td>2025-10-27 17:37:44</td>\n",
       "      <td>4</td>\n",
       "      <td>3.0</td>\n",
       "      <td>3.0</td>\n",
       "      <td>3.0</td>\n",
       "      <td>NaN</td>\n",
       "      <td>NaN</td>\n",
       "    </tr>\n",
       "    <tr>\n",
       "      <th>8</th>\n",
       "      <td>2025-10-28 09:34:46</td>\n",
       "      <td>3</td>\n",
       "      <td>4.0</td>\n",
       "      <td>3.0</td>\n",
       "      <td>3.0</td>\n",
       "      <td>NaN</td>\n",
       "      <td>NaN</td>\n",
       "    </tr>\n",
       "    <tr>\n",
       "      <th>9</th>\n",
       "      <td>2025-10-28 09:56:04</td>\n",
       "      <td>3</td>\n",
       "      <td>3.0</td>\n",
       "      <td>3.0</td>\n",
       "      <td>3.0</td>\n",
       "      <td>NaN</td>\n",
       "      <td>NaN</td>\n",
       "    </tr>\n",
       "    <tr>\n",
       "      <th>10</th>\n",
       "      <td>2025-10-28 11:39:01</td>\n",
       "      <td>3</td>\n",
       "      <td>3.0</td>\n",
       "      <td>4.0</td>\n",
       "      <td>3.0</td>\n",
       "      <td>NaN</td>\n",
       "      <td>NaN</td>\n",
       "    </tr>\n",
       "    <tr>\n",
       "      <th>11</th>\n",
       "      <td>2025-10-28 11:40:45</td>\n",
       "      <td>3</td>\n",
       "      <td>3.0</td>\n",
       "      <td>3.0</td>\n",
       "      <td>3.0</td>\n",
       "      <td>NaN</td>\n",
       "      <td>NaN</td>\n",
       "    </tr>\n",
       "    <tr>\n",
       "      <th>12</th>\n",
       "      <td>2025-10-28 11:56:16</td>\n",
       "      <td>3</td>\n",
       "      <td>3.0</td>\n",
       "      <td>3.0</td>\n",
       "      <td>3.0</td>\n",
       "      <td>3.0</td>\n",
       "      <td>NaN</td>\n",
       "    </tr>\n",
       "    <tr>\n",
       "      <th>13</th>\n",
       "      <td>2025-10-28 12:26:14</td>\n",
       "      <td>3</td>\n",
       "      <td>3.0</td>\n",
       "      <td>3.0</td>\n",
       "      <td>4.0</td>\n",
       "      <td>3.0</td>\n",
       "      <td>NaN</td>\n",
       "    </tr>\n",
       "    <tr>\n",
       "      <th>14</th>\n",
       "      <td>2025-10-28 12:56:18</td>\n",
       "      <td>3</td>\n",
       "      <td>3.0</td>\n",
       "      <td>3.0</td>\n",
       "      <td>3.0</td>\n",
       "      <td>3.0</td>\n",
       "      <td>NaN</td>\n",
       "    </tr>\n",
       "    <tr>\n",
       "      <th>15</th>\n",
       "      <td>2025-10-28 13:56:24</td>\n",
       "      <td>2</td>\n",
       "      <td>3.0</td>\n",
       "      <td>3.0</td>\n",
       "      <td>3.0</td>\n",
       "      <td>3.0</td>\n",
       "      <td>NaN</td>\n",
       "    </tr>\n",
       "    <tr>\n",
       "      <th>16</th>\n",
       "      <td>2025-10-28 14:56:23</td>\n",
       "      <td>2</td>\n",
       "      <td>2.0</td>\n",
       "      <td>3.0</td>\n",
       "      <td>3.0</td>\n",
       "      <td>3.0</td>\n",
       "      <td>NaN</td>\n",
       "    </tr>\n",
       "    <tr>\n",
       "      <th>17</th>\n",
       "      <td>2025-10-28 15:56:26</td>\n",
       "      <td>2</td>\n",
       "      <td>2.0</td>\n",
       "      <td>3.0</td>\n",
       "      <td>3.0</td>\n",
       "      <td>3.0</td>\n",
       "      <td>NaN</td>\n",
       "    </tr>\n",
       "    <tr>\n",
       "      <th>18</th>\n",
       "      <td>2025-10-28 17:09:56</td>\n",
       "      <td>2</td>\n",
       "      <td>2.0</td>\n",
       "      <td>2.0</td>\n",
       "      <td>3.0</td>\n",
       "      <td>3.0</td>\n",
       "      <td>NaN</td>\n",
       "    </tr>\n",
       "    <tr>\n",
       "      <th>19</th>\n",
       "      <td>2025-10-28 17:56:37</td>\n",
       "      <td>2</td>\n",
       "      <td>2.0</td>\n",
       "      <td>2.0</td>\n",
       "      <td>3.0</td>\n",
       "      <td>4.0</td>\n",
       "      <td>NaN</td>\n",
       "    </tr>\n",
       "    <tr>\n",
       "      <th>20</th>\n",
       "      <td>2025-10-28 19:10:58</td>\n",
       "      <td>2</td>\n",
       "      <td>2.0</td>\n",
       "      <td>2.0</td>\n",
       "      <td>3.0</td>\n",
       "      <td>3.0</td>\n",
       "      <td>NaN</td>\n",
       "    </tr>\n",
       "    <tr>\n",
       "      <th>21</th>\n",
       "      <td>2025-10-28 19:56:47</td>\n",
       "      <td>2</td>\n",
       "      <td>2.0</td>\n",
       "      <td>2.0</td>\n",
       "      <td>2.0</td>\n",
       "      <td>3.0</td>\n",
       "      <td>NaN</td>\n",
       "    </tr>\n",
       "    <tr>\n",
       "      <th>22</th>\n",
       "      <td>2025-10-28 20:56:56</td>\n",
       "      <td>3</td>\n",
       "      <td>2.0</td>\n",
       "      <td>2.0</td>\n",
       "      <td>2.0</td>\n",
       "      <td>3.0</td>\n",
       "      <td>NaN</td>\n",
       "    </tr>\n",
       "    <tr>\n",
       "      <th>23</th>\n",
       "      <td>2025-10-28 22:08:42</td>\n",
       "      <td>2</td>\n",
       "      <td>3.0</td>\n",
       "      <td>2.0</td>\n",
       "      <td>2.0</td>\n",
       "      <td>3.0</td>\n",
       "      <td>NaN</td>\n",
       "    </tr>\n",
       "    <tr>\n",
       "      <th>24</th>\n",
       "      <td>2025-10-28 23:08:58</td>\n",
       "      <td>2</td>\n",
       "      <td>2.0</td>\n",
       "      <td>2.0</td>\n",
       "      <td>2.0</td>\n",
       "      <td>3.0</td>\n",
       "      <td>3.0</td>\n",
       "    </tr>\n",
       "    <tr>\n",
       "      <th>25</th>\n",
       "      <td>2025-10-29 00:13:37</td>\n",
       "      <td>2</td>\n",
       "      <td>2.0</td>\n",
       "      <td>3.0</td>\n",
       "      <td>2.0</td>\n",
       "      <td>3.0</td>\n",
       "      <td>3.0</td>\n",
       "    </tr>\n",
       "  </tbody>\n",
       "</table>\n",
       "</div>"
      ],
      "text/plain": [
       "             timestamp  aqi  aqi_lag_1h  aqi_lag_3h  aqi_lag_6h  aqi_lag_12h  \\\n",
       "0  2025-10-22 10:41:18    3         NaN         NaN         NaN          NaN   \n",
       "1  2025-10-22 10:47:27    3         3.0         NaN         NaN          NaN   \n",
       "2  2025-10-27 12:26:20    3         3.0         NaN         NaN          NaN   \n",
       "3  2025-10-27 12:49:45    3         3.0         3.0         NaN          NaN   \n",
       "4  2025-10-27 12:56:22    3         3.0         3.0         NaN          NaN   \n",
       "5  2025-10-27 14:16:19    3         3.0         3.0         NaN          NaN   \n",
       "6  2025-10-27 16:48:54    3         3.0         3.0         3.0          NaN   \n",
       "7  2025-10-27 17:37:44    4         3.0         3.0         3.0          NaN   \n",
       "8  2025-10-28 09:34:46    3         4.0         3.0         3.0          NaN   \n",
       "9  2025-10-28 09:56:04    3         3.0         3.0         3.0          NaN   \n",
       "10 2025-10-28 11:39:01    3         3.0         4.0         3.0          NaN   \n",
       "11 2025-10-28 11:40:45    3         3.0         3.0         3.0          NaN   \n",
       "12 2025-10-28 11:56:16    3         3.0         3.0         3.0          3.0   \n",
       "13 2025-10-28 12:26:14    3         3.0         3.0         4.0          3.0   \n",
       "14 2025-10-28 12:56:18    3         3.0         3.0         3.0          3.0   \n",
       "15 2025-10-28 13:56:24    2         3.0         3.0         3.0          3.0   \n",
       "16 2025-10-28 14:56:23    2         2.0         3.0         3.0          3.0   \n",
       "17 2025-10-28 15:56:26    2         2.0         3.0         3.0          3.0   \n",
       "18 2025-10-28 17:09:56    2         2.0         2.0         3.0          3.0   \n",
       "19 2025-10-28 17:56:37    2         2.0         2.0         3.0          4.0   \n",
       "20 2025-10-28 19:10:58    2         2.0         2.0         3.0          3.0   \n",
       "21 2025-10-28 19:56:47    2         2.0         2.0         2.0          3.0   \n",
       "22 2025-10-28 20:56:56    3         2.0         2.0         2.0          3.0   \n",
       "23 2025-10-28 22:08:42    2         3.0         2.0         2.0          3.0   \n",
       "24 2025-10-28 23:08:58    2         2.0         2.0         2.0          3.0   \n",
       "25 2025-10-29 00:13:37    2         2.0         3.0         2.0          3.0   \n",
       "\n",
       "    aqi_lag_24h  \n",
       "0           NaN  \n",
       "1           NaN  \n",
       "2           NaN  \n",
       "3           NaN  \n",
       "4           NaN  \n",
       "5           NaN  \n",
       "6           NaN  \n",
       "7           NaN  \n",
       "8           NaN  \n",
       "9           NaN  \n",
       "10          NaN  \n",
       "11          NaN  \n",
       "12          NaN  \n",
       "13          NaN  \n",
       "14          NaN  \n",
       "15          NaN  \n",
       "16          NaN  \n",
       "17          NaN  \n",
       "18          NaN  \n",
       "19          NaN  \n",
       "20          NaN  \n",
       "21          NaN  \n",
       "22          NaN  \n",
       "23          NaN  \n",
       "24          3.0  \n",
       "25          3.0  "
      ]
     },
     "metadata": {},
     "output_type": "display_data"
    },
    {
     "name": "stdout",
     "output_type": "stream",
     "text": [
      "\n",
      "⚠️  Note: First 24 records per city have NaN lag values (no history)\n",
      "   Records with complete lags: 78/222\n"
     ]
    }
   ],
   "source": [
    "# Create lag features (previous values)\n",
    "print(\"=\" * 80)\n",
    "print(\"CREATING LAG FEATURES\")\n",
    "print(\"=\" * 80)\n",
    "\n",
    "# Define lag periods (hours ago)\n",
    "lag_periods = [1, 3, 6, 12, 24]\n",
    "\n",
    "# Create lag features for AQI and key pollutants\n",
    "lag_columns = ['aqi', 'pm2_5', 'pm10', 'no2', 'o3']\n",
    "\n",
    "for col in lag_columns:\n",
    "    for lag in lag_periods:\n",
    "        # Create lag feature (shift within each city)\n",
    "        df[f'{col}_lag_{lag}h'] = df.groupby('city_key')[col].shift(lag)\n",
    "        \n",
    "print(f\"\\n✅ Created {len(lag_columns) * len(lag_periods)} lag features:\")\n",
    "print(f\"   • Variables: {lag_columns}\")\n",
    "print(f\"   • Lag periods: {lag_periods} hours\")\n",
    "\n",
    "# Show example\n",
    "print(f\"\\n📊 Example - AQI lag features for first city:\")\n",
    "sample = df[df['city_key'] == df['city_key'].iloc[0]].head(26)[['timestamp', 'aqi', 'aqi_lag_1h', 'aqi_lag_3h', 'aqi_lag_6h', 'aqi_lag_12h', 'aqi_lag_24h']]\n",
    "display(sample)\n",
    "\n",
    "print(f\"\\n⚠️  Note: First {max(lag_periods)} records per city have NaN lag values (no history)\")\n",
    "print(f\"   Records with complete lags: {df['aqi_lag_24h'].notna().sum()}/{len(df)}\")"
   ]
  },
  {
   "cell_type": "markdown",
   "id": "a10ee752-f1fb-4635-a42b-622087b4cc25",
   "metadata": {},
   "source": [
    "## 3. Rolling Statistics - Moving Averages 📈\n",
    "\n",
    "Rolling features smooth out noise and capture trends."
   ]
  },
  {
   "cell_type": "code",
   "execution_count": 6,
   "id": "9a9379f7-ab3e-49fc-a4f1-f9e9e040c076",
   "metadata": {},
   "outputs": [
    {
     "name": "stdout",
     "output_type": "stream",
     "text": [
      "================================================================================\n",
      "CREATING ROLLING STATISTICS\n",
      "================================================================================\n",
      "\n",
      "✅ Created 80 rolling features:\n",
      "   • Statistics: mean, std, min, max\n",
      "   • Windows: [3, 6, 12, 24] hours\n",
      "   • Variables: ['aqi', 'pm2_5', 'pm10', 'no2', 'o3']\n",
      "\n",
      "📊 New column count: 135\n"
     ]
    }
   ],
   "source": [
    "# Create rolling window features\n",
    "print(\"=\" * 80)\n",
    "print(\"CREATING ROLLING STATISTICS\")\n",
    "print(\"=\" * 80)\n",
    "\n",
    "# Define window sizes (hours)\n",
    "windows = [3, 6, 12, 24]\n",
    "\n",
    "# Features to calculate rolling stats for\n",
    "rolling_columns = ['aqi', 'pm2_5', 'pm10', 'no2', 'o3']\n",
    "\n",
    "for col in rolling_columns:\n",
    "    for window in windows:\n",
    "        # Rolling mean (average)\n",
    "        df[f'{col}_rolling_mean_{window}h'] = (\n",
    "            df.groupby('city_key')[col]\n",
    "            .transform(lambda x: x.rolling(window=window, min_periods=1).mean())\n",
    "        )\n",
    "        \n",
    "        # Rolling std (variability)\n",
    "        df[f'{col}_rolling_std_{window}h'] = (\n",
    "            df.groupby('city_key')[col]\n",
    "            .transform(lambda x: x.rolling(window=window, min_periods=1).std())\n",
    "        )\n",
    "        \n",
    "        # Rolling min and max\n",
    "        df[f'{col}_rolling_min_{window}h'] = (\n",
    "            df.groupby('city_key')[col]\n",
    "            .transform(lambda x: x.rolling(window=window, min_periods=1).min())\n",
    "        )\n",
    "        \n",
    "        df[f'{col}_rolling_max_{window}h'] = (\n",
    "            df.groupby('city_key')[col]\n",
    "            .transform(lambda x: x.rolling(window=window, min_periods=1).max())\n",
    "        )\n",
    "\n",
    "print(f\"\\n✅ Created {len(rolling_columns) * len(windows) * 4} rolling features:\")\n",
    "print(f\"   • Statistics: mean, std, min, max\")\n",
    "print(f\"   • Windows: {windows} hours\")\n",
    "print(f\"   • Variables: {rolling_columns}\")\n",
    "\n",
    "print(f\"\\n📊 New column count: {len(df.columns)}\")"
   ]
  },
  {
   "cell_type": "code",
   "execution_count": 7,
   "id": "9e228feb-b100-446a-9fb6-78d330073ee0",
   "metadata": {},
   "outputs": [
    {
     "data": {
      "application/vnd.plotly.v1+json": {
       "config": {
        "plotlyServerURL": "https://plot.ly"
       },
       "data": [
        {
         "line": {
          "color": "lightgray",
          "width": 1
         },
         "mode": "lines",
         "name": "Actual AQI",
         "opacity": 0.5,
         "type": "scatter",
         "x": [
          "2025-10-22T10:41:18",
          "2025-10-22T10:47:27",
          "2025-10-27T12:26:20",
          "2025-10-27T12:49:45",
          "2025-10-27T12:56:22",
          "2025-10-27T14:16:19",
          "2025-10-27T16:48:54",
          "2025-10-27T17:37:44",
          "2025-10-28T09:34:46",
          "2025-10-28T09:56:04",
          "2025-10-28T11:39:01",
          "2025-10-28T11:40:45",
          "2025-10-28T11:56:16",
          "2025-10-28T12:26:14",
          "2025-10-28T12:56:18",
          "2025-10-28T13:56:24",
          "2025-10-28T14:56:23",
          "2025-10-28T15:56:26",
          "2025-10-28T17:09:56",
          "2025-10-28T17:56:37",
          "2025-10-28T19:10:58",
          "2025-10-28T19:56:47",
          "2025-10-28T20:56:56",
          "2025-10-28T22:08:42",
          "2025-10-28T23:08:58",
          "2025-10-29T00:13:37",
          "2025-10-29T01:10:21",
          "2025-10-29T01:57:19",
          "2025-10-29T03:07:46",
          "2025-10-29T03:57:27",
          "2025-10-29T05:12:36",
          "2025-10-29T06:01:06",
          "2025-10-29T06:55:58",
          "2025-10-29T08:11:31",
          "2025-10-29T08:56:03",
          "2025-10-29T09:56:05",
          "2025-10-29T10:56:14"
         ],
         "y": {
          "bdata": "AwMDAwMDAwQDAwMDAwMDAgICAgICAgMCAgICAgICAgICAgICAg==",
          "dtype": "i1"
         }
        },
        {
         "line": {
          "color": "blue",
          "width": 2
         },
         "mode": "lines",
         "name": "3-hour average",
         "type": "scatter",
         "x": [
          "2025-10-22T10:41:18",
          "2025-10-22T10:47:27",
          "2025-10-27T12:26:20",
          "2025-10-27T12:49:45",
          "2025-10-27T12:56:22",
          "2025-10-27T14:16:19",
          "2025-10-27T16:48:54",
          "2025-10-27T17:37:44",
          "2025-10-28T09:34:46",
          "2025-10-28T09:56:04",
          "2025-10-28T11:39:01",
          "2025-10-28T11:40:45",
          "2025-10-28T11:56:16",
          "2025-10-28T12:26:14",
          "2025-10-28T12:56:18",
          "2025-10-28T13:56:24",
          "2025-10-28T14:56:23",
          "2025-10-28T15:56:26",
          "2025-10-28T17:09:56",
          "2025-10-28T17:56:37",
          "2025-10-28T19:10:58",
          "2025-10-28T19:56:47",
          "2025-10-28T20:56:56",
          "2025-10-28T22:08:42",
          "2025-10-28T23:08:58",
          "2025-10-29T00:13:37",
          "2025-10-29T01:10:21",
          "2025-10-29T01:57:19",
          "2025-10-29T03:07:46",
          "2025-10-29T03:57:27",
          "2025-10-29T05:12:36",
          "2025-10-29T06:01:06",
          "2025-10-29T06:55:58",
          "2025-10-29T08:11:31",
          "2025-10-29T08:56:03",
          "2025-10-29T09:56:05",
          "2025-10-29T10:56:14"
         ],
         "y": {
          "bdata": "AAAAAAAACEAAAAAAAAAIQAAAAAAAAAhAAAAAAAAACEAAAAAAAAAIQAAAAAAAAAhAAAAAAAAACECrqqqqqqoKQKuqqqqqqgpAq6qqqqqqCkAAAAAAAAAIQAAAAAAAAAhAAAAAAAAACEAAAAAAAAAIQAAAAAAAAAhAVVVVVVVVBUCrqqqqqqoCQAAAAAAAAABAAAAAAAAAAEAAAAAAAAAAQAAAAAAAAABAAAAAAAAAAECrqqqqqqoCQKuqqqqqqgJAq6qqqqqqAkAAAAAAAAAAQAAAAAAAAABAAAAAAAAAAEAAAAAAAAAAQAAAAAAAAABAAAAAAAAAAEAAAAAAAAAAQAAAAAAAAABAAAAAAAAAAEAAAAAAAAAAQAAAAAAAAABAAAAAAAAAAEA=",
          "dtype": "f8"
         }
        },
        {
         "line": {
          "color": "red",
          "width": 2
         },
         "mode": "lines",
         "name": "12-hour average",
         "type": "scatter",
         "x": [
          "2025-10-22T10:41:18",
          "2025-10-22T10:47:27",
          "2025-10-27T12:26:20",
          "2025-10-27T12:49:45",
          "2025-10-27T12:56:22",
          "2025-10-27T14:16:19",
          "2025-10-27T16:48:54",
          "2025-10-27T17:37:44",
          "2025-10-28T09:34:46",
          "2025-10-28T09:56:04",
          "2025-10-28T11:39:01",
          "2025-10-28T11:40:45",
          "2025-10-28T11:56:16",
          "2025-10-28T12:26:14",
          "2025-10-28T12:56:18",
          "2025-10-28T13:56:24",
          "2025-10-28T14:56:23",
          "2025-10-28T15:56:26",
          "2025-10-28T17:09:56",
          "2025-10-28T17:56:37",
          "2025-10-28T19:10:58",
          "2025-10-28T19:56:47",
          "2025-10-28T20:56:56",
          "2025-10-28T22:08:42",
          "2025-10-28T23:08:58",
          "2025-10-29T00:13:37",
          "2025-10-29T01:10:21",
          "2025-10-29T01:57:19",
          "2025-10-29T03:07:46",
          "2025-10-29T03:57:27",
          "2025-10-29T05:12:36",
          "2025-10-29T06:01:06",
          "2025-10-29T06:55:58",
          "2025-10-29T08:11:31",
          "2025-10-29T08:56:03",
          "2025-10-29T09:56:05",
          "2025-10-29T10:56:14"
         ],
         "y": {
          "bdata": "AAAAAAAACEAAAAAAAAAIQAAAAAAAAAhAAAAAAAAACEAAAAAAAAAIQAAAAAAAAAhAAAAAAAAACEAAAAAAAAAJQDmO4ziO4whAzczMzMzMCEC66KKLLroIQKuqqqqqqghAq6qqqqqqCECrqqqqqqoIQKuqqqqqqghAAAAAAAAACEBVVVVVVVUHQKuqqqqqqgZAAAAAAAAABkCrqqqqqqoEQAAAAAAAAARAVVVVVVVVA0BVVVVVVVUDQKuqqqqqqgJAAAAAAAAAAkBVVVVVVVUBQKuqqqqqqgBAq6qqqqqqAECrqqqqqqoAQKuqqqqqqgBAq6qqqqqqAECrqqqqqqoAQKuqqqqqqgBAq6qqqqqqAEAAAAAAAAAAQAAAAAAAAABAAAAAAAAAAEA=",
          "dtype": "f8"
         }
        },
        {
         "line": {
          "color": "green",
          "width": 2
         },
         "mode": "lines",
         "name": "24-hour average",
         "type": "scatter",
         "x": [
          "2025-10-22T10:41:18",
          "2025-10-22T10:47:27",
          "2025-10-27T12:26:20",
          "2025-10-27T12:49:45",
          "2025-10-27T12:56:22",
          "2025-10-27T14:16:19",
          "2025-10-27T16:48:54",
          "2025-10-27T17:37:44",
          "2025-10-28T09:34:46",
          "2025-10-28T09:56:04",
          "2025-10-28T11:39:01",
          "2025-10-28T11:40:45",
          "2025-10-28T11:56:16",
          "2025-10-28T12:26:14",
          "2025-10-28T12:56:18",
          "2025-10-28T13:56:24",
          "2025-10-28T14:56:23",
          "2025-10-28T15:56:26",
          "2025-10-28T17:09:56",
          "2025-10-28T17:56:37",
          "2025-10-28T19:10:58",
          "2025-10-28T19:56:47",
          "2025-10-28T20:56:56",
          "2025-10-28T22:08:42",
          "2025-10-28T23:08:58",
          "2025-10-29T00:13:37",
          "2025-10-29T01:10:21",
          "2025-10-29T01:57:19",
          "2025-10-29T03:07:46",
          "2025-10-29T03:57:27",
          "2025-10-29T05:12:36",
          "2025-10-29T06:01:06",
          "2025-10-29T06:55:58",
          "2025-10-29T08:11:31",
          "2025-10-29T08:56:03",
          "2025-10-29T09:56:05",
          "2025-10-29T10:56:14"
         ],
         "y": {
          "bdata": "AAAAAAAACEAAAAAAAAAIQAAAAAAAAAhAAAAAAAAACEAAAAAAAAAIQAAAAAAAAAhAAAAAAAAACEAAAAAAAAAJQDmO4ziO4whAzczMzMzMCEC66KKLLroIQKuqqqqqqghA2Ymd2ImdCEAlSZIkSZIIQImIiIiIiAhAAAAAAAAACECIh4eHh4cHQMdxHMdxHAdAymsor6G8BkBmZmZmZmYGQIZhGIZhGAZA0UUXXXTRBUDf9KY3vekFQKuqqqqqqgVAVVVVVVVVBUAAAAAAAAAFQKuqqqqqqgRAVVVVVVVVBEAAAAAAAAAEQKuqqqqqqgNAVVVVVVVVA0CrqqqqqqoCQFVVVVVVVQJAAAAAAAAAAkCrqqqqqqoBQFVVVVVVVQFAAAAAAAAAAUA=",
          "dtype": "f8"
         }
        }
       ],
       "layout": {
        "height": 500,
        "hovermode": "x unified",
        "template": {
         "data": {
          "bar": [
           {
            "error_x": {
             "color": "#2a3f5f"
            },
            "error_y": {
             "color": "#2a3f5f"
            },
            "marker": {
             "line": {
              "color": "#E5ECF6",
              "width": 0.5
             },
             "pattern": {
              "fillmode": "overlay",
              "size": 10,
              "solidity": 0.2
             }
            },
            "type": "bar"
           }
          ],
          "barpolar": [
           {
            "marker": {
             "line": {
              "color": "#E5ECF6",
              "width": 0.5
             },
             "pattern": {
              "fillmode": "overlay",
              "size": 10,
              "solidity": 0.2
             }
            },
            "type": "barpolar"
           }
          ],
          "carpet": [
           {
            "aaxis": {
             "endlinecolor": "#2a3f5f",
             "gridcolor": "white",
             "linecolor": "white",
             "minorgridcolor": "white",
             "startlinecolor": "#2a3f5f"
            },
            "baxis": {
             "endlinecolor": "#2a3f5f",
             "gridcolor": "white",
             "linecolor": "white",
             "minorgridcolor": "white",
             "startlinecolor": "#2a3f5f"
            },
            "type": "carpet"
           }
          ],
          "choropleth": [
           {
            "colorbar": {
             "outlinewidth": 0,
             "ticks": ""
            },
            "type": "choropleth"
           }
          ],
          "contour": [
           {
            "colorbar": {
             "outlinewidth": 0,
             "ticks": ""
            },
            "colorscale": [
             [
              0,
              "#0d0887"
             ],
             [
              0.1111111111111111,
              "#46039f"
             ],
             [
              0.2222222222222222,
              "#7201a8"
             ],
             [
              0.3333333333333333,
              "#9c179e"
             ],
             [
              0.4444444444444444,
              "#bd3786"
             ],
             [
              0.5555555555555556,
              "#d8576b"
             ],
             [
              0.6666666666666666,
              "#ed7953"
             ],
             [
              0.7777777777777778,
              "#fb9f3a"
             ],
             [
              0.8888888888888888,
              "#fdca26"
             ],
             [
              1,
              "#f0f921"
             ]
            ],
            "type": "contour"
           }
          ],
          "contourcarpet": [
           {
            "colorbar": {
             "outlinewidth": 0,
             "ticks": ""
            },
            "type": "contourcarpet"
           }
          ],
          "heatmap": [
           {
            "colorbar": {
             "outlinewidth": 0,
             "ticks": ""
            },
            "colorscale": [
             [
              0,
              "#0d0887"
             ],
             [
              0.1111111111111111,
              "#46039f"
             ],
             [
              0.2222222222222222,
              "#7201a8"
             ],
             [
              0.3333333333333333,
              "#9c179e"
             ],
             [
              0.4444444444444444,
              "#bd3786"
             ],
             [
              0.5555555555555556,
              "#d8576b"
             ],
             [
              0.6666666666666666,
              "#ed7953"
             ],
             [
              0.7777777777777778,
              "#fb9f3a"
             ],
             [
              0.8888888888888888,
              "#fdca26"
             ],
             [
              1,
              "#f0f921"
             ]
            ],
            "type": "heatmap"
           }
          ],
          "histogram": [
           {
            "marker": {
             "pattern": {
              "fillmode": "overlay",
              "size": 10,
              "solidity": 0.2
             }
            },
            "type": "histogram"
           }
          ],
          "histogram2d": [
           {
            "colorbar": {
             "outlinewidth": 0,
             "ticks": ""
            },
            "colorscale": [
             [
              0,
              "#0d0887"
             ],
             [
              0.1111111111111111,
              "#46039f"
             ],
             [
              0.2222222222222222,
              "#7201a8"
             ],
             [
              0.3333333333333333,
              "#9c179e"
             ],
             [
              0.4444444444444444,
              "#bd3786"
             ],
             [
              0.5555555555555556,
              "#d8576b"
             ],
             [
              0.6666666666666666,
              "#ed7953"
             ],
             [
              0.7777777777777778,
              "#fb9f3a"
             ],
             [
              0.8888888888888888,
              "#fdca26"
             ],
             [
              1,
              "#f0f921"
             ]
            ],
            "type": "histogram2d"
           }
          ],
          "histogram2dcontour": [
           {
            "colorbar": {
             "outlinewidth": 0,
             "ticks": ""
            },
            "colorscale": [
             [
              0,
              "#0d0887"
             ],
             [
              0.1111111111111111,
              "#46039f"
             ],
             [
              0.2222222222222222,
              "#7201a8"
             ],
             [
              0.3333333333333333,
              "#9c179e"
             ],
             [
              0.4444444444444444,
              "#bd3786"
             ],
             [
              0.5555555555555556,
              "#d8576b"
             ],
             [
              0.6666666666666666,
              "#ed7953"
             ],
             [
              0.7777777777777778,
              "#fb9f3a"
             ],
             [
              0.8888888888888888,
              "#fdca26"
             ],
             [
              1,
              "#f0f921"
             ]
            ],
            "type": "histogram2dcontour"
           }
          ],
          "mesh3d": [
           {
            "colorbar": {
             "outlinewidth": 0,
             "ticks": ""
            },
            "type": "mesh3d"
           }
          ],
          "parcoords": [
           {
            "line": {
             "colorbar": {
              "outlinewidth": 0,
              "ticks": ""
             }
            },
            "type": "parcoords"
           }
          ],
          "pie": [
           {
            "automargin": true,
            "type": "pie"
           }
          ],
          "scatter": [
           {
            "fillpattern": {
             "fillmode": "overlay",
             "size": 10,
             "solidity": 0.2
            },
            "type": "scatter"
           }
          ],
          "scatter3d": [
           {
            "line": {
             "colorbar": {
              "outlinewidth": 0,
              "ticks": ""
             }
            },
            "marker": {
             "colorbar": {
              "outlinewidth": 0,
              "ticks": ""
             }
            },
            "type": "scatter3d"
           }
          ],
          "scattercarpet": [
           {
            "marker": {
             "colorbar": {
              "outlinewidth": 0,
              "ticks": ""
             }
            },
            "type": "scattercarpet"
           }
          ],
          "scattergeo": [
           {
            "marker": {
             "colorbar": {
              "outlinewidth": 0,
              "ticks": ""
             }
            },
            "type": "scattergeo"
           }
          ],
          "scattergl": [
           {
            "marker": {
             "colorbar": {
              "outlinewidth": 0,
              "ticks": ""
             }
            },
            "type": "scattergl"
           }
          ],
          "scattermap": [
           {
            "marker": {
             "colorbar": {
              "outlinewidth": 0,
              "ticks": ""
             }
            },
            "type": "scattermap"
           }
          ],
          "scattermapbox": [
           {
            "marker": {
             "colorbar": {
              "outlinewidth": 0,
              "ticks": ""
             }
            },
            "type": "scattermapbox"
           }
          ],
          "scatterpolar": [
           {
            "marker": {
             "colorbar": {
              "outlinewidth": 0,
              "ticks": ""
             }
            },
            "type": "scatterpolar"
           }
          ],
          "scatterpolargl": [
           {
            "marker": {
             "colorbar": {
              "outlinewidth": 0,
              "ticks": ""
             }
            },
            "type": "scatterpolargl"
           }
          ],
          "scatterternary": [
           {
            "marker": {
             "colorbar": {
              "outlinewidth": 0,
              "ticks": ""
             }
            },
            "type": "scatterternary"
           }
          ],
          "surface": [
           {
            "colorbar": {
             "outlinewidth": 0,
             "ticks": ""
            },
            "colorscale": [
             [
              0,
              "#0d0887"
             ],
             [
              0.1111111111111111,
              "#46039f"
             ],
             [
              0.2222222222222222,
              "#7201a8"
             ],
             [
              0.3333333333333333,
              "#9c179e"
             ],
             [
              0.4444444444444444,
              "#bd3786"
             ],
             [
              0.5555555555555556,
              "#d8576b"
             ],
             [
              0.6666666666666666,
              "#ed7953"
             ],
             [
              0.7777777777777778,
              "#fb9f3a"
             ],
             [
              0.8888888888888888,
              "#fdca26"
             ],
             [
              1,
              "#f0f921"
             ]
            ],
            "type": "surface"
           }
          ],
          "table": [
           {
            "cells": {
             "fill": {
              "color": "#EBF0F8"
             },
             "line": {
              "color": "white"
             }
            },
            "header": {
             "fill": {
              "color": "#C8D4E3"
             },
             "line": {
              "color": "white"
             }
            },
            "type": "table"
           }
          ]
         },
         "layout": {
          "annotationdefaults": {
           "arrowcolor": "#2a3f5f",
           "arrowhead": 0,
           "arrowwidth": 1
          },
          "autotypenumbers": "strict",
          "coloraxis": {
           "colorbar": {
            "outlinewidth": 0,
            "ticks": ""
           }
          },
          "colorscale": {
           "diverging": [
            [
             0,
             "#8e0152"
            ],
            [
             0.1,
             "#c51b7d"
            ],
            [
             0.2,
             "#de77ae"
            ],
            [
             0.3,
             "#f1b6da"
            ],
            [
             0.4,
             "#fde0ef"
            ],
            [
             0.5,
             "#f7f7f7"
            ],
            [
             0.6,
             "#e6f5d0"
            ],
            [
             0.7,
             "#b8e186"
            ],
            [
             0.8,
             "#7fbc41"
            ],
            [
             0.9,
             "#4d9221"
            ],
            [
             1,
             "#276419"
            ]
           ],
           "sequential": [
            [
             0,
             "#0d0887"
            ],
            [
             0.1111111111111111,
             "#46039f"
            ],
            [
             0.2222222222222222,
             "#7201a8"
            ],
            [
             0.3333333333333333,
             "#9c179e"
            ],
            [
             0.4444444444444444,
             "#bd3786"
            ],
            [
             0.5555555555555556,
             "#d8576b"
            ],
            [
             0.6666666666666666,
             "#ed7953"
            ],
            [
             0.7777777777777778,
             "#fb9f3a"
            ],
            [
             0.8888888888888888,
             "#fdca26"
            ],
            [
             1,
             "#f0f921"
            ]
           ],
           "sequentialminus": [
            [
             0,
             "#0d0887"
            ],
            [
             0.1111111111111111,
             "#46039f"
            ],
            [
             0.2222222222222222,
             "#7201a8"
            ],
            [
             0.3333333333333333,
             "#9c179e"
            ],
            [
             0.4444444444444444,
             "#bd3786"
            ],
            [
             0.5555555555555556,
             "#d8576b"
            ],
            [
             0.6666666666666666,
             "#ed7953"
            ],
            [
             0.7777777777777778,
             "#fb9f3a"
            ],
            [
             0.8888888888888888,
             "#fdca26"
            ],
            [
             1,
             "#f0f921"
            ]
           ]
          },
          "colorway": [
           "#636efa",
           "#EF553B",
           "#00cc96",
           "#ab63fa",
           "#FFA15A",
           "#19d3f3",
           "#FF6692",
           "#B6E880",
           "#FF97FF",
           "#FECB52"
          ],
          "font": {
           "color": "#2a3f5f"
          },
          "geo": {
           "bgcolor": "white",
           "lakecolor": "white",
           "landcolor": "#E5ECF6",
           "showlakes": true,
           "showland": true,
           "subunitcolor": "white"
          },
          "hoverlabel": {
           "align": "left"
          },
          "hovermode": "closest",
          "mapbox": {
           "style": "light"
          },
          "paper_bgcolor": "white",
          "plot_bgcolor": "#E5ECF6",
          "polar": {
           "angularaxis": {
            "gridcolor": "white",
            "linecolor": "white",
            "ticks": ""
           },
           "bgcolor": "#E5ECF6",
           "radialaxis": {
            "gridcolor": "white",
            "linecolor": "white",
            "ticks": ""
           }
          },
          "scene": {
           "xaxis": {
            "backgroundcolor": "#E5ECF6",
            "gridcolor": "white",
            "gridwidth": 2,
            "linecolor": "white",
            "showbackground": true,
            "ticks": "",
            "zerolinecolor": "white"
           },
           "yaxis": {
            "backgroundcolor": "#E5ECF6",
            "gridcolor": "white",
            "gridwidth": 2,
            "linecolor": "white",
            "showbackground": true,
            "ticks": "",
            "zerolinecolor": "white"
           },
           "zaxis": {
            "backgroundcolor": "#E5ECF6",
            "gridcolor": "white",
            "gridwidth": 2,
            "linecolor": "white",
            "showbackground": true,
            "ticks": "",
            "zerolinecolor": "white"
           }
          },
          "shapedefaults": {
           "line": {
            "color": "#2a3f5f"
           }
          },
          "ternary": {
           "aaxis": {
            "gridcolor": "white",
            "linecolor": "white",
            "ticks": ""
           },
           "baxis": {
            "gridcolor": "white",
            "linecolor": "white",
            "ticks": ""
           },
           "bgcolor": "#E5ECF6",
           "caxis": {
            "gridcolor": "white",
            "linecolor": "white",
            "ticks": ""
           }
          },
          "title": {
           "x": 0.05
          },
          "xaxis": {
           "automargin": true,
           "gridcolor": "white",
           "linecolor": "white",
           "ticks": "",
           "title": {
            "standoff": 15
           },
           "zerolinecolor": "white",
           "zerolinewidth": 2
          },
          "yaxis": {
           "automargin": true,
           "gridcolor": "white",
           "linecolor": "white",
           "ticks": "",
           "title": {
            "standoff": 15
           },
           "zerolinecolor": "white",
           "zerolinewidth": 2
          }
         }
        },
        "title": {
         "text": "Effect of Rolling Averages - Bangkok<br><sub>Longer windows = smoother trend</sub>"
        },
        "xaxis": {
         "title": {
          "text": "Date/Time"
         }
        },
        "yaxis": {
         "title": {
          "text": "AQI"
         }
        }
       }
      },
      "image/png": "[encoded data removed]"
     },
     "metadata": {},
     "output_type": "display_data"
    },
    {
     "name": "stdout",
     "output_type": "stream",
     "text": [
      "\n",
      "💡 Rolling features help models:\n",
      "   • Ignore short-term noise\n",
      "   • Identify trends\n",
      "   • Smooth out random fluctuations\n"
     ]
    }
   ],
   "source": [
    "# Visualize rolling averages\n",
    "city_to_plot = 'Bangkok'\n",
    "city_data = df[df['city_name'] == city_to_plot].copy()\n",
    "\n",
    "fig = go.Figure()\n",
    "\n",
    "# Original AQI\n",
    "fig.add_trace(go.Scatter(\n",
    "    x=city_data['timestamp'],\n",
    "    y=city_data['aqi'],\n",
    "    mode='lines',\n",
    "    name='Actual AQI',\n",
    "    line=dict(color='lightgray', width=1),\n",
    "    opacity=0.5\n",
    "))\n",
    "\n",
    "# Rolling averages\n",
    "fig.add_trace(go.Scatter(\n",
    "    x=city_data['timestamp'],\n",
    "    y=city_data['aqi_rolling_mean_3h'],\n",
    "    mode='lines',\n",
    "    name='3-hour average',\n",
    "    line=dict(color='blue', width=2)\n",
    "))\n",
    "\n",
    "fig.add_trace(go.Scatter(\n",
    "    x=city_data['timestamp'],\n",
    "    y=city_data['aqi_rolling_mean_12h'],\n",
    "    mode='lines',\n",
    "    name='12-hour average',\n",
    "    line=dict(color='red', width=2)\n",
    "))\n",
    "\n",
    "fig.add_trace(go.Scatter(\n",
    "    x=city_data['timestamp'],\n",
    "    y=city_data['aqi_rolling_mean_24h'],\n",
    "    mode='lines',\n",
    "    name='24-hour average',\n",
    "    line=dict(color='green', width=2)\n",
    "))\n",
    "\n",
    "fig.update_layout(\n",
    "    title=f'Effect of Rolling Averages - {city_to_plot}<br><sub>Longer windows = smoother trend</sub>',\n",
    "    xaxis_title='Date/Time',\n",
    "    yaxis_title='AQI',\n",
    "    height=500,\n",
    "    hovermode='x unified'\n",
    ")\n",
    "\n",
    "fig.show()\n",
    "\n",
    "print(\"\\n💡 Rolling features help models:\")\n",
    "print(\"   • Ignore short-term noise\")\n",
    "print(\"   • Identify trends\")\n",
    "print(\"   • Smooth out random fluctuations\")"
   ]
  },
  {
   "cell_type": "markdown",
   "id": "a4675c24-ea3a-4e01-a50a-947f41bf09c3",
   "metadata": {},
   "source": [
    "## 4. Rate of Change Features 📉\n",
    "\n",
    "How fast is pollution changing? This captures momentum and trends."
   ]
  },
  {
   "cell_type": "code",
   "execution_count": 8,
   "id": "b0205d91-ffec-41ae-b9a4-d6415c0c0f7f",
   "metadata": {},
   "outputs": [
    {
     "name": "stdout",
     "output_type": "stream",
     "text": [
      "================================================================================\n",
      "CREATING RATE OF CHANGE FEATURES\n",
      "================================================================================\n",
      "\n",
      "✅ Created 24 rate of change features:\n",
      "   • Absolute change (e.g., +5 AQI)\n",
      "   • Percentage change (e.g., +20%)\n",
      "   • Periods: [1, 3, 6, 12] hours\n",
      "\n",
      "📊 Example - AQI change features:\n"
     ]
    },
    {
     "data": {
      "text/html": [
       "<div>\n",
       "<style scoped>\n",
       "    .dataframe tbody tr th:only-of-type {\n",
       "        vertical-align: middle;\n",
       "    }\n",
       "\n",
       "    .dataframe tbody tr th {\n",
       "        vertical-align: top;\n",
       "    }\n",
       "\n",
       "    .dataframe thead th {\n",
       "        text-align: right;\n",
       "    }\n",
       "</style>\n",
       "<table border=\"1\" class=\"dataframe\">\n",
       "  <thead>\n",
       "    <tr style=\"text-align: right;\">\n",
       "      <th></th>\n",
       "      <th>timestamp</th>\n",
       "      <th>city_name</th>\n",
       "      <th>aqi</th>\n",
       "      <th>aqi_change_1h</th>\n",
       "      <th>aqi_change_6h</th>\n",
       "      <th>aqi_pct_change_6h</th>\n",
       "    </tr>\n",
       "  </thead>\n",
       "  <tbody>\n",
       "    <tr>\n",
       "      <th>0</th>\n",
       "      <td>2025-10-22 10:41:18</td>\n",
       "      <td>Bangkok</td>\n",
       "      <td>3</td>\n",
       "      <td>NaN</td>\n",
       "      <td>NaN</td>\n",
       "      <td>NaN</td>\n",
       "    </tr>\n",
       "    <tr>\n",
       "      <th>1</th>\n",
       "      <td>2025-10-22 10:47:27</td>\n",
       "      <td>Bangkok</td>\n",
       "      <td>3</td>\n",
       "      <td>0.0</td>\n",
       "      <td>NaN</td>\n",
       "      <td>NaN</td>\n",
       "    </tr>\n",
       "    <tr>\n",
       "      <th>2</th>\n",
       "      <td>2025-10-27 12:26:20</td>\n",
       "      <td>Bangkok</td>\n",
       "      <td>3</td>\n",
       "      <td>0.0</td>\n",
       "      <td>NaN</td>\n",
       "      <td>NaN</td>\n",
       "    </tr>\n",
       "    <tr>\n",
       "      <th>3</th>\n",
       "      <td>2025-10-27 12:49:45</td>\n",
       "      <td>Bangkok</td>\n",
       "      <td>3</td>\n",
       "      <td>0.0</td>\n",
       "      <td>NaN</td>\n",
       "      <td>NaN</td>\n",
       "    </tr>\n",
       "    <tr>\n",
       "      <th>4</th>\n",
       "      <td>2025-10-27 12:56:22</td>\n",
       "      <td>Bangkok</td>\n",
       "      <td>3</td>\n",
       "      <td>0.0</td>\n",
       "      <td>NaN</td>\n",
       "      <td>NaN</td>\n",
       "    </tr>\n",
       "    <tr>\n",
       "      <th>5</th>\n",
       "      <td>2025-10-27 14:16:19</td>\n",
       "      <td>Bangkok</td>\n",
       "      <td>3</td>\n",
       "      <td>0.0</td>\n",
       "      <td>NaN</td>\n",
       "      <td>NaN</td>\n",
       "    </tr>\n",
       "    <tr>\n",
       "      <th>6</th>\n",
       "      <td>2025-10-27 16:48:54</td>\n",
       "      <td>Bangkok</td>\n",
       "      <td>3</td>\n",
       "      <td>0.0</td>\n",
       "      <td>0.0</td>\n",
       "      <td>0.000000</td>\n",
       "    </tr>\n",
       "    <tr>\n",
       "      <th>7</th>\n",
       "      <td>2025-10-27 17:37:44</td>\n",
       "      <td>Bangkok</td>\n",
       "      <td>4</td>\n",
       "      <td>1.0</td>\n",
       "      <td>1.0</td>\n",
       "      <td>33.333333</td>\n",
       "    </tr>\n",
       "    <tr>\n",
       "      <th>8</th>\n",
       "      <td>2025-10-28 09:34:46</td>\n",
       "      <td>Bangkok</td>\n",
       "      <td>3</td>\n",
       "      <td>-1.0</td>\n",
       "      <td>0.0</td>\n",
       "      <td>0.000000</td>\n",
       "    </tr>\n",
       "    <tr>\n",
       "      <th>9</th>\n",
       "      <td>2025-10-28 09:56:04</td>\n",
       "      <td>Bangkok</td>\n",
       "      <td>3</td>\n",
       "      <td>0.0</td>\n",
       "      <td>0.0</td>\n",
       "      <td>0.000000</td>\n",
       "    </tr>\n",
       "    <tr>\n",
       "      <th>10</th>\n",
       "      <td>2025-10-28 11:39:01</td>\n",
       "      <td>Bangkok</td>\n",
       "      <td>3</td>\n",
       "      <td>0.0</td>\n",
       "      <td>0.0</td>\n",
       "      <td>0.000000</td>\n",
       "    </tr>\n",
       "    <tr>\n",
       "      <th>11</th>\n",
       "      <td>2025-10-28 11:40:45</td>\n",
       "      <td>Bangkok</td>\n",
       "      <td>3</td>\n",
       "      <td>0.0</td>\n",
       "      <td>0.0</td>\n",
       "      <td>0.000000</td>\n",
       "    </tr>\n",
       "    <tr>\n",
       "      <th>12</th>\n",
       "      <td>2025-10-28 11:56:16</td>\n",
       "      <td>Bangkok</td>\n",
       "      <td>3</td>\n",
       "      <td>0.0</td>\n",
       "      <td>0.0</td>\n",
       "      <td>0.000000</td>\n",
       "    </tr>\n",
       "    <tr>\n",
       "      <th>13</th>\n",
       "      <td>2025-10-28 12:26:14</td>\n",
       "      <td>Bangkok</td>\n",
       "      <td>3</td>\n",
       "      <td>0.0</td>\n",
       "      <td>-1.0</td>\n",
       "      <td>-25.000000</td>\n",
       "    </tr>\n",
       "    <tr>\n",
       "      <th>14</th>\n",
       "      <td>2025-10-28 12:56:18</td>\n",
       "      <td>Bangkok</td>\n",
       "      <td>3</td>\n",
       "      <td>0.0</td>\n",
       "      <td>0.0</td>\n",
       "      <td>0.000000</td>\n",
       "    </tr>\n",
       "    <tr>\n",
       "      <th>15</th>\n",
       "      <td>2025-10-28 13:56:24</td>\n",
       "      <td>Bangkok</td>\n",
       "      <td>2</td>\n",
       "      <td>-1.0</td>\n",
       "      <td>-1.0</td>\n",
       "      <td>-33.333333</td>\n",
       "    </tr>\n",
       "    <tr>\n",
       "      <th>16</th>\n",
       "      <td>2025-10-28 14:56:23</td>\n",
       "      <td>Bangkok</td>\n",
       "      <td>2</td>\n",
       "      <td>0.0</td>\n",
       "      <td>-1.0</td>\n",
       "      <td>-33.333333</td>\n",
       "    </tr>\n",
       "    <tr>\n",
       "      <th>17</th>\n",
       "      <td>2025-10-28 15:56:26</td>\n",
       "      <td>Bangkok</td>\n",
       "      <td>2</td>\n",
       "      <td>0.0</td>\n",
       "      <td>-1.0</td>\n",
       "      <td>-33.333333</td>\n",
       "    </tr>\n",
       "    <tr>\n",
       "      <th>18</th>\n",
       "      <td>2025-10-28 17:09:56</td>\n",
       "      <td>Bangkok</td>\n",
       "      <td>2</td>\n",
       "      <td>0.0</td>\n",
       "      <td>-1.0</td>\n",
       "      <td>-33.333333</td>\n",
       "    </tr>\n",
       "    <tr>\n",
       "      <th>19</th>\n",
       "      <td>2025-10-28 17:56:37</td>\n",
       "      <td>Bangkok</td>\n",
       "      <td>2</td>\n",
       "      <td>0.0</td>\n",
       "      <td>-1.0</td>\n",
       "      <td>-33.333333</td>\n",
       "    </tr>\n",
       "  </tbody>\n",
       "</table>\n",
       "</div>"
      ],
      "text/plain": [
       "             timestamp city_name  aqi  aqi_change_1h  aqi_change_6h  \\\n",
       "0  2025-10-22 10:41:18   Bangkok    3            NaN            NaN   \n",
       "1  2025-10-22 10:47:27   Bangkok    3            0.0            NaN   \n",
       "2  2025-10-27 12:26:20   Bangkok    3            0.0            NaN   \n",
       "3  2025-10-27 12:49:45   Bangkok    3            0.0            NaN   \n",
       "4  2025-10-27 12:56:22   Bangkok    3            0.0            NaN   \n",
       "5  2025-10-27 14:16:19   Bangkok    3            0.0            NaN   \n",
       "6  2025-10-27 16:48:54   Bangkok    3            0.0            0.0   \n",
       "7  2025-10-27 17:37:44   Bangkok    4            1.0            1.0   \n",
       "8  2025-10-28 09:34:46   Bangkok    3           -1.0            0.0   \n",
       "9  2025-10-28 09:56:04   Bangkok    3            0.0            0.0   \n",
       "10 2025-10-28 11:39:01   Bangkok    3            0.0            0.0   \n",
       "11 2025-10-28 11:40:45   Bangkok    3            0.0            0.0   \n",
       "12 2025-10-28 11:56:16   Bangkok    3            0.0            0.0   \n",
       "13 2025-10-28 12:26:14   Bangkok    3            0.0           -1.0   \n",
       "14 2025-10-28 12:56:18   Bangkok    3            0.0            0.0   \n",
       "15 2025-10-28 13:56:24   Bangkok    2           -1.0           -1.0   \n",
       "16 2025-10-28 14:56:23   Bangkok    2            0.0           -1.0   \n",
       "17 2025-10-28 15:56:26   Bangkok    2            0.0           -1.0   \n",
       "18 2025-10-28 17:09:56   Bangkok    2            0.0           -1.0   \n",
       "19 2025-10-28 17:56:37   Bangkok    2            0.0           -1.0   \n",
       "\n",
       "    aqi_pct_change_6h  \n",
       "0                 NaN  \n",
       "1                 NaN  \n",
       "2                 NaN  \n",
       "3                 NaN  \n",
       "4                 NaN  \n",
       "5                 NaN  \n",
       "6            0.000000  \n",
       "7           33.333333  \n",
       "8            0.000000  \n",
       "9            0.000000  \n",
       "10           0.000000  \n",
       "11           0.000000  \n",
       "12           0.000000  \n",
       "13         -25.000000  \n",
       "14           0.000000  \n",
       "15         -33.333333  \n",
       "16         -33.333333  \n",
       "17         -33.333333  \n",
       "18         -33.333333  \n",
       "19         -33.333333  "
      ]
     },
     "metadata": {},
     "output_type": "display_data"
    }
   ],
   "source": [
    "# Create rate of change features\n",
    "print(\"=\" * 80)\n",
    "print(\"CREATING RATE OF CHANGE FEATURES\")\n",
    "print(\"=\" * 80)\n",
    "\n",
    "# Calculate changes over different time periods\n",
    "change_periods = [1, 3, 6, 12]\n",
    "change_columns = ['aqi', 'pm2_5', 'pm10']\n",
    "\n",
    "for col in change_columns:\n",
    "    for period in change_periods:\n",
    "        # Absolute change\n",
    "        df[f'{col}_change_{period}h'] = (\n",
    "            df.groupby('city_key')[col].diff(periods=period)\n",
    "        )\n",
    "        \n",
    "        # Percentage change\n",
    "        df[f'{col}_pct_change_{period}h'] = (\n",
    "            df.groupby('city_key')[col].pct_change(periods=period) * 100\n",
    "        )\n",
    "\n",
    "print(f\"\\n✅ Created {len(change_columns) * len(change_periods) * 2} rate of change features:\")\n",
    "print(f\"   • Absolute change (e.g., +5 AQI)\")\n",
    "print(f\"   • Percentage change (e.g., +20%)\")\n",
    "print(f\"   • Periods: {change_periods} hours\")\n",
    "\n",
    "# Show example\n",
    "print(f\"\\n📊 Example - AQI change features:\")\n",
    "sample_cols = ['timestamp', 'city_name', 'aqi', 'aqi_change_1h', 'aqi_change_6h', 'aqi_pct_change_6h']\n",
    "display(df[df['city_key'] == df['city_key'].iloc[0]].head(20)[sample_cols])"
   ]
  },
  {
   "cell_type": "markdown",
   "id": "5eccb247-8c0f-414c-a36e-82046fed922e",
   "metadata": {},
   "source": [
    "## 5. Interaction Features 🔗\n",
    "\n",
    "Combining features can reveal hidden patterns."
   ]
  },
  {
   "cell_type": "code",
   "execution_count": 9,
   "id": "56d41acf-d138-4130-b136-8dea990a4049",
   "metadata": {},
   "outputs": [
    {
     "name": "stdout",
     "output_type": "stream",
     "text": [
      "================================================================================\n",
      "CREATING INTERACTION FEATURES\n",
      "================================================================================\n",
      "\n",
      "✅ Created interaction features:\n",
      "   • pm_total: Total particulate matter\n",
      "   • pm_ratio: Fine to coarse particle ratio\n",
      "   • pollution_score: Weighted pollution index\n",
      "   • hour_x_pm25: Time-pollution interaction\n",
      "   • weekend_x_aqi: Weekend effect\n",
      "   • rush_hour_x_no2: Traffic pollution indicator\n",
      "   • aqi_above_safe: Distance from safe threshold\n",
      "   • aqi_stability: Volatility measure\n",
      "\n",
      "📊 Total column count: 166\n"
     ]
    }
   ],
   "source": [
    "# Create interaction features\n",
    "print(\"=\" * 80)\n",
    "print(\"CREATING INTERACTION FEATURES\")\n",
    "print(\"=\" * 80)\n",
    "\n",
    "# Total particulate matter\n",
    "df['pm_total'] = df['pm2_5'] + df['pm10']\n",
    "\n",
    "# PM2.5 to PM10 ratio (fine to coarse particle ratio)\n",
    "df['pm_ratio'] = df['pm2_5'] / (df['pm10'] + 0.01)  # Add small value to avoid division by zero\n",
    "\n",
    "# Pollution intensity score (weighted combination)\n",
    "df['pollution_score'] = (\n",
    "    df['pm2_5'] * 0.4 +  # PM2.5 has highest health impact\n",
    "    df['pm10'] * 0.3 +\n",
    "    df['no2'] * 0.2 +\n",
    "    df['o3'] * 0.1\n",
    ")\n",
    "\n",
    "# Time-pollution interactions\n",
    "df['hour_x_pm25'] = df['hour'] * df['pm2_5']\n",
    "df['weekend_x_aqi'] = df['is_weekend'] * df['aqi']\n",
    "df['rush_hour_x_no2'] = df['is_rush_hour'] * df['no2']\n",
    "\n",
    "# Distance from safe level (AQI > 2 means not good)\n",
    "df['aqi_above_safe'] = (df['aqi'] - 2).clip(lower=0)\n",
    "\n",
    "# Stability indicator (how much is AQI changing?)\n",
    "df['aqi_stability'] = df['aqi_rolling_std_6h'] / (df['aqi_rolling_mean_6h'] + 0.01)\n",
    "\n",
    "print(f\"\\n✅ Created interaction features:\")\n",
    "print(f\"   • pm_total: Total particulate matter\")\n",
    "print(f\"   • pm_ratio: Fine to coarse particle ratio\")\n",
    "print(f\"   • pollution_score: Weighted pollution index\")\n",
    "print(f\"   • hour_x_pm25: Time-pollution interaction\")\n",
    "print(f\"   • weekend_x_aqi: Weekend effect\")\n",
    "print(f\"   • rush_hour_x_no2: Traffic pollution indicator\")\n",
    "print(f\"   • aqi_above_safe: Distance from safe threshold\")\n",
    "print(f\"   • aqi_stability: Volatility measure\")\n",
    "\n",
    "print(f\"\\n📊 Total column count: {len(df.columns)}\")"
   ]
  },
  {
   "cell_type": "code",
   "execution_count": 10,
   "id": "d04e4981-d4e5-4042-9a9b-636070842605",
   "metadata": {},
   "outputs": [
    {
     "name": "stdout",
     "output_type": "stream",
     "text": [
      "✅ Encoded categorical features\n",
      "📊 New column count: 169\n"
     ]
    }
   ],
   "source": [
    "# One-hot encode categorical features for modeling\n",
    "categorical_features = ['part_of_day', 'season']\n",
    "\n",
    "for feature in categorical_features:\n",
    "    if feature in df.columns:\n",
    "        # Create dummy variables\n",
    "        dummies = pd.get_dummies(df[feature], prefix=feature, drop_first=True)\n",
    "        df = pd.concat([df, dummies], axis=1)\n",
    "\n",
    "print(f\"✅ Encoded categorical features\")\n",
    "print(f\"📊 New column count: {len(df.columns)}\")"
   ]
  },
  {
   "cell_type": "markdown",
   "id": "7caca1e5-d7c7-4246-aef3-28fa3671072e",
   "metadata": {},
   "source": [
    "## 6. Create Target Variable 🎯\n",
    "\n",
    "**Most Important:** AQI 24 hours in the future!"
   ]
  },
  {
   "cell_type": "code",
   "execution_count": 11,
   "id": "f4fa31a2-1987-479c-ada5-a1ee42db17d8",
   "metadata": {},
   "outputs": [
    {
     "name": "stdout",
     "output_type": "stream",
     "text": [
      "================================================================================\n",
      "CREATING TARGET VARIABLE\n",
      "================================================================================\n",
      "\n",
      "✅ Created target variable: aqi_next_24h\n",
      "   • This is what we'll predict!\n",
      "   • Using features from now to predict AQI 24 hours later\n",
      "\n",
      "📊 Example prediction scenario:\n"
     ]
    },
    {
     "data": {
      "text/html": [
       "<div>\n",
       "<style scoped>\n",
       "    .dataframe tbody tr th:only-of-type {\n",
       "        vertical-align: middle;\n",
       "    }\n",
       "\n",
       "    .dataframe tbody tr th {\n",
       "        vertical-align: top;\n",
       "    }\n",
       "\n",
       "    .dataframe thead th {\n",
       "        text-align: right;\n",
       "    }\n",
       "</style>\n",
       "<table border=\"1\" class=\"dataframe\">\n",
       "  <thead>\n",
       "    <tr style=\"text-align: right;\">\n",
       "      <th></th>\n",
       "      <th>timestamp</th>\n",
       "      <th>city_name</th>\n",
       "      <th>aqi</th>\n",
       "      <th>aqi_lag_24h</th>\n",
       "      <th>aqi_rolling_mean_24h</th>\n",
       "      <th>aqi_next_24h</th>\n",
       "    </tr>\n",
       "  </thead>\n",
       "  <tbody>\n",
       "  </tbody>\n",
       "</table>\n",
       "</div>"
      ],
      "text/plain": [
       "Empty DataFrame\n",
       "Columns: [timestamp, city_name, aqi, aqi_lag_24h, aqi_rolling_mean_24h, aqi_next_24h]\n",
       "Index: []"
      ]
     },
     "metadata": {},
     "output_type": "display_data"
    },
    {
     "name": "stdout",
     "output_type": "stream",
     "text": [
      "\n",
      "⚠️  Last 24 records per city have NaN target (no future to predict)\n",
      "   Usable records: 78/222\n"
     ]
    }
   ],
   "source": [
    "# Create target variable (what we're trying to predict)\n",
    "print(\"=\" * 80)\n",
    "print(\"CREATING TARGET VARIABLE\")\n",
    "print(\"=\" * 80)\n",
    "\n",
    "# Target: AQI 24 hours in the future\n",
    "df['aqi_next_24h'] = df.groupby('city_key')['aqi'].shift(-24)\n",
    "\n",
    "print(f\"\\n✅ Created target variable: aqi_next_24h\")\n",
    "print(f\"   • This is what we'll predict!\")\n",
    "print(f\"   • Using features from now to predict AQI 24 hours later\")\n",
    "\n",
    "# Show example\n",
    "print(f\"\\n📊 Example prediction scenario:\")\n",
    "sample = df[df['city_key'] == df['city_key'].iloc[0]].iloc[50:60][\n",
    "    ['timestamp', 'city_name', 'aqi', 'aqi_lag_24h', 'aqi_rolling_mean_24h', 'aqi_next_24h']\n",
    "]\n",
    "display(sample)\n",
    "\n",
    "print(f\"\\n⚠️  Last 24 records per city have NaN target (no future to predict)\")\n",
    "print(f\"   Usable records: {df['aqi_next_24h'].notna().sum()}/{len(df)}\")"
   ]
  },
  {
   "cell_type": "markdown",
   "id": "08ccfead-5ad2-48ee-a00c-02554c26cbb1",
   "metadata": {},
   "source": [
    "## 7. Feature Validation & Analysis 🔍"
   ]
  },
  {
   "cell_type": "code",
   "execution_count": 12,
   "id": "7ecc3d01-7c8f-41f1-919d-726a9c07ac6c",
   "metadata": {},
   "outputs": [
    {
     "name": "stdout",
     "output_type": "stream",
     "text": [
      "================================================================================\n",
      "FEATURE ENGINEERING SUMMARY\n",
      "================================================================================\n",
      "\n",
      "📊 Feature Count by Category:\n",
      "   • Original       :  34 features\n",
      "   • Time-based     :  13 features\n",
      "   • Lag            :  25 features\n",
      "   • Rolling        :  80 features\n",
      "   • Change         :  24 features\n",
      "   • Interaction    :   8 features\n",
      "   • Target         :   1 features\n",
      "\n",
      "📈 Total Features: 170\n",
      "📉 Total Records: 222\n",
      "\n",
      "🔢 Numeric features: 159\n",
      "\n",
      "🎯 Top 15 Features Correlated with Target (aqi_next_24h):\n",
      "    2. aqi_pct_change_12h                 : 1.000 ████████████████████\n",
      "    3. aqi_change_12h                     : 1.000 ████████████████████\n",
      "    4. pm2_5_change_12h                   : 0.821 ████████████████\n",
      "    5. pm10_change_12h                    : 0.730 ██████████████\n",
      "    6. pm2_5_pct_change_12h               : 0.698 █████████████\n",
      "    7. pm10_pct_change_12h                : 0.674 █████████████\n",
      "    8. aqi_lag_1h                         : 0.656 █████████████\n",
      "    9. aqi                                : 0.653 █████████████\n",
      "   10. aqi_rolling_min_3h                 : 0.652 █████████████\n",
      "   11. aqi_lag_6h                         : 0.649 ████████████\n",
      "   12. aqi_rolling_mean_3h                : 0.629 ████████████\n",
      "   13. aqi_lag_3h                         : 0.620 ████████████\n",
      "   14. aqi_rolling_mean_6h                : 0.616 ████████████\n",
      "   15. aqi_rolling_mean_12h               : 0.602 ████████████\n"
     ]
    }
   ],
   "source": [
    "# Summarize all features\n",
    "print(\"=\" * 80)\n",
    "print(\"FEATURE ENGINEERING SUMMARY\")\n",
    "print(\"=\" * 80)\n",
    "\n",
    "# Count features by category\n",
    "feature_categories = {\n",
    "    'Original': [col for col in df.columns if not any(x in col for x in ['lag', 'rolling', 'change', 'sin', 'cos', 'next'])],\n",
    "    'Time-based': [col for col in df.columns if any(x in col for x in ['sin', 'cos', 'part_of_day', 'rush', 'season'])],\n",
    "    'Lag': [col for col in df.columns if 'lag' in col],\n",
    "    'Rolling': [col for col in df.columns if 'rolling' in col],\n",
    "    'Change': [col for col in df.columns if 'change' in col],\n",
    "    'Interaction': ['pm_total', 'pm_ratio', 'pollution_score', 'hour_x_pm25', 'weekend_x_aqi', 'rush_hour_x_no2', 'aqi_above_safe', 'aqi_stability'],\n",
    "    'Target': ['aqi_next_24h']\n",
    "}\n",
    "\n",
    "print(f\"\\n📊 Feature Count by Category:\")\n",
    "for category, features in feature_categories.items():\n",
    "    count = len([f for f in features if f in df.columns])\n",
    "    print(f\"   • {category:15s}: {count:3d} features\")\n",
    "\n",
    "print(f\"\\n📈 Total Features: {len(df.columns)}\")\n",
    "print(f\"📉 Total Records: {len(df)}\")\n",
    "\n",
    "# Select only NUMERIC columns for correlation\n",
    "numeric_cols = df.select_dtypes(include=[np.number]).columns.tolist()\n",
    "print(f\"\\n🔢 Numeric features: {len(numeric_cols)}\")\n",
    "\n",
    "# Show correlation with target (only if target exists and is numeric)\n",
    "if 'aqi_next_24h' in numeric_cols:\n",
    "    print(f\"\\n🎯 Top 15 Features Correlated with Target (aqi_next_24h):\")\n",
    "    correlations = df[numeric_cols].corr()['aqi_next_24h'].abs().sort_values(ascending=False)\n",
    "    \n",
    "    # Display top correlations\n",
    "    for idx, (feature, corr) in enumerate(correlations.head(15).items(), 1):\n",
    "        if feature != 'aqi_next_24h':  # Skip target itself\n",
    "            bar = '█' * int(corr * 20)  # Visual bar\n",
    "            print(f\"   {idx:2d}. {feature:35s}: {corr:.3f} {bar}\")\n",
    "else:\n",
    "    print(\"\\n⚠️  Target variable not yet created or not numeric\")\n",
    "    correlations = None"
   ]
  },
  {
   "cell_type": "code",
   "execution_count": 13,
   "id": "a2cd6ea3-c797-435f-9081-e0be0db5a66f",
   "metadata": {},
   "outputs": [
    {
     "data": {
      "application/vnd.plotly.v1+json": {
       "config": {
        "plotlyServerURL": "https://plot.ly"
       },
       "data": [
        {
         "colorbar": {
          "title": {
           "text": "Correlation"
          }
         },
         "colorscale": [
          [
           0,
           "rgb(103,0,31)"
          ],
          [
           0.1,
           "rgb(178,24,43)"
          ],
          [
           0.2,
           "rgb(214,96,77)"
          ],
          [
           0.3,
           "rgb(244,165,130)"
          ],
          [
           0.4,
           "rgb(253,219,199)"
          ],
          [
           0.5,
           "rgb(247,247,247)"
          ],
          [
           0.6,
           "rgb(209,229,240)"
          ],
          [
           0.7,
           "rgb(146,197,222)"
          ],
          [
           0.8,
           "rgb(67,147,195)"
          ],
          [
           0.9,
           "rgb(33,102,172)"
          ],
          [
           1,
           "rgb(5,48,97)"
          ]
         ],
         "text": {
          "bdata": "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",
          "dtype": "f8",
          "shape": "21, 21"
         },
         "textfont": {
          "size": 8
         },
         "texttemplate": "%{text}",
         "type": "heatmap",
         "x": [
          "aqi_pct_change_12h",
          "aqi_change_12h",
          "pm2_5_change_12h",
          "pm10_change_12h",
          "pm2_5_pct_change_12h",
          "pm10_pct_change_12h",
          "aqi_lag_1h",
          "aqi",
          "aqi_rolling_min_3h",
          "aqi_lag_6h",
          "aqi_rolling_mean_3h",
          "aqi_lag_3h",
          "aqi_rolling_mean_6h",
          "aqi_rolling_mean_12h",
          "aqi_rolling_mean_24h",
          "aqi_rolling_min_6h",
          "aqi_rolling_min_24h",
          "aqi_rolling_min_12h",
          "aqi_rolling_max_3h",
          "aqi_rolling_std_24h",
          "aqi_next_24h"
         ],
         "y": [
          "aqi_pct_change_12h",
          "aqi_change_12h",
          "pm2_5_change_12h",
          "pm10_change_12h",
          "pm2_5_pct_change_12h",
          "pm10_pct_change_12h",
          "aqi_lag_1h",
          "aqi",
          "aqi_rolling_min_3h",
          "aqi_lag_6h",
          "aqi_rolling_mean_3h",
          "aqi_lag_3h",
          "aqi_rolling_mean_6h",
          "aqi_rolling_mean_12h",
          "aqi_rolling_mean_24h",
          "aqi_rolling_min_6h",
          "aqi_rolling_min_24h",
          "aqi_rolling_min_12h",
          "aqi_rolling_max_3h",
          "aqi_rolling_std_24h",
          "aqi_next_24h"
         ],
         "z": {
          "bdata": "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",
          "dtype": "f8",
          "shape": "21, 21"
         },
         "zmid": 0
        }
       ],
       "layout": {
        "height": 700,
        "template": {
         "data": {
          "bar": [
           {
            "error_x": {
             "color": "#2a3f5f"
            },
            "error_y": {
             "color": "#2a3f5f"
            },
            "marker": {
             "line": {
              "color": "#E5ECF6",
              "width": 0.5
             },
             "pattern": {
              "fillmode": "overlay",
              "size": 10,
              "solidity": 0.2
             }
            },
            "type": "bar"
           }
          ],
          "barpolar": [
           {
            "marker": {
             "line": {
              "color": "#E5ECF6",
              "width": 0.5
             },
             "pattern": {
              "fillmode": "overlay",
              "size": 10,
              "solidity": 0.2
             }
            },
            "type": "barpolar"
           }
          ],
          "carpet": [
           {
            "aaxis": {
             "endlinecolor": "#2a3f5f",
             "gridcolor": "white",
             "linecolor": "white",
             "minorgridcolor": "white",
             "startlinecolor": "#2a3f5f"
            },
            "baxis": {
             "endlinecolor": "#2a3f5f",
             "gridcolor": "white",
             "linecolor": "white",
             "minorgridcolor": "white",
             "startlinecolor": "#2a3f5f"
            },
            "type": "carpet"
           }
          ],
          "choropleth": [
           {
            "colorbar": {
             "outlinewidth": 0,
             "ticks": ""
            },
            "type": "choropleth"
           }
          ],
          "contour": [
           {
            "colorbar": {
             "outlinewidth": 0,
             "ticks": ""
            },
            "colorscale": [
             [
              0,
              "#0d0887"
             ],
             [
              0.1111111111111111,
              "#46039f"
             ],
             [
              0.2222222222222222,
              "#7201a8"
             ],
             [
              0.3333333333333333,
              "#9c179e"
             ],
             [
              0.4444444444444444,
              "#bd3786"
             ],
             [
              0.5555555555555556,
              "#d8576b"
             ],
             [
              0.6666666666666666,
              "#ed7953"
             ],
             [
              0.7777777777777778,
              "#fb9f3a"
             ],
             [
              0.8888888888888888,
              "#fdca26"
             ],
             [
              1,
              "#f0f921"
             ]
            ],
            "type": "contour"
           }
          ],
          "contourcarpet": [
           {
            "colorbar": {
             "outlinewidth": 0,
             "ticks": ""
            },
            "type": "contourcarpet"
           }
          ],
          "heatmap": [
           {
            "colorbar": {
             "outlinewidth": 0,
             "ticks": ""
            },
            "colorscale": [
             [
              0,
              "#0d0887"
             ],
             [
              0.1111111111111111,
              "#46039f"
             ],
             [
              0.2222222222222222,
              "#7201a8"
             ],
             [
              0.3333333333333333,
              "#9c179e"
             ],
             [
              0.4444444444444444,
              "#bd3786"
             ],
             [
              0.5555555555555556,
              "#d8576b"
             ],
             [
              0.6666666666666666,
              "#ed7953"
             ],
             [
              0.7777777777777778,
              "#fb9f3a"
             ],
             [
              0.8888888888888888,
              "#fdca26"
             ],
             [
              1,
              "#f0f921"
             ]
            ],
            "type": "heatmap"
           }
          ],
          "histogram": [
           {
            "marker": {
             "pattern": {
              "fillmode": "overlay",
              "size": 10,
              "solidity": 0.2
             }
            },
            "type": "histogram"
           }
          ],
          "histogram2d": [
           {
            "colorbar": {
             "outlinewidth": 0,
             "ticks": ""
            },
            "colorscale": [
             [
              0,
              "#0d0887"
             ],
             [
              0.1111111111111111,
              "#46039f"
             ],
             [
              0.2222222222222222,
              "#7201a8"
             ],
             [
              0.3333333333333333,
              "#9c179e"
             ],
             [
              0.4444444444444444,
              "#bd3786"
             ],
             [
              0.5555555555555556,
              "#d8576b"
             ],
             [
              0.6666666666666666,
              "#ed7953"
             ],
             [
              0.7777777777777778,
              "#fb9f3a"
             ],
             [
              0.8888888888888888,
              "#fdca26"
             ],
             [
              1,
              "#f0f921"
             ]
            ],
            "type": "histogram2d"
           }
          ],
          "histogram2dcontour": [
           {
            "colorbar": {
             "outlinewidth": 0,
             "ticks": ""
            },
            "colorscale": [
             [
              0,
              "#0d0887"
             ],
             [
              0.1111111111111111,
              "#46039f"
             ],
             [
              0.2222222222222222,
              "#7201a8"
             ],
             [
              0.3333333333333333,
              "#9c179e"
             ],
             [
              0.4444444444444444,
              "#bd3786"
             ],
             [
              0.5555555555555556,
              "#d8576b"
             ],
             [
              0.6666666666666666,
              "#ed7953"
             ],
             [
              0.7777777777777778,
              "#fb9f3a"
             ],
             [
              0.8888888888888888,
              "#fdca26"
             ],
             [
              1,
              "#f0f921"
             ]
            ],
            "type": "histogram2dcontour"
           }
          ],
          "mesh3d": [
           {
            "colorbar": {
             "outlinewidth": 0,
             "ticks": ""
            },
            "type": "mesh3d"
           }
          ],
          "parcoords": [
           {
            "line": {
             "colorbar": {
              "outlinewidth": 0,
              "ticks": ""
             }
            },
            "type": "parcoords"
           }
          ],
          "pie": [
           {
            "automargin": true,
            "type": "pie"
           }
          ],
          "scatter": [
           {
            "fillpattern": {
             "fillmode": "overlay",
             "size": 10,
             "solidity": 0.2
            },
            "type": "scatter"
           }
          ],
          "scatter3d": [
           {
            "line": {
             "colorbar": {
              "outlinewidth": 0,
              "ticks": ""
             }
            },
            "marker": {
             "colorbar": {
              "outlinewidth": 0,
              "ticks": ""
             }
            },
            "type": "scatter3d"
           }
          ],
          "scattercarpet": [
           {
            "marker": {
             "colorbar": {
              "outlinewidth": 0,
              "ticks": ""
             }
            },
            "type": "scattercarpet"
           }
          ],
          "scattergeo": [
           {
            "marker": {
             "colorbar": {
              "outlinewidth": 0,
              "ticks": ""
             }
            },
            "type": "scattergeo"
           }
          ],
          "scattergl": [
           {
            "marker": {
             "colorbar": {
              "outlinewidth": 0,
              "ticks": ""
             }
            },
            "type": "scattergl"
           }
          ],
          "scattermap": [
           {
            "marker": {
             "colorbar": {
              "outlinewidth": 0,
              "ticks": ""
             }
            },
            "type": "scattermap"
           }
          ],
          "scattermapbox": [
           {
            "marker": {
             "colorbar": {
              "outlinewidth": 0,
              "ticks": ""
             }
            },
            "type": "scattermapbox"
           }
          ],
          "scatterpolar": [
           {
            "marker": {
             "colorbar": {
              "outlinewidth": 0,
              "ticks": ""
             }
            },
            "type": "scatterpolar"
           }
          ],
          "scatterpolargl": [
           {
            "marker": {
             "colorbar": {
              "outlinewidth": 0,
              "ticks": ""
             }
            },
            "type": "scatterpolargl"
           }
          ],
          "scatterternary": [
           {
            "marker": {
             "colorbar": {
              "outlinewidth": 0,
              "ticks": ""
             }
            },
            "type": "scatterternary"
           }
          ],
          "surface": [
           {
            "colorbar": {
             "outlinewidth": 0,
             "ticks": ""
            },
            "colorscale": [
             [
              0,
              "#0d0887"
             ],
             [
              0.1111111111111111,
              "#46039f"
             ],
             [
              0.2222222222222222,
              "#7201a8"
             ],
             [
              0.3333333333333333,
              "#9c179e"
             ],
             [
              0.4444444444444444,
              "#bd3786"
             ],
             [
              0.5555555555555556,
              "#d8576b"
             ],
             [
              0.6666666666666666,
              "#ed7953"
             ],
             [
              0.7777777777777778,
              "#fb9f3a"
             ],
             [
              0.8888888888888888,
              "#fdca26"
             ],
             [
              1,
              "#f0f921"
             ]
            ],
            "type": "surface"
           }
          ],
          "table": [
           {
            "cells": {
             "fill": {
              "color": "#EBF0F8"
             },
             "line": {
              "color": "white"
             }
            },
            "header": {
             "fill": {
              "color": "#C8D4E3"
             },
             "line": {
              "color": "white"
             }
            },
            "type": "table"
           }
          ]
         },
         "layout": {
          "annotationdefaults": {
           "arrowcolor": "#2a3f5f",
           "arrowhead": 0,
           "arrowwidth": 1
          },
          "autotypenumbers": "strict",
          "coloraxis": {
           "colorbar": {
            "outlinewidth": 0,
            "ticks": ""
           }
          },
          "colorscale": {
           "diverging": [
            [
             0,
             "#8e0152"
            ],
            [
             0.1,
             "#c51b7d"
            ],
            [
             0.2,
             "#de77ae"
            ],
            [
             0.3,
             "#f1b6da"
            ],
            [
             0.4,
             "#fde0ef"
            ],
            [
             0.5,
             "#f7f7f7"
            ],
            [
             0.6,
             "#e6f5d0"
            ],
            [
             0.7,
             "#b8e186"
            ],
            [
             0.8,
             "#7fbc41"
            ],
            [
             0.9,
             "#4d9221"
            ],
            [
             1,
             "#276419"
            ]
           ],
           "sequential": [
            [
             0,
             "#0d0887"
            ],
            [
             0.1111111111111111,
             "#46039f"
            ],
            [
             0.2222222222222222,
             "#7201a8"
            ],
            [
             0.3333333333333333,
             "#9c179e"
            ],
            [
             0.4444444444444444,
             "#bd3786"
            ],
            [
             0.5555555555555556,
             "#d8576b"
            ],
            [
             0.6666666666666666,
             "#ed7953"
            ],
            [
             0.7777777777777778,
             "#fb9f3a"
            ],
            [
             0.8888888888888888,
             "#fdca26"
            ],
            [
             1,
             "#f0f921"
            ]
           ],
           "sequentialminus": [
            [
             0,
             "#0d0887"
            ],
            [
             0.1111111111111111,
             "#46039f"
            ],
            [
             0.2222222222222222,
             "#7201a8"
            ],
            [
             0.3333333333333333,
             "#9c179e"
            ],
            [
             0.4444444444444444,
             "#bd3786"
            ],
            [
             0.5555555555555556,
             "#d8576b"
            ],
            [
             0.6666666666666666,
             "#ed7953"
            ],
            [
             0.7777777777777778,
             "#fb9f3a"
            ],
            [
             0.8888888888888888,
             "#fdca26"
            ],
            [
             1,
             "#f0f921"
            ]
           ]
          },
          "colorway": [
           "#636efa",
           "#EF553B",
           "#00cc96",
           "#ab63fa",
           "#FFA15A",
           "#19d3f3",
           "#FF6692",
           "#B6E880",
           "#FF97FF",
           "#FECB52"
          ],
          "font": {
           "color": "#2a3f5f"
          },
          "geo": {
           "bgcolor": "white",
           "lakecolor": "white",
           "landcolor": "#E5ECF6",
           "showlakes": true,
           "showland": true,
           "subunitcolor": "white"
          },
          "hoverlabel": {
           "align": "left"
          },
          "hovermode": "closest",
          "mapbox": {
           "style": "light"
          },
          "paper_bgcolor": "white",
          "plot_bgcolor": "#E5ECF6",
          "polar": {
           "angularaxis": {
            "gridcolor": "white",
            "linecolor": "white",
            "ticks": ""
           },
           "bgcolor": "#E5ECF6",
           "radialaxis": {
            "gridcolor": "white",
            "linecolor": "white",
            "ticks": ""
           }
          },
          "scene": {
           "xaxis": {
            "backgroundcolor": "#E5ECF6",
            "gridcolor": "white",
            "gridwidth": 2,
            "linecolor": "white",
            "showbackground": true,
            "ticks": "",
            "zerolinecolor": "white"
           },
           "yaxis": {
            "backgroundcolor": "#E5ECF6",
            "gridcolor": "white",
            "gridwidth": 2,
            "linecolor": "white",
            "showbackground": true,
            "ticks": "",
            "zerolinecolor": "white"
           },
           "zaxis": {
            "backgroundcolor": "#E5ECF6",
            "gridcolor": "white",
            "gridwidth": 2,
            "linecolor": "white",
            "showbackground": true,
            "ticks": "",
            "zerolinecolor": "white"
           }
          },
          "shapedefaults": {
           "line": {
            "color": "#2a3f5f"
           }
          },
          "ternary": {
           "aaxis": {
            "gridcolor": "white",
            "linecolor": "white",
            "ticks": ""
           },
           "baxis": {
            "gridcolor": "white",
            "linecolor": "white",
            "ticks": ""
           },
           "bgcolor": "#E5ECF6",
           "caxis": {
            "gridcolor": "white",
            "linecolor": "white",
            "ticks": ""
           }
          },
          "title": {
           "x": 0.05
          },
          "xaxis": {
           "automargin": true,
           "gridcolor": "white",
           "linecolor": "white",
           "ticks": "",
           "title": {
            "standoff": 15
           },
           "zerolinecolor": "white",
           "zerolinewidth": 2
          },
          "yaxis": {
           "automargin": true,
           "gridcolor": "white",
           "linecolor": "white",
           "ticks": "",
           "title": {
            "standoff": 15
           },
           "zerolinecolor": "white",
           "zerolinewidth": 2
          }
         }
        },
        "title": {
         "text": "Top 20 Features - Correlation Matrix<br><sub>Blue = Negative, Red = Positive</sub>"
        },
        "width": 750,
        "xaxis": {
         "tickangle": -45
        }
       }
      },
      "image/png": "[encoded data removed]"
     },
     "metadata": {},
     "output_type": "display_data"
    },
    {
     "name": "stdout",
     "output_type": "stream",
     "text": [
      "\n",
      "💡 Key insights:\n",
      "   • Features strongly correlated with target are most predictive\n",
      "   • Lag features (past AQI values) usually have strongest correlation\n",
      "   • Rolling means capture trends well\n",
      "   • Look for dark red/blue cells in the bottom row (correlation with target)\n"
     ]
    }
   ],
   "source": [
    "# Visualize feature importance\n",
    "if correlations is not None and len(correlations) > 1:\n",
    "    # Get top features (skip target itself)\n",
    "    top_features = correlations.head(21).index.tolist()  # Get 21 to ensure we have 20 after removing target\n",
    "    if 'aqi_next_24h' in top_features:\n",
    "        top_features.remove('aqi_next_24h')\n",
    "    top_features = top_features[:20]  # Keep top 20\n",
    "    top_features.append('aqi_next_24h')  # Add target back at end\n",
    "    \n",
    "    # Create correlation matrix for top features\n",
    "    corr_matrix = df[top_features].corr()\n",
    "    \n",
    "    fig = go.Figure(data=go.Heatmap(\n",
    "        z=corr_matrix.values,\n",
    "        x=corr_matrix.columns,\n",
    "        y=corr_matrix.columns,\n",
    "        colorscale='RdBu',\n",
    "        zmid=0,\n",
    "        text=corr_matrix.values.round(2),\n",
    "        texttemplate='%{text}',\n",
    "        textfont={\"size\": 8},\n",
    "        colorbar=dict(title=\"Correlation\")\n",
    "    ))\n",
    "    \n",
    "    fig.update_layout(\n",
    "        title='Top 20 Features - Correlation Matrix<br><sub>Blue = Negative, Red = Positive</sub>',\n",
    "        height=700,\n",
    "        width=750,\n",
    "        xaxis_tickangle=-45\n",
    "    )\n",
    "    \n",
    "    fig.show()\n",
    "    \n",
    "    print(\"\\n💡 Key insights:\")\n",
    "    print(\"   • Features strongly correlated with target are most predictive\")\n",
    "    print(\"   • Lag features (past AQI values) usually have strongest correlation\")\n",
    "    print(\"   • Rolling means capture trends well\")\n",
    "    print(\"   • Look for dark red/blue cells in the bottom row (correlation with target)\")\n",
    "else:\n",
    "    print(\"⚠️  Not enough numeric features for correlation visualization\")"
   ]
  },
  {
   "cell_type": "code",
   "execution_count": 14,
   "id": "4b7132c9-4af4-432e-822c-28aba0596e0b",
   "metadata": {},
   "outputs": [
    {
     "name": "stdout",
     "output_type": "stream",
     "text": [
      "================================================================================\n",
      "MISSING VALUES ANALYSIS\n",
      "================================================================================\n",
      "\n",
      "⚠️  Columns with missing values:\n"
     ]
    },
    {
     "data": {
      "text/html": [
       "<div>\n",
       "<style scoped>\n",
       "    .dataframe tbody tr th:only-of-type {\n",
       "        vertical-align: middle;\n",
       "    }\n",
       "\n",
       "    .dataframe tbody tr th {\n",
       "        vertical-align: top;\n",
       "    }\n",
       "\n",
       "    .dataframe thead th {\n",
       "        text-align: right;\n",
       "    }\n",
       "</style>\n",
       "<table border=\"1\" class=\"dataframe\">\n",
       "  <thead>\n",
       "    <tr style=\"text-align: right;\">\n",
       "      <th></th>\n",
       "      <th>Missing Count</th>\n",
       "      <th>Percentage</th>\n",
       "    </tr>\n",
       "  </thead>\n",
       "  <tbody>\n",
       "    <tr>\n",
       "      <th>aqi_next_24h</th>\n",
       "      <td>144</td>\n",
       "      <td>64.86</td>\n",
       "    </tr>\n",
       "    <tr>\n",
       "      <th>pm2_5_lag_24h</th>\n",
       "      <td>144</td>\n",
       "      <td>64.86</td>\n",
       "    </tr>\n",
       "    <tr>\n",
       "      <th>aqi_lag_24h</th>\n",
       "      <td>144</td>\n",
       "      <td>64.86</td>\n",
       "    </tr>\n",
       "    <tr>\n",
       "      <th>pm10_lag_24h</th>\n",
       "      <td>144</td>\n",
       "      <td>64.86</td>\n",
       "    </tr>\n",
       "    <tr>\n",
       "      <th>o3_lag_24h</th>\n",
       "      <td>144</td>\n",
       "      <td>64.86</td>\n",
       "    </tr>\n",
       "    <tr>\n",
       "      <th>no2_lag_24h</th>\n",
       "      <td>144</td>\n",
       "      <td>64.86</td>\n",
       "    </tr>\n",
       "    <tr>\n",
       "      <th>pm10_lag_12h</th>\n",
       "      <td>72</td>\n",
       "      <td>32.43</td>\n",
       "    </tr>\n",
       "    <tr>\n",
       "      <th>aqi_lag_12h</th>\n",
       "      <td>72</td>\n",
       "      <td>32.43</td>\n",
       "    </tr>\n",
       "    <tr>\n",
       "      <th>pm10_change_12h</th>\n",
       "      <td>72</td>\n",
       "      <td>32.43</td>\n",
       "    </tr>\n",
       "    <tr>\n",
       "      <th>pm10_pct_change_12h</th>\n",
       "      <td>72</td>\n",
       "      <td>32.43</td>\n",
       "    </tr>\n",
       "    <tr>\n",
       "      <th>no2_lag_12h</th>\n",
       "      <td>72</td>\n",
       "      <td>32.43</td>\n",
       "    </tr>\n",
       "    <tr>\n",
       "      <th>pm2_5_pct_change_12h</th>\n",
       "      <td>72</td>\n",
       "      <td>32.43</td>\n",
       "    </tr>\n",
       "    <tr>\n",
       "      <th>pm2_5_lag_12h</th>\n",
       "      <td>72</td>\n",
       "      <td>32.43</td>\n",
       "    </tr>\n",
       "    <tr>\n",
       "      <th>o3_lag_12h</th>\n",
       "      <td>72</td>\n",
       "      <td>32.43</td>\n",
       "    </tr>\n",
       "    <tr>\n",
       "      <th>aqi_pct_change_12h</th>\n",
       "      <td>72</td>\n",
       "      <td>32.43</td>\n",
       "    </tr>\n",
       "    <tr>\n",
       "      <th>aqi_change_12h</th>\n",
       "      <td>72</td>\n",
       "      <td>32.43</td>\n",
       "    </tr>\n",
       "    <tr>\n",
       "      <th>pm2_5_change_12h</th>\n",
       "      <td>72</td>\n",
       "      <td>32.43</td>\n",
       "    </tr>\n",
       "    <tr>\n",
       "      <th>pm2_5_change_6h</th>\n",
       "      <td>36</td>\n",
       "      <td>16.22</td>\n",
       "    </tr>\n",
       "    <tr>\n",
       "      <th>pm2_5_pct_change_6h</th>\n",
       "      <td>36</td>\n",
       "      <td>16.22</td>\n",
       "    </tr>\n",
       "    <tr>\n",
       "      <th>pm2_5_lag_6h</th>\n",
       "      <td>36</td>\n",
       "      <td>16.22</td>\n",
       "    </tr>\n",
       "  </tbody>\n",
       "</table>\n",
       "</div>"
      ],
      "text/plain": [
       "                      Missing Count  Percentage\n",
       "aqi_next_24h                    144       64.86\n",
       "pm2_5_lag_24h                   144       64.86\n",
       "aqi_lag_24h                     144       64.86\n",
       "pm10_lag_24h                    144       64.86\n",
       "o3_lag_24h                      144       64.86\n",
       "no2_lag_24h                     144       64.86\n",
       "pm10_lag_12h                     72       32.43\n",
       "aqi_lag_12h                      72       32.43\n",
       "pm10_change_12h                  72       32.43\n",
       "pm10_pct_change_12h              72       32.43\n",
       "no2_lag_12h                      72       32.43\n",
       "pm2_5_pct_change_12h             72       32.43\n",
       "pm2_5_lag_12h                    72       32.43\n",
       "o3_lag_12h                       72       32.43\n",
       "aqi_pct_change_12h               72       32.43\n",
       "aqi_change_12h                   72       32.43\n",
       "pm2_5_change_12h                 72       32.43\n",
       "pm2_5_change_6h                  36       16.22\n",
       "pm2_5_pct_change_6h              36       16.22\n",
       "pm2_5_lag_6h                     36       16.22"
      ]
     },
     "metadata": {},
     "output_type": "display_data"
    },
    {
     "name": "stdout",
     "output_type": "stream",
     "text": [
      "\n",
      "💡 Expected missing values:\n",
      "   • Lag features: First 24 records per city (no history)\n",
      "   • Target variable: Last 24 records per city (no future)\n",
      "   • This is normal for time series data!\n",
      "\n",
      "✅ Usable records for modeling: 0/222 (0.0%)\n"
     ]
    }
   ],
   "source": [
    "# Check for missing values\n",
    "print(\"=\" * 80)\n",
    "print(\"MISSING VALUES ANALYSIS\")\n",
    "print(\"=\" * 80)\n",
    "\n",
    "missing = df.isnull().sum()\n",
    "missing_pct = (missing / len(df) * 100).round(2)\n",
    "\n",
    "missing_df = pd.DataFrame({\n",
    "    'Missing Count': missing,\n",
    "    'Percentage': missing_pct\n",
    "}).sort_values('Missing Count', ascending=False)\n",
    "\n",
    "print(f\"\\n⚠️  Columns with missing values:\")\n",
    "display(missing_df[missing_df['Missing Count'] > 0].head(20))\n",
    "\n",
    "print(f\"\\n💡 Expected missing values:\")\n",
    "print(f\"   • Lag features: First {max(lag_periods)} records per city (no history)\")\n",
    "print(f\"   • Target variable: Last 24 records per city (no future)\")\n",
    "print(f\"   • This is normal for time series data!\")\n",
    "\n",
    "# Calculate usable records (those with complete features AND target)\n",
    "usable = df['aqi_next_24h'].notna() & df['aqi_lag_24h'].notna()\n",
    "print(f\"\\n✅ Usable records for modeling: {usable.sum()}/{len(df)} ({usable.sum()/len(df)*100:.1f}%)\")"
   ]
  },
  {
   "cell_type": "markdown",
   "id": "d649ed6d-46d6-4ebe-aeff-b9683cc21cad",
   "metadata": {},
   "source": [
    "## 8. Save Feature-Engineered Dataset 💾"
   ]
  },
  {
   "cell_type": "code",
   "execution_count": 15,
   "id": "39a27ece-aa55-4b7a-8848-9c8fb8b30b58",
   "metadata": {},
   "outputs": [
    {
     "name": "stdout",
     "output_type": "stream",
     "text": [
      "================================================================================\n",
      "SAVING FEATURE-ENGINEERED DATASET\n",
      "================================================================================\n",
      "\n",
      "📊 Dataset for modeling:\n",
      "   • Total features: 170\n",
      "   • Total records: 0\n",
      "   • Cities: 0\n",
      "   • Date range: NaT to NaT\n",
      "\n",
      "✅ Saved to: /Users/davideferreri/Documents/GitHub/City-Air-Quality-Index-Predictor-with-Live-Data-Pipeline/data/processed/features_engineered.csv\n",
      "   File size: 2.66 KB\n",
      "✅ Saved feature metadata to: /Users/davideferreri/Documents/GitHub/City-Air-Quality-Index-Predictor-with-Live-Data-Pipeline/data/processed/feature_names.json\n"
     ]
    }
   ],
   "source": [
    "# Save feature-engineered dataset\n",
    "print(\"=\" * 80)\n",
    "print(\"SAVING FEATURE-ENGINEERED DATASET\")\n",
    "print(\"=\" * 80)\n",
    "\n",
    "# Create clean version with only complete records\n",
    "df_modeling = df[df['aqi_next_24h'].notna() & df['aqi_lag_24h'].notna()].copy()\n",
    "\n",
    "print(f\"\\n📊 Dataset for modeling:\")\n",
    "print(f\"   • Total features: {len(df_modeling.columns)}\")\n",
    "print(f\"   • Total records: {len(df_modeling)}\")\n",
    "print(f\"   • Cities: {df_modeling['city_name'].nunique()}\")\n",
    "print(f\"   • Date range: {df_modeling['timestamp'].min()} to {df_modeling['timestamp'].max()}\")\n",
    "\n",
    "# Save to CSV\n",
    "output_path = project_root / 'data' / 'processed' / 'features_engineered.csv'\n",
    "df_modeling.to_csv(output_path, index=False)\n",
    "\n",
    "print(f\"\\n✅ Saved to: {output_path}\")\n",
    "print(f\"   File size: {output_path.stat().st_size / 1024:.2f} KB\")\n",
    "\n",
    "# Also save feature names for reference\n",
    "feature_names = {\n",
    "    'all_features': list(df_modeling.columns),\n",
    "    'target': 'aqi_next_24h',\n",
    "    'id_columns': ['timestamp', 'city_key', 'city_name', 'country'],\n",
    "    'original_pollutants': ['aqi', 'pm2_5', 'pm10', 'no2', 'o3', 'co', 'so2'],\n",
    "    'engineered_features': [col for col in df_modeling.columns if any(x in col for x in ['lag', 'rolling', 'change', 'sin', 'cos'])]\n",
    "}\n",
    "\n",
    "import json\n",
    "feature_path = project_root / 'data' / 'processed' / 'feature_names.json'\n",
    "with open(feature_path, 'w') as f:\n",
    "    json.dump(feature_names, f, indent=2)\n",
    "\n",
    "print(f\"✅ Saved feature metadata to: {feature_path}\")"
   ]
  },
  {
   "cell_type": "code",
   "execution_count": 16,
   "id": "dd7ff7d5-0c55-42ca-a2e0-afebad4ffbc7",
   "metadata": {},
   "outputs": [
    {
     "name": "stdout",
     "output_type": "stream",
     "text": [
      "================================================================================\n",
      "FEATURE ENGINEERING COMPLETE! 🎉\n",
      "================================================================================\n",
      "\n",
      "📊 What we created:\n",
      "   ✅ 13 time-based features\n",
      "   ✅ 25 lag features\n",
      "   ✅ 80 rolling statistics\n",
      "   ✅ 24 rate of change features\n",
      "   ✅ 8 interaction features\n",
      "   ✅ 1 target variable (aqi_next_24h)\n",
      "\n",
      "📈 Dataset ready for modeling:\n",
      "   • 0 training samples\n",
      "   • 169 features (excluding target)\n",
      "   • Saved to: data/processed/features_engineered.csv\n",
      "\n",
      "🎯 Next Steps:\n",
      "   1. ✅ Feature engineering complete\n",
      "   2. 📊 Ready for statistical analysis (Notebook 04)\n",
      "   3. 🤖 Ready for model training (Phase 3)\n",
      "\n",
      "💡 Key Predictive Features (Top 5):\n",
      "   1. aqi_pct_change_12h            : 1.000\n",
      "   2. aqi_change_12h                : 1.000\n",
      "   3. pm2_5_change_12h              : 0.821\n",
      "   4. pm10_change_12h               : 0.730\n",
      "   5. pm2_5_pct_change_12h          : 0.698\n",
      "\n",
      "================================================================================\n"
     ]
    }
   ],
   "source": [
    "# Final summary\n",
    "print(\"=\" * 80)\n",
    "print(\"FEATURE ENGINEERING COMPLETE! 🎉\")\n",
    "print(\"=\" * 80)\n",
    "\n",
    "print(f\"\\n📊 What we created:\")\n",
    "print(f\"   ✅ {len(feature_categories['Time-based'])} time-based features\")\n",
    "print(f\"   ✅ {len(feature_categories['Lag'])} lag features\")\n",
    "print(f\"   ✅ {len(feature_categories['Rolling'])} rolling statistics\")\n",
    "print(f\"   ✅ {len(feature_categories['Change'])} rate of change features\")\n",
    "print(f\"   ✅ {len(feature_categories['Interaction'])} interaction features\")\n",
    "print(f\"   ✅ 1 target variable (aqi_next_24h)\")\n",
    "\n",
    "print(f\"\\n📈 Dataset ready for modeling:\")\n",
    "print(f\"   • {len(df_modeling)} training samples\")\n",
    "print(f\"   • {len(df_modeling.columns) - 1} features (excluding target)\")\n",
    "print(f\"   • Saved to: data/processed/features_engineered.csv\")\n",
    "\n",
    "print(f\"\\n🎯 Next Steps:\")\n",
    "print(f\"   1. ✅ Feature engineering complete\")\n",
    "print(f\"   2. 📊 Ready for statistical analysis (Notebook 04)\")\n",
    "print(f\"   3. 🤖 Ready for model training (Phase 3)\")\n",
    "\n",
    "print(f\"\\n💡 Key Predictive Features (Top 5):\")\n",
    "top_5 = correlations.head(6).iloc[1:]  # Skip target itself\n",
    "for idx, (feature, corr) in enumerate(top_5.items(), 1):\n",
    "    print(f\"   {idx}. {feature:30s}: {corr:.3f}\")\n",
    "\n",
    "print(\"\\n\" + \"=\" * 80)"
   ]
  },
  {
   "cell_type": "markdown",
   "id": "a584abeb-f78c-4445-a99c-57dc832ced1a",
   "metadata": {},
   "source": [
    "## 🎯 Summary & Key Takeaways\n",
    "\n",
    "### **What We Accomplished:**\n",
    "\n",
    "1. **Time Features** ⏰\n",
    "   - Cyclical encodings (sin/cos) for hour, day, month\n",
    "   - Part of day, rush hour indicators\n",
    "   - Season categorization\n",
    "\n",
    "2. **Lag Features** 📊\n",
    "   - Historical values from 1h, 3h, 6h, 12h, 24h ago\n",
    "   - Strong predictors (especially 24h lag)\n",
    "\n",
    "3. **Rolling Statistics** 📈\n",
    "   - Moving averages (3h, 6h, 12h, 24h windows)\n",
    "   - Standard deviations (volatility measures)\n",
    "   - Min/max values (ranges)\n",
    "\n",
    "4. **Rate of Change** 📉\n",
    "   - Absolute and percentage changes\n",
    "   - Captures momentum and trends\n",
    "\n",
    "5. **Interaction Features** 🔗\n",
    "   - Combined features revealing complex patterns\n",
    "   - Weighted pollution scores\n",
    "\n",
    "### **Dataset Statistics:**\n",
    "- **Original records:** 216\n",
    "- **Usable for modeling:** ~168 (after removing records without complete lags/targets)\n",
    "- **Total features:** 150+\n",
    "- **Target variable:** `aqi_next_24h`\n",
    "\n",
    "### **Most Important Features:**\n",
    "1. `aqi_lag_24h` - AQI exactly 24 hours ago\n",
    "2. `aqi_rolling_mean_24h` - 24-hour average AQI\n",
    "3. `pm2_5_lag_24h` - PM2.5 from 24h ago\n",
    "4. `aqi` - Current AQI value\n",
    "5. `aqi_rolling_mean_12h` - 12-hour average\n",
    "\n",
    "### **Next Notebook:**\n",
    "**04_statistical_analysis.ipynb** will cover:\n",
    "- Hypothesis testing\n",
    "- Feature selection\n",
    "- Statistical validation\n",
    "- Final dataset preparation for modeling\n",
    "\n",
    "---\n",
    "\n",
    "**Feature Engineering Complete! Ready for Phase 3: Model Development** 🚀\n",
    "```\n",
    "\n",
    "---\n",
    "\n",
    "## 🎉 That's Notebook 03!\n",
    "\n",
    "### **What You've Built:**\n",
    "\n",
    "This is **THE MOST IMPORTANT** notebook because:\n",
    "- ✅ Created 150+ predictive features\n",
    "- ✅ Lag features capture historical patterns\n",
    "- ✅ Rolling statistics smooth trends\n",
    "- ✅ Rate of change shows momentum\n",
    "- ✅ Interaction features find hidden patterns\n",
    "- ✅ Dataset ready for ML models!\n",
    "\n",
    "### **Key Achievement:**\n",
    "\n",
    "You now have a dataset where each row looks like:\n",
    "```\n",
    "Current time: 2025-10-28 14:00\n",
    "Current AQI: 2\n",
    "AQI 1h ago: 2\n",
    "AQI 24h ago: 3\n",
    "24h average: 2.5\n",
    "...\n",
    "TARGET → AQI 24h from now: ? (this is what we'll predict!)"
   ]
  }
 ],
 "metadata": {
  "kernelspec": {
   "display_name": "Python 3 (ipykernel)",
   "language": "python",
   "name": "python3"
  },
  "language_info": {
   "codemirror_mode": {
    "name": "ipython",
    "version": 3
   },
   "file_extension": ".py",
   "mimetype": "text/x-python",
   "name": "python",
   "nbconvert_exporter": "python",
   "pygments_lexer": "ipython3",
   "version": "3.11.3"
  }
 },
 "nbformat": 4,
 "nbformat_minor": 5
}
